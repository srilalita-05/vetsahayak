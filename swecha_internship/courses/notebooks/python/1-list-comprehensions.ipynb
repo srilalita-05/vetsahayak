{
 "cells": [
  {
   "cell_type": "markdown",
   "metadata": {},
   "source": [
    "### List Comprehensions :\n",
    "\n",
    "List comprehensions provide a concise way to create lists. Common applications are to make new lists where each element is the result of some operations applied to each member of another sequence or iterable, or to create a subsequence of those elements that satisfy a certain condition.\n",
    "\n",
    "#### Syntax :\n",
    "\n",
    "[expression for item in iterable if condition] - Syntax \n",
    "\n",
    "* **expression**: The expression to evaluate or manipulate for each item in the iterable.\n",
    "* **item**: The variable representing each element in the iterable.\n",
    "* **iterable**: The sequence of elements (e.g., list, tuple, string) to iterate over.\n",
    "* **condition (optional)**: An optional condition that filters the elements."
   ]
  },
  {
   "cell_type": "code",
   "execution_count": 1,
   "metadata": {},
   "outputs": [
    {
     "name": "stdout",
     "output_type": "stream",
     "text": [
      "[0, 1, 4, 9, 16, 25, 36, 49, 64, 81]\n",
      "[0, 1, 4, 9, 16, 25, 36, 49, 64, 81]\n"
     ]
    }
   ],
   "source": [
    "# Square numbers from 0 to 9 using a for loop\n",
    "squares = []\n",
    "for i in range(10):\n",
    "    squares.append(i ** 2)\n",
    "print(squares)  \n",
    "\n",
    "# Square numbers from 0 to 9 using a list comprehension\n",
    "squares = [i ** 2 for i in range(10)]\n",
    "print(squares)  \n"
   ]
  },
  {
   "cell_type": "code",
   "execution_count": 2,
   "metadata": {},
   "outputs": [
    {
     "name": "stdout",
     "output_type": "stream",
     "text": [
      "[0, 2, 4, 6, 8]\n"
     ]
    }
   ],
   "source": [
    "# Get even numbers from 0 to 9 using a list comprehension with IF clause\n",
    "evens = [i for i in range(10) if i % 2 == 0]\n",
    "print(evens)  # Output: [0, 2, 4, 6, 8]\n"
   ]
  },
  {
   "cell_type": "code",
   "execution_count": null,
   "metadata": {},
   "outputs": [],
   "source": [
    "# Convert a string to a list of characters using a list comprehension\n",
    "string = \"hello\"\n",
    "chars = [char.upper() for char in string]\n",
    "print(chars)  # Output: ['H', 'E', 'L', 'L', 'O']\n"
   ]
  },
  {
   "cell_type": "code",
   "execution_count": null,
   "metadata": {},
   "outputs": [],
   "source": [
    "# Create a list of tuples using list comprehension\n",
    "pairs = [(x, y) for x in range(3) for y in range(3)]\n",
    "print(pairs)  # Output: [(0, 0), (0, 1), (0, 2), (1, 0), (1, 1), (1, 2), (2, 0), (2, 1), (2, 2)]\n"
   ]
  },
  {
   "cell_type": "markdown",
   "metadata": {},
   "source": [
    "The above examples are basic usage of list comprehension. Now we will be having some basic list comprehensions exercises"
   ]
  },
  {
   "cell_type": "code",
   "execution_count": 4,
   "metadata": {},
   "outputs": [
    {
     "name": "stdout",
     "output_type": "stream",
     "text": [
      "[0, 1, 4, 9, 16, 25, 36, 49, 64, 81]\n"
     ]
    }
   ],
   "source": [
    "#Write a list comprehension to generate a list of squares of numbers from 1 to 10.\n",
    "#Write your code here\n",
    "\n",
    "nums=[i**2 for i in range(10)]\n",
    "print(nums)"
   ]
  },
  {
   "cell_type": "code",
   "execution_count": null,
   "metadata": {
    "_kg_hide-input": true
   },
   "outputs": [],
   "source": [
    "squares = [x ** 2 for x in range(1, 11)]"
   ]
  },
  {
   "cell_type": "code",
   "execution_count": 8,
   "metadata": {},
   "outputs": [
    {
     "name": "stdout",
     "output_type": "stream",
     "text": [
      "[2, 4, 6, 8, 10]\n"
     ]
    }
   ],
   "source": [
    "#Given a list of numbers [1, 2, 3, 4, 5, 6, 7, 8, 9, 10], create a new list containing only the even numbers.\n",
    "#Write your code here\n",
    "nums=[1,2,3,4,5,6,7,8,9,10]\n",
    "even=[n for n in nums if n%2==0]\n",
    "print(even)"
   ]
  },
  {
   "cell_type": "code",
   "execution_count": null,
   "metadata": {
    "_kg_hide-input": true
   },
   "outputs": [
    {
     "name": "stdout",
     "output_type": "stream",
     "text": [
      "[2, 4, 6, 8, 10]\n"
     ]
    }
   ],
   "source": [
    "numbers = [1, 2, 3, 4, 5, 6, 7, 8, 9, 10]\n",
    "even_numbers = [x for x in numbers if x % 2 == 0]\n",
    "print(even_numbers)"
   ]
  },
  {
   "cell_type": "code",
   "execution_count": 10,
   "metadata": {},
   "outputs": [
    {
     "name": "stdout",
     "output_type": "stream",
     "text": [
      "['APPLE', 'BANANA', 'ORANGE']\n"
     ]
    }
   ],
   "source": [
    "#Write a list comprehension to convert a list of words ['apple', 'banana', 'orange'] into a list of uppercase words.\n",
    "#Write your code here\n",
    "list_fruits=['apple', 'banana', 'orange']\n",
    "u_c=[word.upper() for word in list_fruits]\n",
    "print(u_c)"
   ]
  },
  {
   "cell_type": "code",
   "execution_count": null,
   "metadata": {
    "_kg_hide-input": true
   },
   "outputs": [],
   "source": [
    "words = ['apple', 'banana', 'orange']\n",
    "uppercase_words = [word.upper() for word in words]"
   ]
  },
  {
   "cell_type": "code",
   "execution_count": 11,
   "metadata": {},
   "outputs": [
    {
     "name": "stdout",
     "output_type": "stream",
     "text": [
      "[0, 15]\n"
     ]
    }
   ],
   "source": [
    "#Generate a list of numbers from 1 to 20, but only include those that are divisible by both 3 and 5.\n",
    "#Write your code here\n",
    "\n",
    "num=[n for n in range(20) if n%3==0 and n%5==0]\n",
    "print(num)"
   ]
  },
  {
   "cell_type": "code",
   "execution_count": null,
   "metadata": {
    "_kg_hide-input": true
   },
   "outputs": [],
   "source": [
    "numbers = [x for x in range(1, 21) if x % 3 == 0 and x % 5 == 0]"
   ]
  },
  {
   "cell_type": "code",
   "execution_count": 12,
   "metadata": {},
   "outputs": [
    {
     "name": "stdout",
     "output_type": "stream",
     "text": [
      "[(0, 0), (0, 1), (0, 2), (1, 0), (1, 1), (1, 2), (2, 0), (2, 1), (2, 2)]\n"
     ]
    }
   ],
   "source": [
    "#Create a list of tuples (x, y) where x ranges from 0 to 2 and y ranges from 0 to 2.\n",
    "#Write your code here\n",
    "l=[(x,y) for x in range(3) for y in range(3)]\n",
    "print(l)"
   ]
  },
  {
   "cell_type": "code",
   "execution_count": null,
   "metadata": {
    "_kg_hide-input": true
   },
   "outputs": [],
   "source": [
    "pairs = [(x, y) for x in range(3) for y in range(3)]"
   ]
  },
  {
   "cell_type": "code",
   "execution_count": 16,
   "metadata": {},
   "outputs": [
    {
     "name": "stdout",
     "output_type": "stream",
     "text": [
      "[2, 4, 6, 8]\n"
     ]
    }
   ],
   "source": [
    "#Given a nested list [[1, 2, 3], [4, 5, 6], [7, 8, 9]], create a flat list containing only the even numbers.\n",
    "#Write your code here\n",
    "fl=[s for n in [[1, 2, 3], [4, 5, 6], [7, 8, 9]] for s in n if s%2==0]\n",
    "print(fl)"
   ]
  },
  {
   "cell_type": "code",
   "execution_count": null,
   "metadata": {
    "_kg_hide-input": true
   },
   "outputs": [],
   "source": [
    "nested_list = [[1, 2, 3], [4, 5, 6], [7, 8, 9]]\n",
    "even_numbers = [num for sublist in nested_list for num in sublist if num % 2 == 0]"
   ]
  },
  {
   "cell_type": "code",
   "execution_count": 20,
   "metadata": {},
   "outputs": [
    {
     "name": "stdout",
     "output_type": "stream",
     "text": [
      "[{'a': 1}, {'b': 4}, {'c': 9}]\n"
     ]
    }
   ],
   "source": [
    "#Given a dictionary {'a': 1, 'b': 2, 'c': 3}, create a new dictionary where the keys are the original keys and the values are their squares.\n",
    "#Write your code here\n",
    "\n",
    "dict={'a': 1, 'b': 2, 'c': 3}\n",
    "n_dict=[{k:v**2} for k,v in dict.items()]\n",
    "print(n_dict)"
   ]
  },
  {
   "cell_type": "code",
   "execution_count": null,
   "metadata": {
    "_kg_hide-input": true
   },
   "outputs": [],
   "source": [
    "original_dict = {'a': 1, 'b': 2, 'c': 3}\n",
    "squared_dict = {key: value ** 2 for key, value in original_dict.items()}"
   ]
  },
  {
   "cell_type": "code",
   "execution_count": 23,
   "metadata": {},
   "outputs": [
    {
     "name": "stdout",
     "output_type": "stream",
     "text": [
      "[(0, 'apple'), (1, 'banana'), (2, 'orange')]\n"
     ]
    }
   ],
   "source": [
    "#Given a list of words ['apple', 'banana', 'orange'], create a new list of tuples where each tuple contains the index of the word in the list and the word itself.\n",
    "#Write your code here\n",
    "words = ['apple', 'banana', 'orange']\n",
    "indexed_words = [(index, word) for index,word in enumerate(words)]\n",
    "print(indexed_words)"
   ]
  },
  {
   "cell_type": "code",
   "execution_count": 21,
   "metadata": {
    "_kg_hide-input": true
   },
   "outputs": [
    {
     "name": "stdout",
     "output_type": "stream",
     "text": [
      "[(0, 'apple'), (1, 'banana'), (2, 'orange')]\n"
     ]
    }
   ],
   "source": [
    "words = ['apple', 'banana', 'orange']\n",
    "indexed_words = [(index, word) for index, word in enumerate(words)]\n",
    "print(indexed_words)"
   ]
  },
  {
   "cell_type": "code",
   "execution_count": null,
   "metadata": {},
   "outputs": [],
   "source": [
    "#Given two lists [1, 2, 3] and [4, 5, 6], create a new list of tuples where each tuple contains corresponding elements from the two lists.\n",
    "#Write your code here"
   ]
  },
  {
   "cell_type": "code",
   "execution_count": null,
   "metadata": {
    "_kg_hide-input": true
   },
   "outputs": [],
   "source": [
    "list1 = [1, 2, 3]\n",
    "list2 = [4, 5, 6]\n",
    "zipped_lists = [(x, y) for x, y in zip(list1, list2)]"
   ]
  },
  {
   "cell_type": "code",
   "execution_count": null,
   "metadata": {},
   "outputs": [],
   "source": [
    "#Create a list of lists where the inner lists contain even numbers from 1 to n (inclusive), and n ranges from 1 to 5.\n",
    "#Write your code here"
   ]
  },
  {
   "cell_type": "code",
   "execution_count": null,
   "metadata": {
    "_kg_hide-input": true
   },
   "outputs": [],
   "source": [
    "nested_even_lists = [[x for x in range(1, n+1) if x % 2 == 0] for n in range(1, 6)]"
   ]
  }
 ],
 "metadata": {
  "kernelspec": {
   "display_name": "venv (3.11.9)",
   "language": "python",
   "name": "python3"
  },
  "language_info": {
   "codemirror_mode": {
    "name": "ipython",
    "version": 3
   },
   "file_extension": ".py",
   "mimetype": "text/x-python",
   "name": "python",
   "nbconvert_exporter": "python",
   "pygments_lexer": "ipython3",
   "version": "3.11.9"
  }
 },
 "nbformat": 4,
 "nbformat_minor": 4
}
