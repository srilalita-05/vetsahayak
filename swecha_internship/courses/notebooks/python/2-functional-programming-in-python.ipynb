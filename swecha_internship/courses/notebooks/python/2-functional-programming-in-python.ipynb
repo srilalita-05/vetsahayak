{
 "cells": [
  {
   "cell_type": "markdown",
   "metadata": {},
   "source": [
    "## Functional Programming in Python\n",
    "\n",
    "\n",
    "Functional programming is a programming paradigm that treats computation as the evaluation of mathematical functions and avoids changing-state and mutable data. In Python, functional programming is supported to a considerable extent, although Python is not purely functional. We will discuss some important functional programming concepts below"
   ]
  },
  {
   "cell_type": "markdown",
   "metadata": {},
   "source": [
    "**First-class functions:** Functions in Python are first-class citizens, meaning they can be passed as arguments to other functions, returned from other functions, and assigned to variables. This allows for higher-order functions, functions that take other functions as arguments or return them as results."
   ]
  },
  {
   "cell_type": "code",
   "execution_count": null,
   "metadata": {
    "execution": {
     "iopub.execute_input": "2024-04-25T08:42:33.813427Z",
     "iopub.status.busy": "2024-04-25T08:42:33.812400Z",
     "iopub.status.idle": "2024-04-25T08:42:33.868985Z",
     "shell.execute_reply": "2024-04-25T08:42:33.867001Z",
     "shell.execute_reply.started": "2024-04-25T08:42:33.813385Z"
    },
    "trusted": true
   },
   "outputs": [],
   "source": [
    "def apply_operation(func, x, y):  #function as a parameter\n",
    "    return func(x, y)\n",
    "\n",
    "def add(x, y):\n",
    "    return x + y\n",
    "\n",
    "def subtract(x, y):\n",
    "    return x - y\n",
    "\n",
    "result1 = apply_operation(add, 3, 2)  # result1 = 5\n",
    "result2 = apply_operation(subtract, 3, 2)  # result2 = 1\n",
    "print(result1)\n",
    "print(result2)"
   ]
  },
  {
   "cell_type": "markdown",
   "metadata": {},
   "source": [
    "1. Write a function called get_multiplier that takes a single argument factor and returns a function. This returned function should take a single argument number and return the product of number and factor."
   ]
  },
  {
   "cell_type": "code",
   "execution_count": null,
   "metadata": {},
   "outputs": [],
   "source": [
    "#write your code here\n",
    "def get_multiplier(factor):\n",
    "    def mul(number):\n",
    "        return number * factor\n",
    "    return mul\n",
    "\n"
   ]
  },
  {
   "cell_type": "code",
   "execution_count": null,
   "metadata": {
    "_kg_hide-input": true
   },
   "outputs": [],
   "source": [
    "#Function as a Return Value\n",
    "\n",
    "def get_multiplier(factor):\n",
    "    def multiplier(number):\n",
    "        return number * factor\n",
    "    return multiplier\n",
    "\n",
    "double = get_multiplier(2)\n",
    "result1 = double(5)\n",
    "print(result1)  # Output: 10\n",
    "\n",
    "triple = get_multiplier(3)\n",
    "result2 = triple(4)\n",
    "print(result2)  # Output: 12\n"
   ]
  },
  {
   "cell_type": "markdown",
   "metadata": {},
   "source": [
    "2. Write a function called sort_by_criteria that takes three arguments: data, criteria, and reverse. The data argument should be a list of tuples, where each tuple represents some data entry. The criteria argument should be a function that takes a single data entry and returns the value by which the data should be sorted. The reverse argument should be a boolean indicating whether to sort the data in ascending or descending order based on the criteria"
   ]
  },
  {
   "cell_type": "code",
   "execution_count": null,
   "metadata": {},
   "outputs": [],
   "source": [
    "#Write your code here"
   ]
  },
  {
   "cell_type": "code",
   "execution_count": null,
   "metadata": {
    "_kg_hide-input": true
   },
   "outputs": [],
   "source": [
    "def sort_by_criteria(data, criteria, reverse=False):\n",
    "    return sorted(data, key=criteria, reverse=reverse)\n",
    "\n",
    "# Example data: List of tuples (name, age)\n",
    "people = [(\"Alice\", 25), (\"Bob\", 30), (\"Charlie\", 20)]\n",
    "\n",
    "# Sort by age in ascending order\n",
    "sorted_ascending = sort_by_criteria(people, lambda person: person[1])\n",
    "print(sorted_ascending)  # Output: [('Charlie', 20), ('Alice', 25), ('Bob', 30)]\n",
    "\n",
    "# Sort by age in descending order\n",
    "sorted_descending = sort_by_criteria(people, lambda person: person[1], reverse=True)\n",
    "print(sorted_descending)  # Output: [('Bob', 30), ('Alice', 25), ('Charlie', 20)]"
   ]
  },
  {
   "cell_type": "markdown",
   "metadata": {},
   "source": [
    "### Lambda functions: \n",
    "\n",
    "Lambda functions (or anonymous functions) are small, one-line functions defined using the lambda keyword. They are useful for short, throwaway functions. We will explain in detail on next topic"
   ]
  },
  {
   "cell_type": "code",
   "execution_count": null,
   "metadata": {},
   "outputs": [],
   "source": [
    "lambda_expr ::=  \"lambda\" [parameter_list] \":\" expression #syntax for Lambda functions"
   ]
  },
  {
   "cell_type": "code",
   "execution_count": null,
   "metadata": {},
   "outputs": [],
   "source": [
    "#Sample code for explaining Lambda functions \n",
    "\n",
    "square = lambda x: x**2\n",
    "result = square(5)  # result = 25\n",
    "print(result)"
   ]
  },
  {
   "cell_type": "markdown",
   "metadata": {},
   "source": [
    "In this example:\n",
    "\n",
    "* lambda indicates the start of the lambda function.<br>\n",
    "* **x** is the parameter of the function.<br>\n",
    "* **x^2** is the expression that the function evaluates and returns.<br>\n",
    "* You can then call the square lambda function like any other function<br>\n",
    "\n",
    "\n",
    "Now we will practice some exercises with Lambda functions"
   ]
  },
  {
   "cell_type": "markdown",
   "metadata": {},
   "source": [
    "Write a lambda function to reverse a string"
   ]
  },
  {
   "cell_type": "code",
   "execution_count": 4,
   "metadata": {},
   "outputs": [
    {
     "name": "stdout",
     "output_type": "stream",
     "text": [
      "iiih\n"
     ]
    }
   ],
   "source": [
    "#Write your code here\n",
    "reverse_str=lambda str:str[::-1]\n",
    "print(reverse_str(\"hiii\"))"
   ]
  },
  {
   "cell_type": "code",
   "execution_count": null,
   "metadata": {
    "_kg_hide-input": true
   },
   "outputs": [],
   "source": [
    "reverse_string = lambda s: s[::-1]"
   ]
  },
  {
   "cell_type": "markdown",
   "metadata": {},
   "source": [
    "Write a lambda function to remove vowels from a string"
   ]
  },
  {
   "cell_type": "code",
   "execution_count": null,
   "metadata": {},
   "outputs": [],
   "source": [
    "#Write your code here"
   ]
  },
  {
   "cell_type": "code",
   "execution_count": null,
   "metadata": {
    "_kg_hide-input": true
   },
   "outputs": [],
   "source": [
    "remove_vowels = lambda s: ''.join(filter(lambda x: x.lower() not in 'aeiou', s))"
   ]
  },
  {
   "cell_type": "markdown",
   "metadata": {},
   "source": [
    "Write a lambda function to compute the factorial of a number"
   ]
  },
  {
   "cell_type": "code",
   "execution_count": null,
   "metadata": {},
   "outputs": [],
   "source": [
    "#Write your code here"
   ]
  },
  {
   "cell_type": "code",
   "execution_count": null,
   "metadata": {
    "_kg_hide-input": true
   },
   "outputs": [],
   "source": [
    "factorial = lambda n: 1 if n == 0 else n * factorial(n - 1)"
   ]
  },
  {
   "cell_type": "markdown",
   "metadata": {},
   "source": [
    "Write a lambda function to sort a list of tuples based on the second element of each tuple."
   ]
  },
  {
   "cell_type": "code",
   "execution_count": null,
   "metadata": {},
   "outputs": [],
   "source": [
    "#Write your code here"
   ]
  },
  {
   "cell_type": "code",
   "execution_count": null,
   "metadata": {
    "_kg_hide-input": true
   },
   "outputs": [],
   "source": [
    "sort_by_second = lambda lst: sorted(lst, key=lambda x: x[1])"
   ]
  },
  {
   "cell_type": "markdown",
   "metadata": {},
   "source": [
    "**Map, Filter, Reduce:** Python provides built-in functions map(), filter(), and reduce() for functional programming operations.\n",
    "* map() applies a function to each item in an iterable and returns a list of the results.\n",
    "* filter() applies a function to each item in an iterable and returns only the items for which the function returns True.\n",
    "* reduce() applies a function of two arguments cumulatively to the items of an iterable, from left to right, to reduce the iterable to a single value."
   ]
  },
  {
   "cell_type": "code",
   "execution_count": null,
   "metadata": {},
   "outputs": [],
   "source": [
    "numbers = [1, 2, 3, 4, 5]\n",
    "squared_numbers = list(map(lambda x: x ** 2, numbers))\n",
    "\n",
    "#function that takes a list of integers and returns a new list where each element is squared"
   ]
  },
  {
   "cell_type": "code",
   "execution_count": null,
   "metadata": {},
   "outputs": [],
   "source": [
    "#Tuple of tuples into list \n",
    "students = (('Alice', 85), ('Bob', 90), ('Charlie', 78))\n",
    "student_dicts = list({'name': name, 'score': score} for name, score in students)"
   ]
  },
  {
   "cell_type": "code",
   "execution_count": 5,
   "metadata": {},
   "outputs": [
    {
     "ename": "SyntaxError",
     "evalue": "expected 'else' after 'if' expression (4096954675.py, line 29)",
     "output_type": "error",
     "traceback": [
      "  \u001b[36mCell\u001b[39m\u001b[36m \u001b[39m\u001b[32mIn[5]\u001b[39m\u001b[32m, line 29\u001b[39m\n\u001b[31m    \u001b[39m\u001b[31meven_numbers = [filter((y if is_even(i)),numbers)]\u001b[39m\n                            ^\n\u001b[31mSyntaxError\u001b[39m\u001b[31m:\u001b[39m expected 'else' after 'if' expression\n"
     ]
    }
   ],
   "source": [
    "#Write the missing code and finish the\n",
    "\n",
    "from functools import reduce\n",
    "\n",
    "# Example list\n",
    "numbers = [1, 2, 3, 4, 5]\n",
    "\n",
    "# Example function to be used with map()\n",
    "def square(x):\n",
    "    return x * x\n",
    "\n",
    "# Using map() to square each element of the list\n",
    "squared_numbers = map(square, numbers)\n",
    "print(\"Squared numbers:\", squared_numbers)\n",
    "\n",
    "# Example function to be used with reduce()\n",
    "def add(x, y):\n",
    "    return x + y\n",
    "\n",
    "# Using reduce() to find the sum of all elements in the list\n",
    "sum_of_numbers = reduce(lambda x,y:x+y,numbers)\n",
    "print(\"Sum of numbers:\", sum_of_numbers)\n",
    "\n",
    "# Example function to be used with list comprehension\n",
    "def is_even(x):\n",
    "    return x % 2 == 0\n",
    "\n",
    "# Using list comprehension to filter even numbers\n",
    "even_numbers = [filter((y if is_even(i)),numbers)]\n",
    "print(\"Even numbers:\", even_numbers)\n"
   ]
  },
  {
   "cell_type": "code",
   "execution_count": 4,
   "metadata": {
    "_kg_hide-input": true
   },
   "outputs": [
    {
     "name": "stdout",
     "output_type": "stream",
     "text": [
      "Squared numbers: [1, 4, 9, 16, 25]\n",
      "Sum of numbers: 15\n",
      "Even numbers: [2, 4]\n"
     ]
    }
   ],
   "source": [
    "from functools import reduce\n",
    "\n",
    "# Example list\n",
    "numbers = [1, 2, 3, 4, 5]\n",
    "\n",
    "# Example function to be used with map()\n",
    "def square(x):\n",
    "    return x * x\n",
    "\n",
    "# Using map() to square each element of the list\n",
    "squared_numbers = list(map(square, numbers))\n",
    "print(\"Squared numbers:\", squared_numbers)\n",
    "\n",
    "# Example function to be used with reduce()\n",
    "def add(x, y):\n",
    "    return x + y\n",
    "\n",
    "# Using reduce() to find the sum of all elements in the list\n",
    "sum_of_numbers = reduce(add, numbers)\n",
    "print(\"Sum of numbers:\", sum_of_numbers)\n",
    "\n",
    "# Example function to be used with list comprehension\n",
    "def is_even(x):\n",
    "    return x % 2 == 0\n",
    "\n",
    "# Using list comprehension to filter even numbers\n",
    "even_numbers = [x for x in numbers if is_even(x)]\n",
    "print(\"Even numbers:\", even_numbers)\n"
   ]
  },
  {
   "cell_type": "markdown",
   "metadata": {},
   "source": [
    "## Functools and Operator Modules\n",
    "\n",
    "The functools module is for higher-order functions: functions that act on or return other functions. In general, any callable object can be treated as a function for the purposes of this module.\n",
    "The functools module defines the following functions:\n",
    "\n",
    "**@functools.cache(user_function)** - Lightweight, unbounded function cache, also known as \"memoize\". It operates similarly to lru_cache(maxsize=None) but without a size limit, using a simple dictionary lookup for function arguments. This approach is faster and more lightweight compared to lru_cache().\n",
    "\n",
    "**@functools.cached_property(func)** - Transform a method of a class into a property whose value is computed once and then cached as a normal attribute for the life of the instance. Similar to property(), with the addition of caching. \n",
    "\n",
    "**functools.cmp_to_key(func)** - Transform an old-style comparison function to a key function. Used with tools that accept key functions (such as sorted(), min(), max(), heapq.nlargest(), heapq.nsmallest(), itertools.groupby()). This function is primarily used as a transition tool for programs being converted from Python 2 which supported the use of comparison functions.\n",
    "\n",
    "**@functools.lru_cache(user_function)\n",
    "@functools.lru_cache(maxsize=128, typed=False)** - Decorator to wrap a function with a memoizing callable that saves up to the maxsize most recent calls. It can save time when an expensive or I/O bound function is periodically called with the same arguments.\n",
    "\n",
    "**@functools.total_ordering** - Given a class defining one or more rich comparison ordering methods, this class decorator supplies the rest. This simplifies the effort involved in specifying all of the possible rich comparison operation\n",
    "\n",
    "**@functools.wraps(wrapped, assigned=WRAPPER_ASSIGNMENTS, updated=WRAPPER_UPDATES)** - Convenience function for invoking update_wrapper() as a function decorator when defining a wrapper function. It is equivalent to partial(update_wrapper, wrapped=wrapped, assigned=assigned, updated=updated)\n",
    "\n"
   ]
  },
  {
   "cell_type": "code",
   "execution_count": null,
   "metadata": {},
   "outputs": [],
   "source": [
    "@cache   ##sample code for @cache function\n",
    "def factorial(n):\n",
    "    return n * factorial(n-1) if n else 1\n",
    "\n",
    ">>> factorial(10)      # no previously cached result, makes 11 recursive calls\n",
    "3628800\n",
    ">>> factorial(5)       # just looks up cached value result\n",
    "120\n",
    ">>> factorial(12)      # makes two new recursive calls, the other 10 are cached\n",
    "479001600"
   ]
  },
  {
   "cell_type": "code",
   "execution_count": null,
   "metadata": {},
   "outputs": [],
   "source": [
    "class DataSet: #sample code for cached_property module\n",
    "\n",
    "    def __init__(self, sequence_of_numbers):\n",
    "        self._data = tuple(sequence_of_numbers)\n",
    "\n",
    "    @cached_property\n",
    "    def stdev(self):\n",
    "        return statistics.stdev(self._data)\n",
    "    "
   ]
  },
  {
   "cell_type": "markdown",
   "metadata": {},
   "source": [
    "\n",
    "The **cached_property** decorator operates only during attribute lookups, creating the attribute if it doesn't already exist. Once set, subsequent reads and writes behave like a normal attribute. Deleting the attribute clears the cached value, allowing the decorator to run again. However, in multi-threaded scenarios, there's potential for race conditions. If synchronization is needed, implement locking around the cached property access."
   ]
  },
  {
   "cell_type": "code",
   "execution_count": null,
   "metadata": {},
   "outputs": [],
   "source": [
    "sorted(iterable, key=cmp_to_key(locale.strcoll))  # locale-aware sort order"
   ]
  },
  {
   "cell_type": "code",
   "execution_count": null,
   "metadata": {},
   "outputs": [],
   "source": [
    "@lru_cache(maxsize=None) #computing Fibonacci numbers using a cache to implement a dynamic programming technique\n",
    "def fib(n):\n",
    "    if n < 2:\n",
    "        return n\n",
    "    return fib(n-1) + fib(n-2)\n",
    "\n",
    ">>> [fib(n) for n in range(16)]\n",
    "[0, 1, 1, 2, 3, 5, 8, 13, 21, 34, 55, 89, 144, 233, 377, 610]\n",
    "\n",
    ">>> fib.cache_info()\n",
    "CacheInfo(hits=28, misses=16, maxsize=None, currsize=16)"
   ]
  },
  {
   "cell_type": "code",
   "execution_count": null,
   "metadata": {},
   "outputs": [],
   "source": [
    "@total_ordering   #sample code for total_ordering function use case\n",
    "class Student:\n",
    "    def _is_valid_operand(self, other):\n",
    "        return (hasattr(other, \"lastname\") and\n",
    "                hasattr(other, \"firstname\"))\n",
    "    def __eq__(self, other):\n",
    "        if not self._is_valid_operand(other):\n",
    "            return NotImplemented\n",
    "        return ((self.lastname.lower(), self.firstname.lower()) ==\n",
    "                (other.lastname.lower(), other.firstname.lower()))\n",
    "    def __lt__(self, other):\n",
    "        if not self._is_valid_operand(other):\n",
    "            return NotImplemented\n",
    "        return ((self.lastname.lower(), self.firstname.lower()) <\n",
    "                (other.lastname.lower(), other.firstname.lower()))"
   ]
  },
  {
   "cell_type": "code",
   "execution_count": null,
   "metadata": {},
   "outputs": [],
   "source": [
    "from functools import wraps\n",
    "def my_decorator(f):\n",
    "    @wraps(f)\n",
    "    def wrapper(*args, **kwds):\n",
    "        print('Calling decorated function')\n",
    "        return f(*args, **kwds)\n",
    "    return wrapper\n",
    "\n",
    "@my_decorator\n",
    "def example():\n",
    "    \"\"\"Docstring\"\"\"\n",
    "    print('Called example function')\n",
    "\n",
    "example()"
   ]
  },
  {
   "cell_type": "markdown",
   "metadata": {},
   "source": [
    "### Operator Module\n",
    "\n",
    "The operator module in Python provides functions that implement the basic operations on built-in Python types like arithmetic, comparison, item retrieval, and more. These functions can be used as alternatives to writing lambda functions or defining custom functions for common operations.\n",
    "\n",
    "The functions provided by 'Operator' modules are \n",
    "\n",
    "**Arithmetic operators:**\n",
    "\n",
    "* operator.add(a, b): Returns the sum of a and b.\n",
    "* operator.sub(a, b): Returns the difference of a and b.\n",
    "* operator.mul(a, b): Returns the product of a and b.\n",
    "* operator.truediv(a, b): Returns the true division of a by b.\n",
    "\n",
    "**Comparison operators:** \n",
    "\n",
    "* operator.eq(a, b): Returns True if a is equal to b.\n",
    "* operator.ne(a, b): Returns True if a is not equal to b.\n",
    "* operator.lt(a, b): Returns True if a is less than b.\n",
    "* operator.le(a, b): Returns True if a is less than or equal to b.\n",
    "* operator.gt(a, b): Returns True if a is greater than b.\n",
    "* operator.ge(a, b): Returns True if a is greater than or equal to b.\n",
    "\n",
    "**Retrieval operators:**\n",
    "\n",
    "* operator.getitem(a, b): Returns the item of a at index b.\n",
    "* operator.setitem(a, b, c): Sets the item of a at index b to c.\n",
    "* operator.delitem(a, b): Deletes the item of a at index b."
   ]
  },
  {
   "cell_type": "code",
   "execution_count": null,
   "metadata": {},
   "outputs": [],
   "source": [
    "import operator\n",
    "\n",
    "a = 10\n",
    "b = 5\n",
    "\n",
    "print(operator.add(a, b))     # Output: 15\n",
    "print(operator.sub(a, b))     # Output: 5\n",
    "print(operator.mul(a, b))     # Output: 50\n",
    "print(operator.truediv(a, b)) # Output: 2.0\n",
    "\n",
    "print(operator.eq(a, b))  # Output: False\n",
    "print(operator.ne(a, b))  # Output: True\n",
    "print(operator.lt(a, b))  # Output: False\n",
    "print(operator.le(a, b))  # Output: False\n",
    "print(operator.gt(a, b))  # Output: True\n",
    "print(operator.ge(a, b))  # Output: True\n",
    "\n",
    "my_list = [1, 2, 3, 4, 5]\n",
    "\n",
    "print(operator.getitem(my_list, 2))     # Output: 3\n",
    "operator.setitem(my_list, 2, 'x')\n",
    "print(my_list)                          # Output: [1, 2, 'x', 4, 5]\n",
    "operator.delitem(my_list, 2)\n",
    "print(my_list)                          # Output: [1, 2, 4, 5]"
   ]
  }
 ],
 "metadata": {
  "kaggle": {
   "accelerator": "none",
   "dataSources": [],
   "dockerImageVersionId": 30702,
   "isGpuEnabled": false,
   "isInternetEnabled": true,
   "language": "python",
   "sourceType": "notebook"
  },
  "kernelspec": {
   "display_name": "venv (3.11.9)",
   "language": "python",
   "name": "python3"
  },
  "language_info": {
   "codemirror_mode": {
    "name": "ipython",
    "version": 3
   },
   "file_extension": ".py",
   "mimetype": "text/x-python",
   "name": "python",
   "nbconvert_exporter": "python",
   "pygments_lexer": "ipython3",
   "version": "3.11.9"
  }
 },
 "nbformat": 4,
 "nbformat_minor": 4
}
