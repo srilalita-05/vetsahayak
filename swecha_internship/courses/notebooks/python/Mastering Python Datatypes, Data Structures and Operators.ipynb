{
 "cells": [
  {
   "cell_type": "markdown",
   "metadata": {},
   "source": [
    "**Acknowledgement:**\n",
    "\n",
    "We express our gratitude to the open source community and the exceptional contributors for simplifying the journey of learning Python. This notebook draws significant inspiration from the [Exploratory Computing with Python](https://mbakker7.github.io/exploratory_computing_with_python/) project by `Mark Bakker`.\n",
    "\n",
    "**Note:**\n",
    "\n",
    "This notebook series might not cover everything in Python. Please consider the following resources to know/learn more about Python:\n",
    "\n",
    "Getting Started with Python:\n",
    "\n",
    "- https://www.codecademy.com/learn/python\n",
    "- http://docs.python-guide.org/en/latest/intro/learning/\n",
    "- https://learnpythonthehardway.org/book/\n",
    "- https://www.codementor.io/learn-python-online\n",
    "- https://websitesetup.org/python-cheat-sheet/\n",
    "\n",
    "Learning Python in Notebooks:\n",
    "\n",
    "- http://mbakker7.github.io/exploratory_computing_with_python/\n",
    "\n",
    "It's always handy to have Python Reference: https://docs.python.org/3/reference/\n"
   ]
  },
  {
   "cell_type": "markdown",
   "metadata": {},
   "source": [
    "# Welcome to Your Python Journey! 🐍\n",
    "\n",
    "Hello there! I'm your friendly Python guide, ready to take you on an exciting journey through the world of Python programming. Whether you're a complete beginner or looking to brush up on your basics, you're in the right place. Let's make this learning adventure engaging, fun, and interactive. Ready to dive in? Let's go!\n"
   ]
  },
  {
   "cell_type": "markdown",
   "metadata": {},
   "source": [
    "## Getting to Know Python\n",
    "\n",
    "Python is a versatile and powerful programming language\n",
    "\n",
    "\"Portable, powerful, and a breeze to use\", Python is a popular, versatile and open-source programming language that's great for beginners and professionals alike. It's used in web development, data science, artificial intelligence, and much more. Python can be used for both scripting applications and standalone programs (see \"Learning Python\" by Mark Lutz). What interests you about learning Python?\n"
   ]
  },
  {
   "cell_type": "markdown",
   "metadata": {},
   "source": [
    "Python can be used to do pretty much anything. For example, you can use Python as a calculator. Position your cursor in the code cell below and hit [shift][enter]. The output should be 12 (-:\n"
   ]
  },
  {
   "cell_type": "code",
   "execution_count": null,
   "metadata": {},
   "outputs": [
    {
     "data": {
      "text/plain": [
       "12"
      ]
     },
     "metadata": {},
     "output_type": "display_data"
    }
   ],
   "source": [
    "6 * 2"
   ]
  },
  {
   "cell_type": "markdown",
   "metadata": {},
   "source": [
    "Note that the extra spaces are added to make the code more readable. 2 * 3 works just as well as 2*3. And it is considered good style. Use the extra spaces in all your Notebooks.\n"
   ]
  },
  {
   "cell_type": "markdown",
   "metadata": {},
   "source": [
    "## 1. Variables and Data Types\n",
    "\n",
    "When you are programming, you want to store your values in variables\n",
    "\n",
    "**Variables** are like boxes where you can store information. You can change the contents anytime.\n",
    "\n",
    "Data Types include:\n",
    "\n",
    "- **Numbers:** Like 5 or 3.14.\n",
    "- **Strings:** Text like \"hello\".\n",
    "- **Boolean:** True or False.\n",
    "\n",
    "**Examples:**\n"
   ]
  },
  {
   "cell_type": "code",
   "execution_count": null,
   "metadata": {},
   "outputs": [],
   "source": [
    "# Numbers\n",
    "age = 19\n",
    "pi = 22/7\n",
    "\n",
    "# Strings\n",
    "name = \"Akhil\"\n",
    "\n",
    "# Boolean\n",
    "is_student = False"
   ]
  },
  {
   "cell_type": "markdown",
   "metadata": {},
   "source": [
    "**Comments in Python:** The text after the `#` is a comment in the code. Any text on the line after the # is ignored by Python.\n"
   ]
  },
  {
   "cell_type": "markdown",
   "metadata": {},
   "source": [
    "`age`, `pi`, `name` and `is_student` are now variables. Each variable has a type.\n",
    "\n",
    "In this case,\n",
    "\n",
    "- **age** is of type `integer`\n",
    "- **pi** is of type `float` (a decimal point number)\n",
    "- **name** is of type `string`\n",
    "- **is_student** is of type `boolean`\n",
    "\n",
    "To write the value of a variable to the screen, use the `print` function (the last statement of a code cell is automatically printed to the screen if it is not stored in a variable, as was shown above). Note that multiplication of two integers results in an integer, but division of two integers results in a float (a number with decimal places).\n"
   ]
  },
  {
   "cell_type": "code",
   "execution_count": null,
   "metadata": {},
   "outputs": [
    {
     "name": "stdout",
     "output_type": "stream",
     "text": [
      "19\n",
      "3.142857142857143\n",
      "Alex\n",
      "False\n"
     ]
    }
   ],
   "source": [
    "print(age)\n",
    "print(pi)\n",
    "print(name)\n",
    "print(is_student)"
   ]
  },
  {
   "cell_type": "markdown",
   "metadata": {},
   "source": [
    "You can add some text to the print function by putting the text string between quotes (either single or double quotes work as long as you use the same at the beginning and end), and separate the text string and the variable by a comma\n"
   ]
  },
  {
   "cell_type": "code",
   "execution_count": null,
   "metadata": {},
   "outputs": [],
   "source": [
    "print('The age of Swecha is ', age)\n",
    "print(\"The value of pi is \", pi)\n",
    "print('My name is ', name)\n",
    "print(\"Am I a student? \", is_student, \"!\")"
   ]
  },
  {
   "cell_type": "markdown",
   "metadata": {},
   "source": [
    "The above print statement looks pretty ugly with 15 decimal values of _pi_ in a row. A better and more readable way to print both text and the value of a variable to the screen is to use what are called `f-strings` (Refer to [2. String formatting with f-strings](#f-strings) section).\n"
   ]
  },
  {
   "cell_type": "code",
   "execution_count": null,
   "metadata": {},
   "outputs": [],
   "source": []
  },
  {
   "cell_type": "markdown",
   "metadata": {},
   "source": [
    "<a name=\"comments\"></a>\n",
    "\n",
    "## 2. The Art of Commenting in Python\n"
   ]
  },
  {
   "cell_type": "markdown",
   "metadata": {},
   "source": [
    "`Commenting` is an essential practice in programming that helps you document your code, improve its readability, and make it easier to maintain.\n",
    "\n",
    "In Python, comments are used to add explanatory notes or remarks within the source code, making it easier for you and others to understand the logic and purpose behind each part of the code.\n"
   ]
  },
  {
   "cell_type": "markdown",
   "metadata": {},
   "source": [
    "**Types of Comments: Single Line and Multi-Line**\n",
    "\n",
    "There are two main ways to write comments in Python:\n",
    "\n",
    "1. **Single Line Comments (`#`):** Anything following the `#` symbol on a line is ignored as a comment.\n",
    "   If a single line comment appears after code, then its called `inline` comment\n",
    "\n",
    "2. **Multi-Line Comments (`'''` or `\"\"\"`):** Enclose your comment within triple single quotes (`'''`) or triple double quotes (`\"\"\"`). This is useful for longer explanations that span multiple lines.\n"
   ]
  },
  {
   "cell_type": "code",
   "execution_count": null,
   "metadata": {},
   "outputs": [],
   "source": [
    "# This is a single-line comment in Python\n",
    "\n",
    "\"\"\"\n",
    "This is a\n",
    "multi-line comment\n",
    "in Python\n",
    "\"\"\"\n",
    "\n",
    "print(\"Hello, World!\")  # This is an inline comment"
   ]
  },
  {
   "cell_type": "markdown",
   "metadata": {},
   "source": [
    "**Explanation:**\n",
    "\n",
    "- Single-line comments start with the hash symbol `#` and can be placed on their own line or at the end of a code line.\n",
    "- Multi-line comments in Python are enclosed between triple quotes `\"\"\"` and can span multiple lines.\n",
    "- Inline comments follow the code statement on the same line, separated by at least one space.\n"
   ]
  },
  {
   "cell_type": "markdown",
   "metadata": {},
   "source": [
    "**Interactive Exercise:**\n",
    "\n",
    "1. Write a single-line comment explaining what your program does.\n",
    "2. Write a multi-line comment describing a specific function or a block of code.\n",
    "3. Add an inline comment after a `print` statement, explaining what it prints."
   ]
  },
  {
   "cell_type": "code",
   "execution_count": null,
   "metadata": {},
   "outputs": [],
   "source": [
    "# Write code below"
   ]
  },
  {
   "cell_type": "markdown",
   "metadata": {},
   "source": [
    "### Why Comment?\n"
   ]
  },
  {
   "cell_type": "markdown",
   "metadata": {},
   "source": [
    "Comments serve several important purposes in programming:\n",
    "\n",
    "1. **Code Documentation**: They provide explanations about the purpose, functionality, and logic of the code, making it easier for others (and your future self) to understand and maintain the codebase.\n",
    "\n",
    "2. **Clarification**: Comments can clarify complex or non-intuitive parts of the code, helping others grasp the intended behavior.\n",
    "\n",
    "3. **Code Readability**: Well-placed comments can improve the overall readability and organization of the code, making it easier to navigate and understand.\n",
    "\n",
    "4. **Debugging**: Comments can be used to temporarily disable or enable specific code blocks, aiding in the debugging process.\n",
    "\n",
    "5. **Future Maintenance**: As projects evolve and grow, comments become invaluable for future developers or your future self when revisiting the codebase after a long time.\n"
   ]
  },
  {
   "cell_type": "code",
   "execution_count": null,
   "metadata": {},
   "outputs": [],
   "source": [
    "# Calculate the area of a square\n",
    "side = float(input(\"Enter the radius of the circle: \"))\n",
    "\n",
    "# Use the formula: area = side^2\n",
    "area = (side ** 2)\n",
    "\n",
    "print(f\"The area of the square with side {radius} is {area:.2f}\")"
   ]
  },
  {
   "cell_type": "markdown",
   "metadata": {},
   "source": [
    "Explanation:\n",
    "\n",
    "- The first comment explains the purpose of the code.\n",
    "- The second comment clarifies the formula used for calculating the area of a square.\n",
    "- The last comment is an inline comment that provides context for the `print` statement.\n"
   ]
  },
  {
   "cell_type": "markdown",
   "metadata": {},
   "source": [
    "**Interactive Exercise:**\n",
    "\n",
    "1. Write a program to calculate the sum of two numbers.\n",
    "2. Add a comment at the beginning of the program explaining its purpose.\n",
    "3. Add an inline comment after each line of code, explaining what it does.\n"
   ]
  },
  {
   "cell_type": "code",
   "execution_count": null,
   "metadata": {},
   "outputs": [],
   "source": [
    "# Write code below"
   ]
  },
  {
   "cell_type": "markdown",
   "metadata": {},
   "source": [
    "### Commenting Styles and Best Practices\n"
   ]
  },
  {
   "cell_type": "markdown",
   "metadata": {},
   "source": [
    "While commenting in Python is flexible, there are some widely adopted styles and best practices that can improve the quality and consistency of your comments:\n",
    "\n",
    "1. **Block Comments**: Use block comments (multi-line comments) to provide detailed explanations for larger sections of code or to document the overall purpose of a module, class, or function.\n",
    "\n",
    "2. **Inline Comments**: Use inline comments sparingly to explain specific lines of code that are not immediately clear.\n",
    "\n",
    "3. **Comment Placement**: Place comments above or to the right of the code they are describing, maintaining proper indentation and spacing.\n",
    "\n",
    "4. **Descriptive Comments**: Use clear and concise language to describe the purpose, functionality, and any necessary context for the code.\n",
    "\n",
    "5. **Comment Updates**: Update comments whenever you modify the corresponding code to ensure they remain accurate and relevant.\n",
    "\n",
    "6. **Comment Conventions**: Follow any established commenting conventions or guidelines used in your project or team.\n"
   ]
  },
  {
   "cell_type": "code",
   "execution_count": null,
   "metadata": {},
   "outputs": [],
   "source": [
    "# Calculate the factorial of a given number\n",
    "\n",
    "def factorial(n):\n",
    "    \"\"\"\n",
    "    Calculates the factorial of a given positive integer.\n",
    "\n",
    "    Args:\n",
    "        n (int): The positive integer for which to calculate the factorial.\n",
    "\n",
    "    Returns:\n",
    "        int: The factorial of the given number.\n",
    "\n",
    "    Raises:\n",
    "        ValueError: If the input is negative.\n",
    "    \"\"\"\n",
    "    if n < 0:\n",
    "        raise ValueError(\"Factorial is not defined for negative numbers\")\n",
    "\n",
    "    # Base case: 0! = 1\n",
    "    if n == 0:\n",
    "        return 1\n",
    "\n",
    "    # Recursive case: n! = n * (n-1)!\n",
    "    return n * factorial(n - 1)\n",
    "\n",
    "\n",
    "# Example usage\n",
    "number = int(input(\"Enter a positive integer: \"))\n",
    "result = factorial(number)\n",
    "print(f\"The factorial of {number} is {result}\")"
   ]
  },
  {
   "cell_type": "markdown",
   "metadata": {},
   "source": [
    "**Explanation:**\n",
    "\n",
    "- The block comment at the beginning explains the purpose of the program.\n",
    "- The docstring (triple-quoted string) for the `factorial` function provides detailed documentation, including the function's purpose, parameters, return value, and potential exceptions.\n",
    "- Inline comments are used to explain the base case and recursive case of the factorial calculation.\n",
    "- Additional comments are used to explain the example usage.\n"
   ]
  },
  {
   "cell_type": "markdown",
   "metadata": {},
   "source": [
    "**Interactive Exercise:**\n",
    "\n",
    "1. Write a function that takes a list of numbers and returns the maximum value.\n",
    "2. Add a docstring to the function, describing its purpose, parameters, and return value.\n",
    "3. Add inline comments within the function to explain the logic behind finding the maximum value.\n",
    "4. Write an example usage of the function and add comments to explain the code.\n"
   ]
  },
  {
   "cell_type": "code",
   "execution_count": null,
   "metadata": {},
   "outputs": [],
   "source": [
    "# Write code below"
   ]
  },
  {
   "cell_type": "markdown",
   "metadata": {},
   "source": [
    "<a name=\"f-strings\"></a>\n",
    "\n",
    "## 3. String formatting with f-strings\n",
    "\n",
    "**Note:** To learn more about output formatting, refer to\n",
    "\n",
    "- [Fancier Output Formatting](https://docs.python.org/3/tutorial/inputoutput.html#fancier-output-formatting)\n"
   ]
  },
  {
   "cell_type": "markdown",
   "metadata": {},
   "source": [
    "f-strings allow you to insert the value of a variable anywhere in the text by surrounding it with braces {}. The entire text string needs to be between quotes and be preceded by the letter `f`\n"
   ]
  },
  {
   "cell_type": "code",
   "execution_count": null,
   "metadata": {},
   "outputs": [],
   "source": [
    "numerator = 22\n",
    "denominator = 7\n",
    "pi = numerator / denominator\n",
    "print(f'{numerator} divided by {denominator} gives pi({pi})')"
   ]
  },
  {
   "cell_type": "markdown",
   "metadata": {},
   "source": [
    "The complete syntax between braces is {variable:width.precision}. When width and precision are not specified, Python will use all digits and figure out the width for you. If you want a floating point number with 3 decimals, you specify the number of digits, 3, followed by the letter f for floating point (you can still let Python figure out the width by not specifying it). If you prefer exponent (scientific) notation, replace the f by an e.\n"
   ]
  },
  {
   "cell_type": "code",
   "execution_count": null,
   "metadata": {},
   "outputs": [],
   "source": [
    "print(f'{numerator} divided by {denominator} gives {pi:.3f}')  # three decimal places\n",
    "print(f'{numerator} divided by {denominator} gives {pi:10.3f}')  # width 10 and three decimal places\n",
    "print(f'{numerator} divided by {denominator} gives {pi:.3e}')  # three decimal places scientific notation"
   ]
  },
  {
   "cell_type": "markdown",
   "metadata": {},
   "source": [
    "To know more about Python's fstring's cool features, read this [real python article](https://realpython.com/python-f-strings/)\n"
   ]
  },
  {
   "cell_type": "markdown",
   "metadata": {},
   "source": [
    "## 4. Gotchas on variables 👇\n"
   ]
  },
  {
   "cell_type": "markdown",
   "metadata": {},
   "source": [
    "Variable names may be as long as you like (you gotta do the typing though 😜). Selecting descriptive names aids in understanding the code.\n",
    "\n",
    "Variable names cannot have spaces, nor can they start with a number. And variable names are case sensitive. So the variable **myvariable** is _not the same_ as the variable **MyVariable**.\n",
    "\n",
    "The name of a variable may be anything you want, except for reserved words in the Python language. For example, it is not possible to create a variable `for = 7`, as **for** is a reserved word. You will learn many of the reserved words when we continue; they are colored bold green when you type them in the Notebook.\n"
   ]
  },
  {
   "cell_type": "markdown",
   "metadata": {},
   "source": [
    "### Variables and Memory in Python Sessions\n"
   ]
  },
  {
   "cell_type": "markdown",
   "metadata": {},
   "source": [
    "Once you have created a variable in a Python session, it will remain in memory, so you can use it in other cells as well. For example, the variables _age_, _pi_ and _name_, which were defined four code cells above in this Notebook, still exist.\n"
   ]
  },
  {
   "cell_type": "code",
   "execution_count": null,
   "metadata": {},
   "outputs": [],
   "source": [
    "print(f'The values of \\n age = {age}, \\npi = {pi:.3f}, \\nname{}', age)"
   ]
  },
  {
   "cell_type": "markdown",
   "metadata": {},
   "source": [
    "The user (in this case: you!) decides the order in which code blocks are executed. For example, In [7] means that it is the sixth execution of a code block. If you change the same code block and run it again, it will get number 8. If you define the variable `age` in code block 8, it will overwrite the value of a defined in a previous code block.\n"
   ]
  },
  {
   "cell_type": "markdown",
   "metadata": {},
   "source": [
    "Did you notice how 'age', 'pi', and 'name' nicely appeared on separate lines? That's thanks to the `\\n` escape character. Escape characters are like special instructions in our Python strings. Let's learn more about these clever characters!\n"
   ]
  },
  {
   "cell_type": "markdown",
   "metadata": {},
   "source": [
    "## 5. Backslash Buddies: Escape Characters in Python\n"
   ]
  },
  {
   "cell_type": "markdown",
   "metadata": {},
   "source": [
    "Have you ever wanted to include special characters in your text, like a new line or a tab... but weren't sure how?\n",
    "\n",
    "`Escape characters` are like secret codes in Python that let us do cool things with our text. They unlock all sorts of text formatting tricks. Don't forget, they all start with a backslash `\\`.\n",
    "\n",
    "**Fun Fact:** The word 'escape' comes from the idea that we're 'escaping' the normal meaning of a character.\n"
   ]
  },
  {
   "cell_type": "markdown",
   "metadata": {},
   "source": [
    "### i. The Newline Character (\\n)\n"
   ]
  },
  {
   "cell_type": "code",
   "execution_count": null,
   "metadata": {},
   "outputs": [
    {
     "name": "stdout",
     "output_type": "stream",
     "text": [
      "Hello, World!\n",
      "How are you today?\n"
     ]
    }
   ],
   "source": [
    "print(\"Hello, World!\\nHow are you today?\")"
   ]
  },
  {
   "cell_type": "markdown",
   "metadata": {},
   "source": [
    "See those letters '\\n' in our code? That's the escape character for a \"newline\". It tells Python to move the text down to the next line, just like pressing Enter on your keyboard.\n"
   ]
  },
  {
   "cell_type": "markdown",
   "metadata": {},
   "source": [
    "### ii. The Tab Character (\\t)\n"
   ]
  },
  {
   "cell_type": "code",
   "execution_count": null,
   "metadata": {},
   "outputs": [
    {
     "name": "stdout",
     "output_type": "stream",
     "text": [
      "Fruits:\tApples\n",
      "\tBananas\n",
      "\tOranges\n"
     ]
    }
   ],
   "source": [
    "print(\"Fruits:\\tApples\")\n",
    "print(\"\\tBananas\")\n",
    "print(\"\\tOranges\")"
   ]
  },
  {
   "cell_type": "markdown",
   "metadata": {},
   "source": [
    "The '\\t' character makes a big space, called a 'tab'. It's a great way to neatly organize lists in your output.\n"
   ]
  },
  {
   "cell_type": "markdown",
   "metadata": {},
   "source": [
    "### iii. The Backslash Character (\\\\)\n"
   ]
  },
  {
   "cell_type": "code",
   "execution_count": null,
   "metadata": {},
   "outputs": [],
   "source": [
    "print(\"Sometimes you need a file path: C:\\\\Users\\\\YourName\\\\Documents\")"
   ]
  },
  {
   "cell_type": "markdown",
   "metadata": {},
   "source": [
    "What if you want to actually print a backslash? You need to escape it! Typing '\\\\' tells Python to print a single actual backslash.\n"
   ]
  },
  {
   "cell_type": "markdown",
   "metadata": {},
   "source": [
    "### iv. Quotation Marks (\\' and \\\")\n"
   ]
  },
  {
   "cell_type": "code",
   "execution_count": null,
   "metadata": {},
   "outputs": [],
   "source": [
    "print(\"My mom said, \\\"Clean your room!\\\"\")\n",
    "print('I like to read \"Harry Potter\" books.')"
   ]
  },
  {
   "cell_type": "markdown",
   "metadata": {},
   "source": [
    "Quotes are tricky! See how we can use a backslash before a quote to include it _within_ our string. It depends on whether you started your string with single or double quotes.\n"
   ]
  },
  {
   "cell_type": "markdown",
   "metadata": {},
   "source": [
    "### v. Carriage Return ('\\r')\n",
    "\n",
    "This one acts a bit like a time machine! It moves the cursor back to the beginning of the current line. This means any text printed afterwards will overwrite what was there before.\n"
   ]
  },
  {
   "cell_type": "code",
   "execution_count": null,
   "metadata": {},
   "outputs": [
    {
     "name": "stdout",
     "output_type": "stream",
     "text": [
      "123456\rABC\n"
     ]
    }
   ],
   "source": [
    "print(\"123456\\rABC\")"
   ]
  },
  {
   "cell_type": "markdown",
   "metadata": {},
   "source": [
    "The '\\r' returned the cursor to the beginning of the line, so 'ABC' overwrote the first three characters.\n"
   ]
  },
  {
   "cell_type": "markdown",
   "metadata": {},
   "source": [
    "### vi. Backspace ('\\b')\n",
    "\n",
    "This character makes the cursor step one position backward. It's like pressing the backspace key on your keyboard.\n"
   ]
  },
  {
   "cell_type": "code",
   "execution_count": null,
   "metadata": {},
   "outputs": [
    {
     "name": "stdout",
     "output_type": "stream",
     "text": [
      "This is a test\b!\n"
     ]
    }
   ],
   "source": [
    "print(\"This is a test\\b!\")"
   ]
  },
  {
   "cell_type": "markdown",
   "metadata": {},
   "source": [
    "The '\\b' deleted the final 't'.\n"
   ]
  },
  {
   "cell_type": "markdown",
   "metadata": {},
   "source": [
    "### vii. Form Feed ('\\f')\n",
    "\n",
    "This character is a little old-fashioned, but it used to signal a printer to move to a new page. In text displays, it can sometimes introduce a line break or clear the screen.\n"
   ]
  },
  {
   "cell_type": "code",
   "execution_count": null,
   "metadata": {},
   "outputs": [
    {
     "name": "stdout",
     "output_type": "stream",
     "text": [
      "Page 1\fPage 2\n"
     ]
    }
   ],
   "source": [
    "print(\"Page 1\\fPage 2\")"
   ]
  },
  {
   "cell_type": "markdown",
   "metadata": {},
   "source": [
    "**Note:** The effect of '\\f' depends on your terminal or notebook environment.\n",
    "\n",
    "How the '\\f' is displayed depends on the system. You might see 'Page 2' on a new line, on a fresh page, or the screen may even clear itself completely.\n"
   ]
  },
  {
   "cell_type": "markdown",
   "metadata": {},
   "source": [
    "### Interactive Exercise\n",
    "\n",
    "Can you create a sentence that uses both a newline (\\n) AND a tab (\\t)?\n"
   ]
  },
  {
   "cell_type": "code",
   "execution_count": null,
   "metadata": {},
   "outputs": [],
   "source": [
    "# Use this code cell for the exercise"
   ]
  },
  {
   "cell_type": "markdown",
   "metadata": {},
   "source": [
    "## 6. Python's Input & Output Magic - Type and Talk with Python!\n"
   ]
  },
  {
   "cell_type": "markdown",
   "metadata": {},
   "source": [
    "Get ready to make your Python programs chatty. In this adventure, we'll learn how to make Python display messages (print()) and listen to your responses (input()).\n"
   ]
  },
  {
   "cell_type": "markdown",
   "metadata": {},
   "source": [
    "### Say It with 'print()'\n",
    "\n",
    "We've already seen how `print` works in earlier sections ✌\n",
    "\n",
    "The print() function is Python's way of showing messages to the user. Think of it like your program having a voice!\n"
   ]
  },
  {
   "cell_type": "code",
   "execution_count": null,
   "metadata": {},
   "outputs": [],
   "source": [
    "print(\"Greetings, human!\")\n",
    "print(\"What's your favorite color?\")"
   ]
  },
  {
   "cell_type": "markdown",
   "metadata": {},
   "source": [
    "This code will display two lines of text on the screen.\n"
   ]
  },
  {
   "cell_type": "markdown",
   "metadata": {},
   "source": [
    "### Your Turn to Speak: 'input()'\n",
    "\n",
    "The input() function lets your program take information from you. It pauses and waits for you to type something and press Enter.\n"
   ]
  },
  {
   "cell_type": "code",
   "execution_count": null,
   "metadata": {},
   "outputs": [],
   "source": [
    "name = input(\"Tell me your name, adventurer: \")\n",
    "print(\"Welcome,\", name, \"!\")"
   ]
  },
  {
   "cell_type": "markdown",
   "metadata": {},
   "source": [
    "This code first asks for your name. Then, it stores whatever you type in a variable called `name` and uses that to personalize a greeting.\n"
   ]
  },
  {
   "cell_type": "markdown",
   "metadata": {},
   "source": [
    "### Beyond the basics\n",
    "\n",
    "You can combine `print()` and `input()` to make all sorts of interactive programs. Let's try a number guessing game:\n"
   ]
  },
  {
   "cell_type": "code",
   "execution_count": null,
   "metadata": {},
   "outputs": [],
   "source": [
    "import random  # We need this to generate random numbers\n",
    "\n",
    "secret_number = random.randint(1, 10)\n",
    "guess = input(\"Guess a number between 1 and 10: \")\n",
    "\n",
    "if int(guess) == secret_number:  # Convert guess to a number\n",
    "    print(\"Amazing! You guessed it right\")\n",
    "else:\n",
    "    print(\"Better luck next time! The number was\", secret_number)"
   ]
  },
  {
   "cell_type": "markdown",
   "metadata": {},
   "source": [
    "This code adds some new things, like importing the random module to generate a secret number and an if statement to check if your guess is correct.\n"
   ]
  },
  {
   "cell_type": "markdown",
   "metadata": {},
   "source": [
    "### Interactive Exercise\n",
    "\n",
    "**Remember:** The more you practice with input and output, the more engaging your Python programs will be!\n"
   ]
  },
  {
   "cell_type": "markdown",
   "metadata": {},
   "source": [
    "**Challenge 1:** Change the number guessing game to give the user more tries.\n"
   ]
  },
  {
   "cell_type": "code",
   "execution_count": null,
   "metadata": {},
   "outputs": [],
   "source": [
    "# Challenge 1: Write your code below"
   ]
  },
  {
   "cell_type": "markdown",
   "metadata": {},
   "source": [
    "**Challenge 2:** Write a program that asks for your favorite food and then prints a silly recipe using your answer.\n"
   ]
  },
  {
   "cell_type": "code",
   "execution_count": null,
   "metadata": {},
   "outputs": [],
   "source": [
    "# Challenge 2: Write your code below"
   ]
  },
  {
   "cell_type": "markdown",
   "metadata": {},
   "source": [
    "## 7. Mastering Python Data Structures for Organizing Your Code\n"
   ]
  },
  {
   "cell_type": "markdown",
   "metadata": {},
   "source": [
    "Think of data structures like different types of containers to store your information in Python. Some are good for keeping things in order, others let you quickly find something by name.\n",
    "\n",
    "These structures are the building blocks that hold the very essence of data, allowing you to manipulate, organize, and conquer information with ease. Brace yourselves, for we shall unravel the secrets of Lists, Sets, Tuples, Strings, and Dictionaries, one by one 👍!\n"
   ]
  },
  {
   "cell_type": "markdown",
   "metadata": {},
   "source": [
    "### `Lists`: The Flexible Organizers\n",
    "\n",
    "Lists are the go-to data structure when you need to store an ordered collection of items. Think of them as a mighty vessel, capable of holding any type of data of any datatype/datastructure, be it numbers, strings, or even other lists. You put things in, and they stay neatly in line. Use `[]` to make a list.\n"
   ]
  },
  {
   "cell_type": "code",
   "execution_count": null,
   "metadata": {},
   "outputs": [],
   "source": [
    "# Creating a list\n",
    "my_list = [1, 2, 3, 'apple', 'banana', True]\n",
    "print(my_list)  # Output: [1, 2, 3, 'apple', 'banana', True]"
   ]
  },
  {
   "cell_type": "markdown",
   "metadata": {},
   "source": [
    "In the example above, we create a list named my_list containing a mix of integers, strings, and a boolean value. The elements are enclosed within square brackets `[]`, and separated by commas.\n"
   ]
  },
  {
   "cell_type": "markdown",
   "metadata": {},
   "source": [
    "#### Interactive Exercise\n",
    "\n",
    "Create a list called `favorites` containing your top three favorite things. Then, print the list to the console.\n"
   ]
  },
  {
   "cell_type": "code",
   "execution_count": null,
   "metadata": {},
   "outputs": [],
   "source": [
    "# Write code below"
   ]
  },
  {
   "cell_type": "markdown",
   "metadata": {},
   "source": [
    "#### Interaction with Lists\n"
   ]
  },
  {
   "cell_type": "markdown",
   "metadata": {},
   "source": [
    "<a name=\"access-elements\"></a>\n",
    "\n",
    "##### Accessing and Modifying Elements\n",
    "\n",
    "With lists, you can access individual elements using their index, which **starts from 0**. Index can take any integer value starting from 0 to length of the list minus 1 (as the numbering starts from 0)\n"
   ]
  },
  {
   "cell_type": "code",
   "execution_count": null,
   "metadata": {},
   "outputs": [],
   "source": [
    "my_list = [1, 2, 3, 'apple', 'banana', True]\n",
    "print(my_list[0])  # Output: 1\n",
    "print(my_list[3])  # Output: 'apple'"
   ]
  },
  {
   "cell_type": "markdown",
   "metadata": {},
   "source": [
    "You can also modify elements by assigning new values to specific indices.\n"
   ]
  },
  {
   "cell_type": "code",
   "execution_count": null,
   "metadata": {},
   "outputs": [],
   "source": [
    "my_list[2] = 4     # Modifying the element at index 2\n",
    "print(my_list)     # Output: [1, 2, 4, 'apple', 'banana', True]"
   ]
  },
  {
   "cell_type": "markdown",
   "metadata": {},
   "source": [
    "In the example above, we access the elements at indices 0 and 3 using `my_list[0]` and `my_list[3]`, respectively. We then modify the element at index 2 by assigning a new value of 4 to `my_list[2]`.\n"
   ]
  },
  {
   "cell_type": "markdown",
   "metadata": {},
   "source": [
    "###### Interactive Exercise\n",
    "\n",
    "Create a list called numbers with the values `[10, 20, 30, 40, 50]`. Access and print the third element of the list. Then, change the fourth element to 45 and print the updated list.\n"
   ]
  },
  {
   "cell_type": "code",
   "execution_count": null,
   "metadata": {},
   "outputs": [],
   "source": [
    "# Write code below"
   ]
  },
  {
   "cell_type": "markdown",
   "metadata": {},
   "source": [
    "<a name=\"slicing\"></a>\n",
    "\n",
    "##### Slicing and Replacing Elements\n",
    "\n",
    "Lists offer the power of slicing, allowing you to extract a subset of elements or replace a range of values.\n"
   ]
  },
  {
   "cell_type": "code",
   "execution_count": null,
   "metadata": {},
   "outputs": [],
   "source": [
    "my_list = [1, 2, 3, 4, 5, 6, 7, 8, 9, 10]\n",
    "print(my_list[2:6])  # Output: [3, 4, 5, 6]\n",
    "print(my_list[:4])   # Output: [1, 2, 3, 4]\n",
    "print(my_list[6:])   # Output: [7, 8, 9, 10]\n",
    "\n",
    "my_list[2:6] = ['a', 'b', 'c', 'd']  # Replacing a slice\n",
    "print(my_list)  # Output: [1, 2, 'a', 'b', 'c', 'd', 7, 8, 9, 10]"
   ]
  },
  {
   "cell_type": "markdown",
   "metadata": {},
   "source": [
    "In the example above, we demonstrate slicing by extracting subsets of elements using the colon : notation. We then replace a slice of elements from indices 2 to 6 (excluding 6) with a new list ['a', 'b', 'c', 'd'].\n"
   ]
  },
  {
   "cell_type": "markdown",
   "metadata": {},
   "source": [
    "###### Interactive Exercise\n",
    "\n",
    "Create a list called fruits with the values `['apple', 'banana', 'cherry', 'date', 'elderberry', 'fig', 'grape']`. Use slicing to create a new list containing only the fruits from 'cherry' to 'fig'. Then, replace the last three elements of fruits with `['kiwi', 'lemon', 'mango']` and print the updated list.\n"
   ]
  },
  {
   "cell_type": "code",
   "execution_count": null,
   "metadata": {},
   "outputs": [],
   "source": [
    "# Write code below"
   ]
  },
  {
   "cell_type": "markdown",
   "metadata": {},
   "source": [
    "#### Python's `Pop`\n",
    "\n",
    "In addition to traversing and iterating over data structures, Python provides a convenient method called `pop` for removing elements from certain data structures like lists and dictionaries.\n",
    "\n",
    "The `pop` method allows you to remove and retrieve an element from a specific position or key, making it a valuable tool for dynamically modifying data structures.\n",
    "\n",
    "### Popping from Lists\n",
    "\n",
    "The `pop` method for lists allows you to remove and retrieve an element from a specified index or the end of the list.\n"
   ]
  },
  {
   "cell_type": "code",
   "execution_count": null,
   "metadata": {},
   "outputs": [],
   "source": [
    "# Creating a list\n",
    "fruits = ['apple', 'banana', 'cherry', 'date']\n",
    "\n",
    "# Popping from the end of the list\n",
    "last_fruit = fruits.pop()\n",
    "print(last_fruit)     # Output: 'date'\n",
    "print(fruits)         # Output: ['apple', 'banana', 'cherry']\n",
    "\n",
    "# Popping from a specific index\n",
    "second_fruit = fruits.pop(1)\n",
    "print(second_fruit)   # Output: 'banana'\n",
    "print(fruits)         # Output: ['apple', 'cherry']"
   ]
  },
  {
   "cell_type": "markdown",
   "metadata": {},
   "source": [
    "**Explanation:**\n",
    "\n",
    "1. We create a list `fruits` with four elements: 'apple', 'banana', 'cherry', and 'date'.\n",
    "2. We use the `pop()` method without any arguments to remove and retrieve the last element from the list. The variable `last_fruit` stores the value 'date', and the list `fruits` is updated to `['apple', 'banana', 'cherry']`.\n",
    "3. We use the `pop(1)` method to remove and retrieve the element at index `1` from the list. The variable `second_fruit` stores the value 'banana', and the list `fruits` is updated to `['apple', 'cherry']`.\n"
   ]
  },
  {
   "cell_type": "markdown",
   "metadata": {},
   "source": [
    "##### Interactive Exercise\n",
    "\n",
    "Create a list of numbers, and perform the following operations using the pop method:\n",
    "\n",
    "1. Remove and print the last element of the list.\n",
    "2. Remove and print the element at a specific index of your choice.\n",
    "3. Try to pop an element from an empty list and handle the resulting exception.\n"
   ]
  },
  {
   "cell_type": "code",
   "execution_count": null,
   "metadata": {},
   "outputs": [],
   "source": [
    "# Write code below"
   ]
  },
  {
   "cell_type": "markdown",
   "metadata": {},
   "source": [
    "### `Tuples`: Unchangeable Packs\n",
    "\n",
    "Tuples are ordered collections of elements, similar to lists, but they are `immutable`, meaning their contents cannot be modified after creation. Think of them as sealed packages. Use `()` to create them.\n"
   ]
  },
  {
   "cell_type": "code",
   "execution_count": null,
   "metadata": {},
   "outputs": [
    {
     "name": "stdout",
     "output_type": "stream",
     "text": [
      "(3, 4)\n"
     ]
    }
   ],
   "source": [
    "point = (3, 4)\n",
    "print(point)  # Output: (3, 4)"
   ]
  },
  {
   "cell_type": "markdown",
   "metadata": {},
   "source": [
    "**Accessing elements:** Accessing tuple elements is the same as List elements. Refer to [Accessing and Modifying Elements](#access-elements) sub-section\n"
   ]
  },
  {
   "cell_type": "code",
   "execution_count": null,
   "metadata": {},
   "outputs": [
    {
     "name": "stdout",
     "output_type": "stream",
     "text": [
      "3\n",
      "4\n"
     ]
    }
   ],
   "source": [
    "print(point[0])  # Output: 3 (first element)\n",
    "print(point[-1])  # Output: 4 (last element)"
   ]
  },
  {
   "cell_type": "markdown",
   "metadata": {},
   "source": [
    "**Slicing tuples:** Slicing is also the same as that of lists. Refer to only `slicing` part of the [Slicing and Replacing Elements](#slicing) sub-section\n"
   ]
  },
  {
   "cell_type": "code",
   "execution_count": null,
   "metadata": {},
   "outputs": [
    {
     "name": "stdout",
     "output_type": "stream",
     "text": [
      "(3,)\n",
      "(4,)\n"
     ]
    }
   ],
   "source": [
    "print(point[:1])  # Output: (3,) (elements from the start to index 1)\n",
    "print(point[1:])  # Output: (4,) (elements from index 1 to the end)"
   ]
  },
  {
   "cell_type": "markdown",
   "metadata": {},
   "source": [
    "#### Interactive Exercise:\n",
    "\n",
    "Create a tuple representing a date (year, month, day). Print the year and day components separately.\n"
   ]
  },
  {
   "cell_type": "code",
   "execution_count": null,
   "metadata": {},
   "outputs": [],
   "source": [
    "# Write code below"
   ]
  },
  {
   "cell_type": "markdown",
   "metadata": {},
   "source": [
    "### The Unique `Set`: A Collection of Distinct Elements\n",
    "\n",
    "Python's set is an unordered collection of unique elements. If you try to add the same thing twice, it only keeps one copy. Use `{}` with commas inside to create them (or `set()` to convert from another sequence).\n",
    "\n",
    "Sets are useful for representing mathematical sets, removing duplicates, and performing operations like union, intersection, and difference.\n",
    "\n",
    "For more information, refer to [Python Sets](https://www.w3schools.com/python/python_sets.asp) 😃\n"
   ]
  },
  {
   "cell_type": "code",
   "execution_count": null,
   "metadata": {},
   "outputs": [],
   "source": [
    "# Creating a set\n",
    "fruits = {'apple', 'banana', 'cherry'}\n",
    "print(fruits)  # Output: {'banana', 'apple', 'cherry'}"
   ]
  },
  {
   "cell_type": "markdown",
   "metadata": {},
   "source": [
    "**Explanation:**\n",
    "\n",
    "- We create a set fruits with three elements: 'apple', 'banana', and 'cherry'.\n",
    "- When we print the set, the order of elements may vary because sets are unordered collections.\n"
   ]
  },
  {
   "cell_type": "markdown",
   "metadata": {},
   "source": [
    "#### Interactive Exercise:\n",
    "\n",
    "Create a set of your favorite foods, and try to add a duplicate element to the set. Observe the behavior and explain why the duplicate element is not added.\n"
   ]
  },
  {
   "cell_type": "code",
   "execution_count": null,
   "metadata": {},
   "outputs": [],
   "source": [
    "# Write code below"
   ]
  },
  {
   "cell_type": "markdown",
   "metadata": {},
   "source": [
    "#### Properties and Operations of Sets\n"
   ]
  },
  {
   "cell_type": "markdown",
   "metadata": {},
   "source": [
    "**Length of a Set:**\n",
    "\n",
    "To determine how many items a set has, use the `len()` function.\n"
   ]
  },
  {
   "cell_type": "code",
   "execution_count": null,
   "metadata": {},
   "outputs": [],
   "source": [
    "# Length of a set\n",
    "fruits = {\"apple\", \"banana\", \"cherry\"}\n",
    "print(len(fruits))  # Output: 3"
   ]
  },
  {
   "cell_type": "markdown",
   "metadata": {},
   "source": [
    "Sets in Python support various properties and operations that make them incredibly versatile and powerful. Let's explore some of these properties and operations:\n",
    "\n",
    "| S.No | Operation                | Description                                                                                                                 |\n",
    "| ---- | ------------------------ | --------------------------------------------------------------------------------------------------------------------------- |\n",
    "| 1    | **Union**                | The union operation combines two sets by creating a new set containing all unique elements from both sets.                  |\n",
    "| 2    | **Intersection**         | The intersection operation creates a new set containing elements that are present in both sets.                             |\n",
    "| 3    | **Difference**           | The difference operation creates a new set containing elements that are present in the first set but not in the second set. |\n",
    "| 4    | **Symmetric Difference** | The symmetric difference operation creates a new set containing elements that are present in either set but not in both.    |\n",
    "| 5    | **Subset**               | The subset operation checks if all elements of one set are contained in another set.                                        |\n",
    "| 6    | **Superset**             | The superset operation checks if a set contains all elements of another set.                                                |\n"
   ]
  },
  {
   "cell_type": "markdown",
   "metadata": {},
   "source": [
    "**Explanation:**\n",
    "\n",
    "- We create two sets `set1` and `set2` with different elements.\n",
    "- We demonstrate various set operations, such as `union`, `intersection`, `difference`, `symmetric difference`, `subset`, and `superset`.\n",
    "- The outputs showcase the results of these operations on the given sets.\n"
   ]
  },
  {
   "cell_type": "code",
   "execution_count": null,
   "metadata": {},
   "outputs": [],
   "source": [
    "# Set operations\n",
    "set1 = {1, 2, 3}\n",
    "set2 = {2, 3, 4}"
   ]
  },
  {
   "cell_type": "code",
   "execution_count": null,
   "metadata": {},
   "outputs": [],
   "source": [
    "# Union\n",
    "print(set1.union(set2))  # Output: {1, 2, 3, 4}"
   ]
  },
  {
   "cell_type": "code",
   "execution_count": null,
   "metadata": {},
   "outputs": [],
   "source": [
    "# Intersection\n",
    "print(set1.intersection(set2))  # Output: {2, 3}"
   ]
  },
  {
   "cell_type": "code",
   "execution_count": null,
   "metadata": {},
   "outputs": [],
   "source": [
    "# Difference\n",
    "print(set1.difference(set2))  # Output: {1}\n",
    "print(set2.difference(set1))  # Output: {4}"
   ]
  },
  {
   "cell_type": "code",
   "execution_count": null,
   "metadata": {},
   "outputs": [],
   "source": [
    "# Symmetric Difference\n",
    "print(set1.symmetric_difference(set2))  # Output: {1, 4}"
   ]
  },
  {
   "cell_type": "code",
   "execution_count": null,
   "metadata": {},
   "outputs": [],
   "source": [
    "# Subset\n",
    "print(set1.issubset(set2))  # Output: False\n",
    "print(set1.issubset({1, 2, 3, 4, 5}))  # Output: True"
   ]
  },
  {
   "cell_type": "code",
   "execution_count": null,
   "metadata": {},
   "outputs": [],
   "source": [
    "# Superset\n",
    "print(set1.issuperset(set2))  # Output: False\n",
    "print({1, 2, 3, 4}.issuperset(set1))  # Output: True"
   ]
  },
  {
   "cell_type": "markdown",
   "metadata": {},
   "source": [
    "##### Interactive Exercise:\n",
    "\n",
    "Create two sets of your choice, and perform the following operations:\n",
    "\n",
    "- Find the union of the two sets.\n",
    "- Find the intersection of the two sets.\n",
    "- Find the difference between the two sets (in both directions).\n"
   ]
  },
  {
   "cell_type": "code",
   "execution_count": null,
   "metadata": {},
   "outputs": [],
   "source": [
    "# Write code below"
   ]
  },
  {
   "cell_type": "markdown",
   "metadata": {},
   "source": [
    "#### Modifying Sets\n"
   ]
  },
  {
   "cell_type": "markdown",
   "metadata": {},
   "source": [
    "Sets are `mutable` data structures, which means you can modify them by adding or removing elements. Let's explore how to modify sets:\n",
    "\n",
    "- Use `add()` method to add elements to set\n",
    "- Use `remove()` method to delete an element from a set\n",
    "- Use `pop()` method to arbitrarily remove an element from a set\n"
   ]
  },
  {
   "cell_type": "code",
   "execution_count": null,
   "metadata": {},
   "outputs": [],
   "source": [
    "# Adding elements\n",
    "fruits = {'apple', 'banana', 'cherry'}\n",
    "fruits.add('orange')\n",
    "print(fruits)  # Output: {'orange', 'banana', 'apple', 'cherry'}"
   ]
  },
  {
   "cell_type": "code",
   "execution_count": null,
   "metadata": {},
   "outputs": [],
   "source": [
    "# Removing elements\n",
    "fruits.remove('banana')\n",
    "print(fruits)  # Output: {'orange', 'apple', 'cherry'}"
   ]
  },
  {
   "cell_type": "code",
   "execution_count": null,
   "metadata": {},
   "outputs": [],
   "source": [
    "# Removing arbitrary element\n",
    "removed_element = fruits.pop()\n",
    "print(fruits)  # Output: {'orange', 'cherry'}\n",
    "print(removed_element)  # Output: 'apple' (may vary)"
   ]
  },
  {
   "cell_type": "markdown",
   "metadata": {},
   "source": [
    "**Explanation:**\n",
    "\n",
    "- We create a set fruits with three elements: `apple`, `banana`, and `cherry`.\n",
    "- We add a new element `orange` to the set using the `add()` method.\n",
    "- We remove the element `banana` from the set using the `remove()` method.\n",
    "- We remove an arbitrary element from the set using the `pop()` method and store it in the variable removed_element.\n"
   ]
  },
  {
   "cell_type": "markdown",
   "metadata": {},
   "source": [
    "##### Interactive Exercise:\n",
    "\n",
    "Create a set of your favorite colors, and perform the following operations:\n",
    "\n",
    "- Add two new colors to the set.\n",
    "- Remove a specific color from the set.\n",
    "- Remove an arbitrary color from the set and print the removed color.\n"
   ]
  },
  {
   "cell_type": "code",
   "execution_count": null,
   "metadata": {},
   "outputs": [],
   "source": [
    "# Write code below"
   ]
  },
  {
   "cell_type": "markdown",
   "metadata": {},
   "source": [
    "#### Accessing Elements in Sets\n",
    "\n",
    "Since sets are unordered collections, you cannot access elements using indexes like you would with lists or tuples. However, you can iterate over the elements of a set using a loop or check if a specific element is present in the set.\n"
   ]
  },
  {
   "cell_type": "code",
   "execution_count": null,
   "metadata": {},
   "outputs": [],
   "source": [
    "# Iterating over a set\n",
    "fruits = {'apple', 'banana', 'cherry'}\n",
    "for fruit in fruits:\n",
    "    print(fruit)"
   ]
  },
  {
   "cell_type": "code",
   "execution_count": null,
   "metadata": {},
   "outputs": [],
   "source": [
    "# Checking if an element is in a set\n",
    "print('apple' in fruits)  # Output: True\n",
    "print('grape' in fruits)  # Output: False"
   ]
  },
  {
   "cell_type": "markdown",
   "metadata": {},
   "source": [
    "**Explanation:**\n",
    "\n",
    "- We create a set of fruits with three elements: `apple`, `banana`, and `cherry`.\n",
    "- We use a for loop to iterate over the elements of the set and print each element.\n",
    "- We use the in operator to check if the element `apple` is present in the set `(True)`.\n",
    "- We use the in operator to check if the element `grape` is present in the set `(False)`.\n"
   ]
  },
  {
   "cell_type": "markdown",
   "metadata": {},
   "source": [
    "##### Interactive Exercise:\n",
    "\n",
    "Create a set of your favorite animals, and perform the following operations:\n",
    "\n",
    "- Iterate over the set and print each animal.\n",
    "- Check if a specific animal is present in the set.\n",
    "- Check if a specific animal is not present in the set.\n"
   ]
  },
  {
   "cell_type": "code",
   "execution_count": null,
   "metadata": {},
   "outputs": [],
   "source": [
    "# Write code below"
   ]
  },
  {
   "cell_type": "markdown",
   "metadata": {},
   "source": [
    "### `Strings`: Text Masters\n",
    "\n",
    "In the realm of Python's data structures, strings hold a special place as the guardians of textual data. Strings are sequences of characters that allow you to **store**, **manipulate**, and **process text**-based information with ease. From simple messages to complex documents, strings provide a versatile foundation for working with text in Python. Let's dive into the enchanting world of strings and explore their capabilities.\n",
    "\n",
    "You create strings with quotes ('single' or \"double\" works).\n",
    "\n",
    "Refer to [Python Strings](https://www.w3schools.com/python/python_strings.asp) for more information on strings 😀\n"
   ]
  },
  {
   "cell_type": "code",
   "execution_count": null,
   "metadata": {},
   "outputs": [],
   "source": [
    "# Creating a string\n",
    "message = \"Hello, World!\"\n",
    "print(message)  # Output: Hello, World!"
   ]
  },
  {
   "cell_type": "markdown",
   "metadata": {},
   "source": [
    "**Interactive Exercise:**\n",
    "\n",
    "Create a string representing your name, and print it to the console.\n"
   ]
  },
  {
   "cell_type": "code",
   "execution_count": null,
   "metadata": {},
   "outputs": [],
   "source": [
    "# Write code below"
   ]
  },
  {
   "cell_type": "markdown",
   "metadata": {},
   "source": [
    "#### Accessing Characters in Strings\n",
    "\n",
    "Strings in Python are sequences of characters, and you can access individual characters using `indexing`. `Indexing` starts from 0, where the first character has an index of 0, the second character has an index of 1, and so on.\n"
   ]
  },
  {
   "cell_type": "code",
   "execution_count": null,
   "metadata": {},
   "outputs": [],
   "source": [
    "# Accessing characters\n",
    "message = \"Hello, World!\"\n",
    "print(message[0])  # Output: H\n",
    "print(message[7])  # Output: W"
   ]
  },
  {
   "cell_type": "markdown",
   "metadata": {},
   "source": [
    "**Explanation:**\n",
    "\n",
    "1. We create a string `message` with the value \"Hello, World!\".\n",
    "2. We access the character at index 0 using `message[0]`, which outputs 'H'.\n",
    "3. We access the character at index 7 using `message[7]`, which outputs 'W'.\n"
   ]
  },
  {
   "cell_type": "markdown",
   "metadata": {},
   "source": [
    "**Interactive Exercise:**\n",
    "\n",
    "Create a string representing a famous quote, and access the first and last characters of the string.\n"
   ]
  },
  {
   "cell_type": "code",
   "execution_count": null,
   "metadata": {},
   "outputs": [],
   "source": [
    "# Write code below"
   ]
  },
  {
   "cell_type": "markdown",
   "metadata": {},
   "source": [
    "#### Slicing Strings\n",
    "\n",
    "`Slicing` is a powerful feature in Python that allows you to extract a substring from a larger string. It works by specifying a `start index` (inclusive) and an `end index` (exclusive), separated by a colon `:`, within square brackets `[]`.\n",
    "\n",
    "In Python string slicing, if the start index is omitted, it defaults to 0. Omitting the end index defaults to the length of the string (index of the last character). Additionally, **negative indices can be used for both the start and end positions**.\n"
   ]
  },
  {
   "cell_type": "code",
   "execution_count": null,
   "metadata": {},
   "outputs": [],
   "source": [
    "# Slicing strings\n",
    "message = 'Hello, World!'\n",
    "print(message[0:5])  # Output: Hello\n",
    "print(message[7:12])  # Output: World\n",
    "print(message[:5])   # Output: Hello\n",
    "print(message[7:])   # Output: World!\n",
    "print(message[-5:])  # Output: World!\n",
    "print(message[:-5])  # Output: Hello,"
   ]
  },
  {
   "cell_type": "markdown",
   "metadata": {},
   "source": [
    "**Explanation:**\n",
    "\n",
    "1. We create a string `message` with the value \"Hello, World!\".\n",
    "2. We slice the string from index 0 to 5 (exclusive) using `message[0:5]`, which outputs 'Hello'.\n",
    "3. We slice the string from index 7 to 12 (exclusive) using `message[7:12]`, which outputs 'World'.\n",
    "4. We slice the string from the beginning to index 5 (exclusive) using `message[:5]`, which outputs 'Hello'.\n",
    "5. We slice the string from index 7 to the end using `message[7:]`, which outputs 'World!'.\n",
    "6. We slice the string from the last 5 characters to the end using `message[-5:]`, which outputs 'World!'.\n",
    "7. We slice the string from the beginning to the last 5 characters (exclusive) using `message[:-5]`, which outputs 'Hello,'.\n"
   ]
  },
  {
   "cell_type": "markdown",
   "metadata": {},
   "source": [
    "**Interactive Exercise:**\n",
    "\n",
    "Create a string representing a famous quote, and slice the string to extract the middle portion of the quote.\n"
   ]
  },
  {
   "cell_type": "code",
   "execution_count": null,
   "metadata": {},
   "outputs": [],
   "source": [
    "# Write code below"
   ]
  },
  {
   "cell_type": "markdown",
   "metadata": {},
   "source": [
    "#### Modifying Strings\n",
    "\n",
    "Strings in Python are immutable, which means you cannot directly modify them. However, you can create new strings by performing operations on existing strings.\n"
   ]
  },
  {
   "cell_type": "code",
   "execution_count": null,
   "metadata": {},
   "outputs": [],
   "source": [
    "# Modifying strings\n",
    "message = \"Hello, World!\"\n",
    "new_message = message.replace(\"World\", \"Python\")\n",
    "print(new_message)  # Output: Hello, Python!"
   ]
  },
  {
   "cell_type": "markdown",
   "metadata": {},
   "source": [
    "**Explanation:**\n",
    "\n",
    "1. We create a string `message` with the value \"Hello, World!\".\n",
    "2. We use the `replace()` method to create a new string `new_message` by replacing \"World\" with \"Python\" in the original string.\n",
    "3. We print the new string `new_message`, which outputs \"Hello, Python!\".\n"
   ]
  },
  {
   "cell_type": "markdown",
   "metadata": {},
   "source": [
    "**Interactive Exercise:**\n",
    "\n",
    "Create a string representing a famous quote, and replace a specific word in the quote with a word of your choice.\n"
   ]
  },
  {
   "cell_type": "code",
   "execution_count": null,
   "metadata": {},
   "outputs": [],
   "source": [
    "# Write code below"
   ]
  },
  {
   "cell_type": "markdown",
   "metadata": {},
   "source": [
    "#### String Properties and Methods\n",
    "\n",
    "Strings in Python come with a variety of properties and methods that allow you to perform various operations on text data.\n",
    "\n",
    "| Method           | Description                                                                                   |\n",
    "| ---------------- | --------------------------------------------------------------------------------------------- |\n",
    "| `capitalize()`   | Converts the first character to upper case                                                    |\n",
    "| `casefold()`     | Converts string into lower case                                                               |\n",
    "| `center()`       | Returns a centered string                                                                     |\n",
    "| `count()`        | Returns the number of times a specified value occurs in a string                              |\n",
    "| `encode()`       | Returns an encoded version of the string                                                      |\n",
    "| `endswith()`     | Returns true if the string ends with the specified value                                      |\n",
    "| `expandtabs()`   | Sets the tab size of the string                                                               |\n",
    "| `find()`         | Searches the string for a specified value and returns the position of where it was found      |\n",
    "| `format()`       | Formats specified values in a string                                                          |\n",
    "| `format_map()`   | Formats specified values in a string                                                          |\n",
    "| `index()`        | Searches the string for a specified value and returns the position of where it was found      |\n",
    "| `isalnum()`      | Returns True if all characters in the string are alphanumeric                                 |\n",
    "| `isalpha()`      | Returns True if all characters in the string are in the alphabet                              |\n",
    "| `isascii()`      | Returns True if all characters in the string are ascii characters                             |\n",
    "| `isdecimal()`    | Returns True if all characters in the string are decimals                                     |\n",
    "| `isdigit()`      | Returns True if all characters in the string are digits                                       |\n",
    "| `isidentifier()` | Returns True if the string is an identifier                                                   |\n",
    "| `islower()`      | Returns True if all characters in the string are lower case                                   |\n",
    "| `isnumeric()`    | Returns True if all characters in the string are numeric                                      |\n",
    "| `isprintable()`  | Returns True if all characters in the string are printable                                    |\n",
    "| `isspace()`      | Returns True if all characters in the string are whitespaces                                  |\n",
    "| `istitle()`      | Returns True if the string follows the rules of a title                                       |\n",
    "| `isupper()`      | Returns True if all characters in the string are upper case                                   |\n",
    "| `join()`         | Joins the elements of an iterable to the end of the string                                    |\n",
    "| `ljust()`        | Returns a left justified version of the string                                                |\n",
    "| `lower()`        | Converts a string into lower case                                                             |\n",
    "| `lstrip()`       | Returns a left trim version of the string                                                     |\n",
    "| `maketrans()`    | Returns a translation table to be used in translations                                        |\n",
    "| `partition()`    | Returns a tuple where the string is parted into three parts                                   |\n",
    "| `replace()`      | Returns a string where a specified value is replaced with a specified value                   |\n",
    "| `rfind()`        | Searches the string for a specified value and returns the last position of where it was found |\n",
    "| `rindex()`       | Searches the string for a specified value and returns the last position of where it was found |\n",
    "| `rjust()`        | Returns a right justified version of the string                                               |\n",
    "| `rpartition()`   | Returns a tuple where the string is parted into three parts                                   |\n",
    "| `rsplit()`       | Splits the string at the specified separator, and returns a list                              |\n",
    "| `rstrip()`       | Returns a right trim version of the string                                                    |\n",
    "| `split()`        | Splits the string at the specified separator, and returns a list                              |\n",
    "| `splitlines()`   | Splits the string at line breaks and returns a list                                           |\n",
    "| `startswith()`   | Returns true if the string starts with the specified value                                    |\n",
    "| `strip()`        | Returns a trimmed version of the string                                                       |\n",
    "| `swapcase()`     | Swaps cases, lower case becomes upper case and vice versa                                     |\n",
    "| `title()`        | Converts the first character of each word to upper case                                       |\n",
    "| `translate()`    | Returns a translated string                                                                   |\n",
    "| `upper()`        | Converts a string into upper case                                                             |\n",
    "| `zfill()`        | Fills the string with a specified number of 0 values at the beginning                         |\n",
    "\n",
    "For detailed information of all string methods, refer to [Python String Methods](https://www.w3schools.com/python/python_strings_methods.asp)\n",
    "\n",
    "Given below are a few examples for some commonly used string properties and methods:\n"
   ]
  },
  {
   "cell_type": "code",
   "execution_count": null,
   "metadata": {},
   "outputs": [],
   "source": [
    "# String properties and methods\n",
    "message = \"   Hello, World!   \"\n",
    "print(len(message))  # Output: 19\n",
    "print(message.strip())  # Output: Hello, World!\n",
    "print(message.upper())  # Output: HELLO, WORLD!\n",
    "print(message.lower())  # Output: hello, world!\n",
    "print(message.split(\", \"))  # Output: ['   Hello', 'World!   ']\n",
    "print(\"_\".join([\"Hello\", \"World\"]))  # Output: Hello_World"
   ]
  },
  {
   "cell_type": "markdown",
   "metadata": {},
   "source": [
    "**Explanation of the above code:**\n",
    "\n",
    "1. We create a string `message` with leading and trailing whitespace.\n",
    "2. We use the `len()` function to get the length of the string, including whitespace.\n",
    "3. We use the `strip()` method to create a new string with leading and trailing whitespace removed.\n",
    "4. We use the `upper()` method to create a new string with all characters converted to uppercase.\n",
    "5. We use the `lower()` method to create a new string with all characters converted to lowercase.\n",
    "6. We use the `split()` method to split the string into a list of substrings, using `, ` as the separator.\n",
    "7. We use the `join()` method to join the elements of a list into a single string, using `_` as the separator.\n"
   ]
  },
  {
   "cell_type": "markdown",
   "metadata": {},
   "source": [
    "**Interactive Exercise:**\n",
    "\n",
    "Create a string representing a famous quote, and perform the following operations:\n",
    "\n",
    "- Find the length of the string.\n",
    "- Convert the string to uppercase.\n",
    "- Split the string into a list of words.\n"
   ]
  },
  {
   "cell_type": "code",
   "execution_count": null,
   "metadata": {},
   "outputs": [],
   "source": [
    "# Write code below"
   ]
  },
  {
   "cell_type": "markdown",
   "metadata": {},
   "source": [
    "### `Dictionaries`: Super Fast Lookups (Also Python's Hashmaps 😉)\n",
    "\n",
    "In the captivating world of Python's data structures, dictionaries stand out as a marvelous treasure trove of `key-value` pairs. Unlike 'lists' or 'tuples', which store ordered collections of elements, **dictionaries store unordered collections of key-value pairs**, similar to 'sets', making them a powerful tool for organizing and retrieving data efficiently.\n",
    "\n",
    "Dictionaries are like magic word books. You store information using **key** (like words) and their **values** (like definitions). Use `{}` to make a dictionary.\n",
    "\n",
    "For additional information, refer to [Python Dictionaries](https://www.w3schools.com/python/python_dictionaries.asp)\n"
   ]
  },
  {
   "cell_type": "code",
   "execution_count": null,
   "metadata": {},
   "outputs": [],
   "source": [
    "# Creating a dictionary\n",
    "person = {'name': 'Akhil', 'age': 19, 'city': 'Hyderabad'}\n",
    "print(person)  # Output: {'name': 'Akhil', 'age': 19, 'city': 'Hyderabad'}"
   ]
  },
  {
   "cell_type": "markdown",
   "metadata": {},
   "source": [
    "**Explanation:**\n",
    "\n",
    "- We create a dictionary `person` with three key-value pairs: 'name': 'Akhil', 'age': 19, and 'city': 'Hyderabad'.\n",
    "- We print the dictionary, which displays the key-value pairs in an unordered manner.\n"
   ]
  },
  {
   "cell_type": "markdown",
   "metadata": {},
   "source": [
    "**Interactive Exercise:**\n",
    "\n",
    "Create a dictionary representing a book, with keys like 'title', 'author', 'year', and 'genre'. Print the dictionary to see the key-value pairs.\n"
   ]
  },
  {
   "cell_type": "code",
   "execution_count": null,
   "metadata": {},
   "outputs": [],
   "source": [
    "# Write code below"
   ]
  },
  {
   "cell_type": "markdown",
   "metadata": {},
   "source": [
    "#### Accessing Elements in Dictionaries\n",
    "\n",
    "Dictionaries allow you to access their elements using **keys**. Unlike lists or tuples, where you use indices to access elements, in dictionaries, you **use the keys to retrieve the corresponding values**.\n"
   ]
  },
  {
   "cell_type": "code",
   "execution_count": null,
   "metadata": {},
   "outputs": [],
   "source": [
    "# Accessing elements\n",
    "person = {'name': 'Akhil', 'age': 19, 'city': 'Hyderabad'}\n",
    "print(person['name'])  # Output: 'Akhil'\n",
    "print(person.get('age'))  # Output: 19"
   ]
  },
  {
   "cell_type": "markdown",
   "metadata": {},
   "source": [
    "**Explanation:**\n",
    "\n",
    "- We create a dictionary `person` with three key-value pairs: 'name': 'Akhil', 'age': 19, and 'city': 'Hyderabad'.\n",
    "- We access the value associated with the key 'name' using `person['name']`, which outputs 'Akhil'.\n",
    "- We access the value associated with the key 'age' using `person.get('age')`, which outputs 19.\n"
   ]
  },
  {
   "cell_type": "markdown",
   "metadata": {},
   "source": [
    "**Interactive Exercise:**\n",
    "\n",
    "Using the book dictionary you created earlier, access the values associated with the 'title' and 'author' keys.\n"
   ]
  },
  {
   "cell_type": "code",
   "execution_count": null,
   "metadata": {},
   "outputs": [],
   "source": [
    "# Write code below"
   ]
  },
  {
   "cell_type": "markdown",
   "metadata": {},
   "source": [
    "#### Modifying Dictionaries\n",
    "\n",
    "Dictionaries in Python are mutable, which means you can modify their contents by adding, updating, or removing key-value pairs.\n"
   ]
  },
  {
   "cell_type": "code",
   "execution_count": null,
   "metadata": {},
   "outputs": [],
   "source": [
    "# Modifying dictionaries\n",
    "person = {'name': 'Akhil', 'age': 19, 'city': 'Hyderabad'}\n",
    "\n",
    "# Adding a key-value pair\n",
    "person['occupation'] = 'Engineer'\n",
    "print(person)  # Output: {'name': 'Akhil', 'age': 19, 'city': 'Hyderabad', 'occupation': 'Engineer'}\n",
    "\n",
    "# Updating a value\n",
    "person['age'] = 19\n",
    "print(person)  # Output: {'name': 'Akhil', 'age': 19, 'city': 'Hyderabad', 'occupation': 'Engineer'}\n",
    "\n",
    "# Removing a key-value pair\n",
    "del person['city']\n",
    "print(person)  # Output: {'name': 'Akhil', 'age': 19, 'occupation': 'Engineer'}"
   ]
  },
  {
   "cell_type": "markdown",
   "metadata": {},
   "source": [
    "**Explanation:**\n",
    "\n",
    "- We create a dictionary `person` with three key-value pairs: 'name': 'Akhil', 'age': 19, and 'city': 'Hyderabad'.\n",
    "- We add a new key-value pair 'occupation': 'Engineer' to the dictionary using `person['occupation'] = 'Engineer'`.\n",
    "- We update the value associated with the key 'age' by assigning a new value 19 to `person['age']`.\n",
    "- We remove the key-value pair with the key 'city' from the dictionary using the del statement `del person['city']`.\n"
   ]
  },
  {
   "cell_type": "markdown",
   "metadata": {},
   "source": [
    "**Interactive Exercise:**\n",
    "\n",
    "Using the book dictionary you created earlier, add a new key-value pair representing the book's publisher. Then, update the 'year' value to a different year. Finally, remove the 'genre' key-value pair from the dictionary.\n"
   ]
  },
  {
   "cell_type": "code",
   "execution_count": null,
   "metadata": {},
   "outputs": [],
   "source": [
    "# Write code below"
   ]
  },
  {
   "cell_type": "markdown",
   "metadata": {},
   "source": [
    "#### Properties and Operations of Dictionaries\n",
    "\n",
    "Dictionaries in Python support various properties and operations that make them incredibly versatile and powerful. Let's explore some of these properties and operations.\n"
   ]
  },
  {
   "cell_type": "markdown",
   "metadata": {},
   "source": [
    "Python's dictionaries has the following methods:\n",
    "\n",
    "| Method         | Description                                                                                                 |\n",
    "| -------------- | ----------------------------------------------------------------------------------------------------------- |\n",
    "| `clear()`      | Removes all the elements from the dictionary                                                                |\n",
    "| `copy()`       | Returns a copy of the dictionary                                                                            |\n",
    "| `fromkeys()`   | Returns a dictionary with the specified keys and value                                                      |\n",
    "| `get()`        | Returns the value of the specified key                                                                      |\n",
    "| `items()`      | Returns a list containing a tuple for each key value pair                                                   |\n",
    "| `keys()`       | Returns a list containing the dictionary's keys                                                             |\n",
    "| `pop()`        | Removes the element with the specified key                                                                  |\n",
    "| `popitem()`    | Removes the last inserted key-value pair                                                                    |\n",
    "| `setdefault()` | Returns the value of the specified key. If the key does not exist: insert the key, with the specified value |\n",
    "| `update()`     | Updates the dictionary with the specified key-value pairs                                                   |\n",
    "| `values()`     | Returns a list of all the values in the dictionary                                                          |\n",
    "\n",
    "For examples and additional information on dictionary's methods, refer to [Dictionary Methods](https://www.w3schools.com/python/python_dictionaries_methods.asp)\n"
   ]
  },
  {
   "cell_type": "markdown",
   "metadata": {},
   "source": [
    "Below are a few operations with which we can interact with dictionaries:\n",
    "\n",
    "1. **Length:** The `len()` function returns the number of key-value pairs in a dictionary.\n",
    "2. **Membership Test:** The `in` and `not in` operators can be used to check if a key or value exists in a dictionary.\n",
    "3. **Iteration:** You can iterate over the keys, values, or key-value pairs of a dictionary using loops or methods like `keys()`, `values()`, and `items()`.\n",
    "4. **Dictionary Comprehension:** You can create new dictionaries from existing ones using dictionary comprehension, which is a concise and efficient way to transform data.\n",
    "5. **Copying Dictionaries:** You can create shallow or deep copies of dictionaries using the `copy()` or `deepcopy()` methods from the copy module.\n",
    "6. **Updating Dictionaries:** You can update a dictionary with key-value pairs from another dictionary using the `update()` method.\n"
   ]
  },
  {
   "cell_type": "markdown",
   "metadata": {},
   "source": [
    "**Shallow Copy vs. Deep Copy:**\n",
    "\n",
    "- A `shallow copy` creates a new dictionary that is a copy of the original dictionary, but if any of the values in the original dictionary are mutable objects (e.g., lists, dictionaries), the new dictionary will still refer to the same mutable objects as the original dictionary.\n",
    "- A `deep copy` creates a new dictionary that is a complete independent copy of the original dictionary, including any nested mutable objects. If the original dictionary contains mutable objects as values, the deep copy will create new copies of those mutable objects as well.\n"
   ]
  },
  {
   "cell_type": "code",
   "execution_count": null,
   "metadata": {},
   "outputs": [],
   "source": [
    "# Dictionary properties and operations\n",
    "person = {'name': 'Akhil', 'age': 19, 'city': 'Hyderabad'}\n",
    "\n",
    "# Length\n",
    "print(len(person))  # Output: 3\n",
    "\n",
    "# Membership test\n",
    "print('name' in person)  # Output: True\n",
    "print('email' not in person)  # Output: True\n",
    "\n",
    "# Iteration\n",
    "for key, value in person.items():\n",
    "    print(f\"{key}: {value}\")\n",
    "\n",
    "# Dictionary comprehension\n",
    "new_dict = {key.upper(): value for key, value in person.items()}\n",
    "print(new_dict)  # Output: {'NAME': 'Akhil', 'AGE': 19, 'CITY': 'Hyderabad'}\n",
    "\n",
    "# Copying dictionaries\n",
    "import copy\n",
    "shallow_copy = person.copy()\n",
    "deep_copy = copy.deepcopy(person)\n",
    "\n",
    "# Updating dictionaries\n",
    "person.update({'email': 'akhil@example.com', 'age': 19})\n",
    "print(person)  # Output: {'name': 'Akhil', 'age': 19, 'city': 'Hyderabad', 'email': 'akhil@example.com'}"
   ]
  },
  {
   "cell_type": "markdown",
   "metadata": {},
   "source": [
    "**Explanation of the above code:**\n",
    "\n",
    "- We create a dictionary `person` with three key-value pairs: 'name': 'Akhil', 'age': 19, and 'city': 'Hyderabad'.\n",
    "- We use the `len()` function to get the number of key-value pairs in the dictionary.\n",
    "- We use the `in` and `not in` operators to check if specific keys exist in the dictionary.\n",
    "- We iterate over the keys of the dictionary using a `for` loop and print the key-value pairs.\n",
    "- We create a new dictionary `new_dict` using dictionary comprehension, where the keys are converted to uppercase.\n",
    "- We create a shallow copy `shallow_copy` and a deep copy `deep_copy` of the `person` dictionary using the `copy()` and `deepcopy()` methods from the `copy` module, respectively.\n",
    "- We update the `person` dictionary with a new key-value pair 'email': 'akhil@example.com' and `update` the value associated with the key 'age' using the update() method.\n"
   ]
  },
  {
   "cell_type": "markdown",
   "metadata": {},
   "source": [
    "**Interactive Exercise:**\n",
    "\n",
    "Using the book dictionary you've been working with, perform the following operations:\n",
    "\n",
    "- Find the number of key-value pairs in the dictionary.\n",
    "- Check if the 'publisher' key exists in the dictionary.\n",
    "- Iterate over the key-value pairs of the dictionary and print them.\n",
    "- Create a new dictionary where the keys are converted to uppercase.\n",
    "- Create a shallow copy and a deep copy of the book dictionary.\n"
   ]
  },
  {
   "cell_type": "code",
   "execution_count": null,
   "metadata": {},
   "outputs": [],
   "source": [
    "# Write code below"
   ]
  },
  {
   "cell_type": "markdown",
   "metadata": {},
   "source": [
    "#### `Popping` from dictionaries\n",
    "\n",
    "The `pop` method for dictionaries allows you to remove and retrieve a value associated with a specified key.\n"
   ]
  },
  {
   "cell_type": "code",
   "execution_count": null,
   "metadata": {},
   "outputs": [],
   "source": [
    "# Creating a dictionary\n",
    "person = {'name': 'Akhil', 'age': 19, 'city': 'Hyderabad'}\n",
    "\n",
    "# Popping a value from the dictionary\n",
    "age = person.pop('age')\n",
    "print(age)            # Output: 19\n",
    "print(person)         # Output: {'name': 'Akhil', 'city': 'Hyderabad'}\n",
    "\n",
    "# Popping a value with a default value\n",
    "occupation = person.pop('occupation', 'Unknown')\n",
    "print(occupation)     # Output: 'Unknown'"
   ]
  },
  {
   "cell_type": "markdown",
   "metadata": {},
   "source": [
    "**Explanation of the above code:**\n",
    "\n",
    "- We create a dictionary `person` with three key-value pairs: 'name': 'Akhil', 'age': 19, and 'city': 'Hyderabad'.\n",
    "- We use the `pop('age')` method to remove and retrieve the value associated with the key 'age'. The variable `age` stores the value 19, and the dictionary person is updated to `{'name': 'Akhil', 'city': 'Hyderabad'}`.\n",
    "- We use the `pop('occupation', 'Unknown')` method to remove and retrieve the value associated with the key 'occupation'. Since the key 'occupation' doesn't exist in the dictionary, the default value 'Unknown' is returned and stored in the variable `occupation`.\n"
   ]
  },
  {
   "cell_type": "markdown",
   "metadata": {},
   "source": [
    "**Interactive Exercise:**\n",
    "\n",
    "Create a dictionary representing a book, with keys like 'title', 'author', 'year', and 'genre'. Perform the following operations using the pop method:\n",
    "\n",
    "- Remove and print the value associated with the 'author' key.\n",
    "- Try to pop a value associated with a non-existent key and handle the resulting exception.\n",
    "- Pop a value associated with a non-existent key, but provide a default value to be returned.\n"
   ]
  },
  {
   "cell_type": "code",
   "execution_count": null,
   "metadata": {},
   "outputs": [],
   "source": [
    "# Write code below"
   ]
  },
  {
   "cell_type": "markdown",
   "metadata": {},
   "source": [
    "## 8. Math, Logic, and Secret Codes – Mastering Python's Operator Toolbox!\n"
   ]
  },
  {
   "cell_type": "markdown",
   "metadata": {},
   "source": [
    "Operators are like special symbols that tell Python how to do different things with our data. They're the building blocks for calculations, comparisons, and making decisions in your programs. Let's dive in!\n"
   ]
  },
  {
   "cell_type": "markdown",
   "metadata": {},
   "source": [
    "### i. Arithmetic Operators: The Calculators\n",
    "\n",
    "These are your old pals for doing math\n",
    "\n",
    "| Operator | Name           | Example  |\n",
    "| -------- | -------------- | -------- |\n",
    "| +        | Addition       | x + y    |\n",
    "| -        | Subtraction    | x - y    |\n",
    "| \\*       | Multiplication | x \\* y   |\n",
    "| /        | Division       | x / y    |\n",
    "| %        | Modulus        | x % y    |\n",
    "| \\*\\*     | Exponentiation | x \\*\\* y |\n",
    "| //       | Floor division | x // y   |\n"
   ]
  },
  {
   "cell_type": "code",
   "execution_count": null,
   "metadata": {},
   "outputs": [
    {
     "name": "stdout",
     "output_type": "stream",
     "text": [
      "Total Cost = ₹ 14500\n",
      "Total amount collected = ₹15000\n",
      "The change returned by the bearer = ₹500\n",
      "Each person gets back ₹100\n"
     ]
    }
   ],
   "source": [
    "price = 10000\n",
    "tax = 4500  # I know that's a lot of tax :(\n",
    "\n",
    "total_cost = price + tax\n",
    "print(f\"Total Cost = ₹ {total_cost}\")\n",
    "\n",
    "# Say each person pooled in ₹3000\n",
    "amount_per_person = 3000\n",
    "number_of_people = 5\n",
    "amount_pool = number_of_people * amount_per_person\n",
    "print(f\"Total amount collected = ₹{amount_pool}\")\n",
    "\n",
    "# Let's see how much change we get back\n",
    "change = amount_pool - total_cost\n",
    "print(f\"The change returned by the bearer = ₹{change}\")\n",
    "\n",
    "# Let's now see how much change each person gets\n",
    "change_per_person = change / number_of_people\n",
    "print(f\"Each person gets back ₹{change_per_person:.0f}\")"
   ]
  },
  {
   "cell_type": "markdown",
   "metadata": {},
   "source": [
    "#### Interactive Exercise\n",
    "\n",
    "You're planning a party! Ask the user for the number of guests, cost of snacks, and cost of drinks. Calculate the total cost and the cost per person.\n"
   ]
  },
  {
   "cell_type": "code",
   "execution_count": null,
   "metadata": {},
   "outputs": [],
   "source": [
    "# Write your code here"
   ]
  },
  {
   "cell_type": "markdown",
   "metadata": {},
   "source": [
    "### ii. Assignment Operators: The Organizers\n",
    "\n",
    "Think of these as putting values into labeled boxes (variables).\n",
    "\n",
    "We can also combine the assignment (=) with another operator in one step. This makes your code more concise and readable.\n",
    "\n",
    "| Operator | Example       | Same As            |\n",
    "| -------- | ------------- | ------------------ |\n",
    "| =        | x = 5         | x = 5              |\n",
    "| +=       | x += 3        | x = x + 3          |\n",
    "| -=       | x -= 3        | x = x - 3          |\n",
    "| \\*=      | x \\*= 3       | x = x \\* 3         |\n",
    "| /=       | x /= 3        | x = x / 3          |\n",
    "| %=       | x %= 3        | x = x % 3          |\n",
    "| //=      | x //= 3       | x = x // 3         |\n",
    "| \\*\\*=    | x \\*\\*= 3     | x = x \\*\\* 3       |\n",
    "| &=       | x &= 3        | x = x & 3          |\n",
    "| \\|=      | x \\|= 3       | x = x \\| 3         |\n",
    "| ^=       | x ^= 3        | x = x ^ 3          |\n",
    "| >>=      | x >>= 3       | x = x >> 3         |\n",
    "| <<=      | x <<= 3       | x = x << 3         |\n",
    "| :=       | print(x := 3) | x = 3<br/>print(x) |\n"
   ]
  },
  {
   "cell_type": "code",
   "execution_count": null,
   "metadata": {},
   "outputs": [],
   "source": [
    "score = 0\n",
    "level = 1\n",
    "is_boss_defeated = False"
   ]
  },
  {
   "cell_type": "markdown",
   "metadata": {},
   "source": [
    "#### Interactive Exercise:\n",
    "\n",
    "Create variables to store your age, your lucky number, and your favorite food.\n"
   ]
  },
  {
   "cell_type": "code",
   "execution_count": null,
   "metadata": {},
   "outputs": [],
   "source": [
    "# Write code below"
   ]
  },
  {
   "cell_type": "markdown",
   "metadata": {},
   "source": [
    "### iii. Comparison Operators: The Truth Seekers\n",
    "\n",
    "These operators compare values and give us a True or False answer.\n",
    "\n",
    "| Operator | Name                     | Example |\n",
    "| -------- | ------------------------ | ------- |\n",
    "| ==       | Equal                    | x == y  |\n",
    "| !=       | Not equal                | x != y  |\n",
    "| >        | Greater than             | x > y   |\n",
    "| <        | Less than                | x < y   |\n",
    "| >=       | Greater than or equal to | x >= y  |\n",
    "| <=       | Less than or equal to    | x <= y  |\n"
   ]
  },
  {
   "cell_type": "code",
   "execution_count": null,
   "metadata": {},
   "outputs": [
    {
     "name": "stdout",
     "output_type": "stream",
     "text": [
      "Is 148 > 150? False\n",
      "Are 'Swecha' and 'swecha' the same? False\n",
      "Is bucket ([1, 2, 3, 4, 5]) non-empty? True\n"
     ]
    }
   ],
   "source": [
    "# Check if height is greater\n",
    "height = 148\n",
    "print(f\"Is {height} > 150? {height > 150}\")\n",
    "\n",
    "# Check if the names are same\n",
    "name = \"Swecha\"\n",
    "print(f\"Are '{name}' and 'swecha' the same? {name == 'swecha'}\")\n",
    "\n",
    "# Check if a list is empty\n",
    "basket = [1, 2, 3, 4, 5]\n",
    "print(f\"Is bucket ({basket}) non-empty? {basket != []}\")"
   ]
  },
  {
   "cell_type": "markdown",
   "metadata": {},
   "source": [
    "#### Interactive Exercise:\n",
    "\n",
    "Write a program that takes a number from the user and checks if it's even or odd.\n"
   ]
  },
  {
   "cell_type": "code",
   "execution_count": null,
   "metadata": {},
   "outputs": [],
   "source": [
    "# Write code below"
   ]
  },
  {
   "cell_type": "markdown",
   "metadata": {},
   "source": [
    "### iv. Logical Operators: Decision Makers\n",
    "\n",
    "They combine conditions, like super-sleuths putting together clues.\n",
    "\n",
    "| Operator | Description                                             | Example               |\n",
    "| -------- | ------------------------------------------------------- | --------------------- |\n",
    "| and      | Returns True if both statements are true                | x < 5 and x < 10      |\n",
    "| or       | Returns True if one of the statements is true           | x < 5 or x < 4        |\n",
    "| not      | Reverse the result, returns False if the result is true | not(x < 5 and x < 10) |\n"
   ]
  },
  {
   "cell_type": "code",
   "execution_count": null,
   "metadata": {},
   "outputs": [
    {
     "ename": "NameError",
     "evalue": "name 'has_enough_money' is not defined",
     "output_type": "error",
     "traceback": [
      "\u001b[0;31m---------------------------------------------------------------------------\u001b[0m\n",
      "\u001b[0;31mNameError\u001b[0m                                 Traceback (most recent call last)\n",
      "\u001b[0;32m<ipython-input-21-e9fd86f8e2d6>\u001b[0m in \u001b[0;36m<cell line: 2>\u001b[0;34m()\u001b[0m\n",
      "\u001b[1;32m      1\u001b[0m \u001b[0mis_teenager\u001b[0m \u001b[0;34m=\u001b[0m \u001b[0mage\u001b[0m \u001b[0;34m>=\u001b[0m \u001b[0;36m13\u001b[0m \u001b[0;32mand\u001b[0m \u001b[0mage\u001b[0m \u001b[0;34m<=\u001b[0m \u001b[0;36m19\u001b[0m\u001b[0;34m\u001b[0m\u001b[0;34m\u001b[0m\u001b[0m\n",
      "\u001b[0;32m----> 2\u001b[0;31m \u001b[0mcan_purchase\u001b[0m \u001b[0;34m=\u001b[0m \u001b[0mhas_enough_money\u001b[0m \u001b[0;32mor\u001b[0m \u001b[0mhas_coupon\u001b[0m\u001b[0;34m\u001b[0m\u001b[0;34m\u001b[0m\u001b[0m\n",
      "\u001b[0m\u001b[1;32m      3\u001b[0m \u001b[0mis_safe\u001b[0m \u001b[0;34m=\u001b[0m \u001b[0;32mnot\u001b[0m \u001b[0mis_raining\u001b[0m \u001b[0;32mand\u001b[0m \u001b[0;32mnot\u001b[0m \u001b[0mis_dark\u001b[0m\u001b[0;34m\u001b[0m\u001b[0;34m\u001b[0m\u001b[0m\n",
      "\n",
      "\u001b[0;31mNameError\u001b[0m: name 'has_enough_money' is not defined"
     ]
    }
   ],
   "source": [
    "is_teenager = age >= 13 and age <= 19\n",
    "\n",
    "has_enough_money, has_coupon = True, False\n",
    "can_purchase = has_enough_money or has_coupon\n",
    "\n",
    "is_raining, is_dark = False, True\n",
    "is_safe = not is_raining and not is_dark"
   ]
  },
  {
   "cell_type": "markdown",
   "metadata": {},
   "source": [
    "#### Interactive Exercise:\n",
    "\n",
    "Make a program that determines if someone is allowed on a theme park ride. Check if they are tall enough and old enough.\n"
   ]
  },
  {
   "cell_type": "code",
   "execution_count": null,
   "metadata": {},
   "outputs": [],
   "source": [
    "# Write code below"
   ]
  },
  {
   "cell_type": "markdown",
   "metadata": {},
   "source": [
    "### v. Identity Operators: Spotting Twins\n",
    "\n",
    "These check if two things actually refer to the same object in memory.\n",
    "\n",
    "- `is`: True if they're the same object.\n",
    "- `is not`: True if they're different objects.\n",
    "\n",
    "| Operator | Description                                            | Example    |\n",
    "| -------- | ------------------------------------------------------ | ---------- |\n",
    "| is       | Returns True if both variables are the same object     | x is y     |\n",
    "| is not   | Returns True if both variables are not the same object | x is not y |\n"
   ]
  },
  {
   "cell_type": "code",
   "execution_count": null,
   "metadata": {},
   "outputs": [],
   "source": [
    "list1 = [1, 2]\n",
    "list2 = [1, 2]\n",
    "list1 is list2  # False, they're different lists\n",
    "list1 is not list2   # True"
   ]
  },
  {
   "cell_type": "markdown",
   "metadata": {},
   "source": [
    "#### Interactive Exercise (Tricky!):\n",
    "\n",
    "Create two separate lists or variables that hold the same value. Check if they are considered identical using is. Explain why the result might be surprising.\n"
   ]
  },
  {
   "cell_type": "markdown",
   "metadata": {},
   "source": [
    "### vi. Membership Operators: The \"In\" Crowd\n",
    "\n",
    "These check if a value is part of something else (like in a list or string).\n",
    "\n",
    "- `in`: True if the value is found.\n",
    "- `not in`: True if the value is not found.\n",
    "\n",
    "| Operator | Description                                                                      | Example    |\n",
    "| -------- | -------------------------------------------------------------------------------- | ---------- |\n",
    "| in       | Returns True if a sequence with the specified value is present in the object     | x in y     |\n",
    "| not in   | Returns True if a sequence with the specified value is not present in the object | x not in y |\n"
   ]
  },
  {
   "cell_type": "code",
   "execution_count": null,
   "metadata": {},
   "outputs": [],
   "source": [
    "vowel = 'a' in \"hello\"  # True\n",
    "number = 5 not in [1, 3, 7]  # True"
   ]
  },
  {
   "cell_type": "markdown",
   "metadata": {},
   "source": [
    "#### Interactive Exercise:\n",
    "\n",
    "Ask the user for a word. Check if a specific letter they choose is present in that word.\n"
   ]
  },
  {
   "cell_type": "code",
   "execution_count": null,
   "metadata": {},
   "outputs": [],
   "source": [
    "# Write code below"
   ]
  },
  {
   "cell_type": "markdown",
   "metadata": {},
   "source": [
    "### vii. Bitwise Operators: The Bit Flippers\n",
    "\n",
    "These operators work directly on the individual bits (0s and 1s) that represent data. They're used for low-level tasks or advanced techniques.\n",
    "\n",
    "| Operator | Name                 | Description                                                                                             | Example |\n",
    "| -------- | -------------------- | ------------------------------------------------------------------------------------------------------- | ------- |\n",
    "| &        | AND                  | Sets each bit to 1 if both bits are 1                                                                   | x & y   |\n",
    "| \\|       | OR                   | Sets each bit to 1 if one of two bits is 1                                                              | x \\| y  |\n",
    "| ^        | XOR                  | Sets each bit to 1 if only one of two bits is 1                                                         | x ^ y   |\n",
    "| ~        | NOT                  | Inverts all the bits                                                                                    | ~x      |\n",
    "| <<       | Zero fill left shift | Shift left by pushing zeros in from the right and let the leftmost bits fall off                        | x << 2  |\n",
    "| >>       | Signed right shift   | Shift right by pushing copies of the leftmost bit in from the left, and let the rightmost bits fall off | x >> 2  |\n"
   ]
  },
  {
   "cell_type": "code",
   "execution_count": null,
   "metadata": {},
   "outputs": [],
   "source": [
    "x = 4  # 0100 in binary\n",
    "y = 1  # 0001 in binary\n",
    "x & y  # Bitwise AND (0000)\n",
    "x | y  # Bitwise OR (0101)\n",
    "~x     # Bitwise NOT (1011)"
   ]
  },
  {
   "cell_type": "markdown",
   "metadata": {},
   "source": [
    "#### Interactive Exercise (Advanced):\n",
    "\n",
    "Start with the number 10. Using bitwise shifts (<< and >>), see if you can turn it into the number 5.\n"
   ]
  },
  {
   "cell_type": "markdown",
   "metadata": {},
   "source": [
    "### Decoding Differences\n",
    "\n",
    "#### Unary vs. Binary:\n",
    "\n",
    "- `Unary`: Acts on a single value (e.g., -number, not condition)\n",
    "- `Binary`: Acts on two values (e.g., number1 + number2, value in list)\n"
   ]
  },
  {
   "cell_type": "markdown",
   "metadata": {},
   "source": [
    "### Operators Precedence: Who Goes First?\n",
    "\n",
    "Just like in math, Python follows a hierarchy (PEMDAS / BODMAS) for operators. This determines which operations are done before others.\n",
    "\n",
    "`Precedence order` is described in the table below, starting with the highest precedence at the top:\n",
    "\n",
    "| Operator                                                | Description                                           |\n",
    "| ------------------------------------------------------- | ----------------------------------------------------- |\n",
    "| ()                                                      | Parentheses                                           |\n",
    "| \\*\\*                                                    | Exponentiation                                        |\n",
    "| +x -x ~x                                                | Unary plus, unary minus, and bitwise NOT              |\n",
    "| \\* / // %                                               | Multiplication, division, floor division, and modulus |\n",
    "| + -                                                     | Addition and subtraction                              |\n",
    "| << >>                                                   | Bitwise left and right shifts                         |\n",
    "| &                                                       | Bitwise AND                                           |\n",
    "| ^                                                       | Bitwise XOR                                           |\n",
    "| \\|                                                      | Bitwise OR                                            |\n",
    "| `==` `!=` `>` `>=` `<` `<=` `is` `is not` `in` `not in` | Comparisons, identity, and membership operators       |\n",
    "| not                                                     | Logical NOT                                           |\n",
    "| and                                                     | AND                                                   |\n",
    "| or                                                      | OR                                                    |\n"
   ]
  },
  {
   "cell_type": "code",
   "execution_count": null,
   "metadata": {},
   "outputs": [],
   "source": [
    "result = 10 + 5 * 2  # Multiplication happens before addition\n",
    "has_ticket, is_member = False, True\n",
    "is_valid = age >= 18 and (has_ticket or is_member)\n",
    "print(is_valid)"
   ]
  },
  {
   "cell_type": "markdown",
   "metadata": {},
   "source": [
    "**Interactive Exercise:**\n",
    "\n",
    "Write expressions with a mix of operators. Predict the result before running your code, then check if you were right!\n"
   ]
  },
  {
   "cell_type": "code",
   "execution_count": null,
   "metadata": {},
   "outputs": [],
   "source": [
    "# Write code below"
   ]
  }
 ],
 "metadata": {
  "language_info": {
   "name": "python"
  }
 },
 "nbformat": 4,
 "nbformat_minor": 2
}
