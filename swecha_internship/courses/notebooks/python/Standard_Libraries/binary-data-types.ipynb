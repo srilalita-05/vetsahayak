{
 "cells": [
  {
   "cell_type": "markdown",
   "metadata": {},
   "source": [
    "## **struct**\n",
    "\n",
    "This module converts between Python values and C structs represented as Python bytes objects. The module’s functions and objects can be used for two largely distinct applications, data exchange with external sources. \n",
    "\n",
    "Several struct functions (and methods of Struct) take a buffer argument."
   ]
  },
  {
   "cell_type": "markdown",
   "metadata": {},
   "source": [
    "### **Functions and Exceptions**\n",
    "\n",
    "* **exception struct.error** - Exception raised on various occasions; argument is a string describing what is wrong.<br>\n",
    "* **struct.pack(format, v1, v2, ...)** - Return a bytes object containing the values v1, v2, … packed according to the format string format. The arguments must match the values required by the format exactly.<br>\n",
    "* **struct.pack_into(format, buffer, offset, v1, v2, ...)** - Pack the values v1, v2, … according to the format string format and write the packed bytes into the writable buffer buffer starting at position offset. Note that offset is a required argument.<br>\n",
    "* **struct.unpack(format, buffer)** - Unpack from the buffer buffer (presumably packed by pack(format, ...)) according to the format string format. The result is a tuple even if it contains exactly one item.<br>\n",
    "* **struct.unpack_from(format, /, buffer, offset=0)** - Unpack from buffer starting at position offset, according to the format string format. The result is a tuple even if it contains exactly one item.<br>\n",
    "* **struct.iter_unpack(format, buffer)** - Iteratively unpack from the buffer buffer according to the format string format. This function returns an iterator which will read equally sized chunks from the buffer until all its contents have been consumed.<br>\n",
    "* **struct.calcsize(format)** - Return the size of the struct."
   ]
  },
  {
   "cell_type": "markdown",
   "metadata": {},
   "source": [
    "Some commonly used format characters in Python's `struct` module:\n",
    "\n",
    "- `b`: Signed char (integer)\n",
    "- `B`: Unsigned char (integer)\n",
    "- `h`: Signed short (integer)\n",
    "- `H`: Unsigned short (integer)\n",
    "- `i`: Signed int (integer)\n",
    "- `I`: Unsigned int (integer)\n",
    "- `l`: Signed long (integer)\n",
    "- `L`: Unsigned long (integer)\n",
    "- `f`: Float (floating-point number)\n",
    "- `d`: Double (floating-point number)\n",
    "- `s`: String (array of char)\n",
    "- `x`: Padding byte (ignored)\n"
   ]
  },
  {
   "cell_type": "code",
   "execution_count": 7,
   "metadata": {
    "execution": {
     "iopub.execute_input": "2024-05-04T09:15:51.062636Z",
     "iopub.status.busy": "2024-05-04T09:15:51.062229Z",
     "iopub.status.idle": "2024-05-04T09:15:51.069942Z",
     "shell.execute_reply": "2024-05-04T09:15:51.068403Z",
     "shell.execute_reply.started": "2024-05-04T09:15:51.062605Z"
    },
    "trusted": true
   },
   "outputs": [
    {
     "name": "stdout",
     "output_type": "stream",
     "text": [
      "Exception raised: Something went wrong with the struct module\n"
     ]
    }
   ],
   "source": [
    "#struct.error:\n",
    "\n",
    "# Example of raising a struct.error exception\n",
    "import struct\n",
    "try:\n",
    "    raise struct.error(\"Something went wrong with the struct module\")\n",
    "except struct.error as e:\n",
    "    print(\"Exception raised:\", e)  #Exception raised: Something went wrong with the struct module"
   ]
  },
  {
   "cell_type": "code",
   "execution_count": 8,
   "metadata": {
    "execution": {
     "iopub.execute_input": "2024-05-04T09:18:28.023821Z",
     "iopub.status.busy": "2024-05-04T09:18:28.023447Z",
     "iopub.status.idle": "2024-05-04T09:18:28.030421Z",
     "shell.execute_reply": "2024-05-04T09:18:28.029542Z",
     "shell.execute_reply.started": "2024-05-04T09:18:28.023793Z"
    },
    "trusted": true
   },
   "outputs": [
    {
     "name": "stdout",
     "output_type": "stream",
     "text": [
      "Packed data: b'*\\x00\\x00\\x00\\xc3\\xf5H@\\x00\\x00\\xf0@'\n"
     ]
    }
   ],
   "source": [
    "#struct.pack(format, v1, v2, ...):\n",
    "import struct\n",
    "\n",
    "# Example of using struct.pack\n",
    "packed_data = struct.pack(\"Iff\", 42, 3.14, 7.5)\n",
    "print(\"Packed data:\", packed_data)  #Packed data: b'*\\x00\\x00\\x00\\xc3\\xf5H@\\x00\\x00\\xf0@'\n"
   ]
  },
  {
   "cell_type": "code",
   "execution_count": 9,
   "metadata": {
    "execution": {
     "iopub.execute_input": "2024-05-04T09:20:00.575757Z",
     "iopub.status.busy": "2024-05-04T09:20:00.575331Z",
     "iopub.status.idle": "2024-05-04T09:20:00.585193Z",
     "shell.execute_reply": "2024-05-04T09:20:00.582665Z",
     "shell.execute_reply.started": "2024-05-04T09:20:00.575727Z"
    },
    "trusted": true
   },
   "outputs": [
    {
     "name": "stdout",
     "output_type": "stream",
     "text": [
      "Packed into buffer: bytearray(b'\\x00\\x00\\x01\\x00\\x00\\x00\\x02\\x00\\x00\\x00\\x03\\x00\\x00\\x00')\n"
     ]
    }
   ],
   "source": [
    "#struct.pack_into(format, buffer, offset, v1, v2, ...):\n",
    "\n",
    "import struct\n",
    "\n",
    "# Example of using struct.pack_into\n",
    "buffer = bytearray(14)  # Increase the buffer size to 14 bytes\n",
    "offset = 2\n",
    "struct.pack_into(\"iii\", buffer, offset, 1, 2, 3)\n",
    "print(\"Packed into buffer:\", buffer) #Packed into buffer: bytearray(b'\\x00\\x00\\x01\\x00\\x00\\x00\\x02\\x00\\x00\\x00\\x03\\x00\\x00\\x00')\n"
   ]
  },
  {
   "cell_type": "code",
   "execution_count": 10,
   "metadata": {
    "execution": {
     "iopub.execute_input": "2024-05-04T09:22:15.501357Z",
     "iopub.status.busy": "2024-05-04T09:22:15.500969Z",
     "iopub.status.idle": "2024-05-04T09:22:15.509037Z",
     "shell.execute_reply": "2024-05-04T09:22:15.507547Z",
     "shell.execute_reply.started": "2024-05-04T09:22:15.501321Z"
    },
    "trusted": true
   },
   "outputs": [
    {
     "name": "stdout",
     "output_type": "stream",
     "text": [
      "Unpacked data: (5, 5.0)\n"
     ]
    }
   ],
   "source": [
    "#struct.unpack(format, buffer):\n",
    "\n",
    "import struct\n",
    "\n",
    "# Example of using struct.unpack\n",
    "packed_data = b'\\x05\\x00\\x00\\x00\\x00\\x00\\xa0@\\x00\\x00\\x00@'\n",
    "relevant_data = packed_data[:8]\n",
    "unpacked_data = struct.unpack(\"If\", relevant_data)\n",
    "print(\"Unpacked data:\", unpacked_data) #Unpacked data: (5, 5.0)"
   ]
  },
  {
   "cell_type": "code",
   "execution_count": 11,
   "metadata": {
    "execution": {
     "iopub.execute_input": "2024-05-04T09:23:35.788388Z",
     "iopub.status.busy": "2024-05-04T09:23:35.786942Z",
     "iopub.status.idle": "2024-05-04T09:23:35.795176Z",
     "shell.execute_reply": "2024-05-04T09:23:35.794137Z",
     "shell.execute_reply.started": "2024-05-04T09:23:35.788338Z"
    },
    "trusted": true
   },
   "outputs": [
    {
     "name": "stdout",
     "output_type": "stream",
     "text": [
      "Unpacked data: (5, 5.0)\n"
     ]
    }
   ],
   "source": [
    "#struct.unpack_from(format, /, buffer, offset=0)\n",
    "import struct\n",
    "\n",
    "# Example of using struct.unpack_from\n",
    "packed_data = b'\\x05\\x00\\x00\\x00\\x00\\x00\\xa0@\\x00\\x00\\x00@'\n",
    "unpacked_data = struct.unpack_from(\"If\", packed_data)\n",
    "print(\"Unpacked data:\", unpacked_data)  #Unpacked data: (5, 5.0)"
   ]
  },
  {
   "cell_type": "code",
   "execution_count": 12,
   "metadata": {
    "execution": {
     "iopub.execute_input": "2024-05-04T09:26:23.715193Z",
     "iopub.status.busy": "2024-05-04T09:26:23.714782Z",
     "iopub.status.idle": "2024-05-04T09:26:23.722424Z",
     "shell.execute_reply": "2024-05-04T09:26:23.720755Z",
     "shell.execute_reply.started": "2024-05-04T09:26:23.715163Z"
    },
    "trusted": true
   },
   "outputs": [
    {
     "name": "stdout",
     "output_type": "stream",
     "text": [
      "Unpacked data: (5, 5.0)\n"
     ]
    }
   ],
   "source": [
    "#struct.iter_unpack(format, buffer)\n",
    "import struct\n",
    "\n",
    "# Example of using struct.iter_unpack\n",
    "packed_data = b'\\x05\\x00\\x00\\x00\\x00\\x00\\xa0@\\x00\\x00\\x00@'\n",
    "relevant_data = packed_data[:8]\n",
    "iterator = struct.iter_unpack(\"If\", relevant_data)\n",
    "for data in iterator:\n",
    "    print(\"Unpacked data:\", data)  #Unpacked data: (5, 5.0)"
   ]
  },
  {
   "cell_type": "code",
   "execution_count": 13,
   "metadata": {
    "execution": {
     "iopub.execute_input": "2024-05-04T09:27:10.945211Z",
     "iopub.status.busy": "2024-05-04T09:27:10.944216Z",
     "iopub.status.idle": "2024-05-04T09:27:10.951429Z",
     "shell.execute_reply": "2024-05-04T09:27:10.950055Z",
     "shell.execute_reply.started": "2024-05-04T09:27:10.945170Z"
    },
    "trusted": true
   },
   "outputs": [
    {
     "name": "stdout",
     "output_type": "stream",
     "text": [
      "Size of the struct: 8\n"
     ]
    }
   ],
   "source": [
    "#struct.calcsize(format)\n",
    "\n",
    "import struct\n",
    "\n",
    "# Example of using struct.calcsize\n",
    "size = struct.calcsize(\"If\")\n",
    "print(\"Size of the struct:\", size) #Size of the struct: 8"
   ]
  },
  {
   "cell_type": "code",
   "execution_count": null,
   "metadata": {},
   "outputs": [],
   "source": []
  }
 ],
 "metadata": {
  "kaggle": {
   "accelerator": "none",
   "dataSources": [],
   "dockerImageVersionId": 30698,
   "isGpuEnabled": false,
   "isInternetEnabled": true,
   "language": "python",
   "sourceType": "notebook"
  },
  "kernelspec": {
   "display_name": "Python 3",
   "language": "python",
   "name": "python3"
  },
  "language_info": {
   "codemirror_mode": {
    "name": "ipython",
    "version": 3
   },
   "file_extension": ".py",
   "mimetype": "text/x-python",
   "name": "python",
   "nbconvert_exporter": "python",
   "pygments_lexer": "ipython3",
   "version": "3.12.2"
  }
 },
 "nbformat": 4,
 "nbformat_minor": 4
}
