{
 "cells": [
  {
   "cell_type": "markdown",
   "metadata": {},
   "source": [
    "Python provides a rich set of built-in functions that are readily available for developers to use without the need for importing external libraries. These built-in functions cover a wide range of tasks, from mathematical operations to data manipulation, file handling, and more. <br>\n",
    "Here's an overview of some of the most commonly used built-in functions in Python"
   ]
  },
  {
   "cell_type": "markdown",
   "metadata": {},
   "source": [
    "### **abs()** \n",
    "\n",
    "Return the absolute value of a number. The argument may be an integer, a floating point number, or an object implementing __abs__(). If the argument is a complex number, its magnitude is returned."
   ]
  },
  {
   "cell_type": "code",
   "execution_count": null,
   "metadata": {},
   "outputs": [
    {
     "name": "stdout",
     "output_type": "stream",
     "text": [
      "5.4\n"
     ]
    }
   ],
   "source": [
    "#Absolute value of a positive number\n",
    "num = -5.4\n",
    "absolute_num = abs(num)\n",
    "print(absolute_num)  # Output: 5"
   ]
  },
  {
   "cell_type": "code",
   "execution_count": 1,
   "metadata": {},
   "outputs": [
    {
     "name": "stdout",
     "output_type": "stream",
     "text": [
      "3.605551275463989\n"
     ]
    }
   ],
   "source": [
    "#Absolute number of a complex number\n",
    "complex_num = complex(-2, 3)\n",
    "absolute_complex_num = abs(complex_num)\n",
    "print(absolute_complex_num)  # Output: 3.605551275463989\n"
   ]
  },
  {
   "cell_type": "code",
   "execution_count": null,
   "metadata": {},
   "outputs": [],
   "source": [
    "#Find absolute number of negative number\n",
    "#Write your code here\n"
   ]
  },
  {
   "cell_type": "code",
   "execution_count": null,
   "metadata": {
    "_kg_hide-input": true
   },
   "outputs": [],
   "source": [
    "num = -8\n",
    "absolute_num = abs(num)\n",
    "print(absolute_num)  # Output: 8"
   ]
  },
  {
   "cell_type": "code",
   "execution_count": 3,
   "metadata": {
    "_kg_hide-input": true
   },
   "outputs": [
    {
     "name": "stdout",
     "output_type": "stream",
     "text": [
      "8.345\n"
     ]
    }
   ],
   "source": [
    "#Find absolute number of negative floating number\n",
    "\n",
    "num = -8.345\n",
    "absolute_num = abs(num)\n",
    "print(absolute_num)  # Output: 8.345"
   ]
  },
  {
   "cell_type": "markdown",
   "metadata": {},
   "source": [
    "### **aiter(async_iterable)** \n",
    "\n",
    "Return an asynchronous iterator for an asynchronous iterable. Equivalent to calling x.aiter()."
   ]
  },
  {
   "cell_type": "code",
   "execution_count": 2,
   "metadata": {
    "execution": {
     "iopub.execute_input": "2024-05-03T17:10:50.127114Z",
     "iopub.status.busy": "2024-05-03T17:10:50.126247Z",
     "iopub.status.idle": "2024-05-03T17:10:50.133439Z",
     "shell.execute_reply": "2024-05-03T17:10:50.132356Z",
     "shell.execute_reply.started": "2024-05-03T17:10:50.127050Z"
    },
    "trusted": true
   },
   "outputs": [
    {
     "name": "stdout",
     "output_type": "stream",
     "text": [
      "0\n",
      "1\n",
      "2\n",
      "3\n",
      "4\n"
     ]
    }
   ],
   "source": [
    "async def async_generator():\n",
    "    for i in range(5):\n",
    "        yield i\n",
    "\n",
    "async def main():\n",
    "    async for item in async_generator():\n",
    "        print(item)\n",
    "\n",
    "await main()\n",
    "\n",
    "#The code defines an asynchronous generator that produces values from 0 to 4 \n",
    "#and then asynchronously iterates over these values in the main function, printing each value as it's generated"
   ]
  },
  {
   "cell_type": "markdown",
   "metadata": {},
   "source": [
    "### **all(iterable)**\n",
    "\n",
    "Return True if all elements of the iterable are true (or if the iterable is empty)"
   ]
  },
  {
   "cell_type": "code",
   "execution_count": 3,
   "metadata": {
    "execution": {
     "iopub.execute_input": "2024-05-03T17:11:28.198209Z",
     "iopub.status.busy": "2024-05-03T17:11:28.197013Z",
     "iopub.status.idle": "2024-05-03T17:11:28.204391Z",
     "shell.execute_reply": "2024-05-03T17:11:28.203010Z",
     "shell.execute_reply.started": "2024-05-03T17:11:28.198164Z"
    },
    "trusted": true
   },
   "outputs": [
    {
     "name": "stdout",
     "output_type": "stream",
     "text": [
      "False\n"
     ]
    }
   ],
   "source": [
    "#Checking if all elements in a list are True\n",
    "\n",
    "lst = [True, True, False, True]\n",
    "result = all(lst)\n",
    "print(result)  # Output: False"
   ]
  },
  {
   "cell_type": "code",
   "execution_count": 4,
   "metadata": {
    "execution": {
     "iopub.execute_input": "2024-05-03T17:11:30.640860Z",
     "iopub.status.busy": "2024-05-03T17:11:30.640401Z",
     "iopub.status.idle": "2024-05-03T17:11:30.646680Z",
     "shell.execute_reply": "2024-05-03T17:11:30.645691Z",
     "shell.execute_reply.started": "2024-05-03T17:11:30.640824Z"
    },
    "trusted": true
   },
   "outputs": [
    {
     "name": "stdout",
     "output_type": "stream",
     "text": [
      "True\n"
     ]
    }
   ],
   "source": [
    "#Checking if all characters in a string are letters\n",
    "\n",
    "text = \"HelloWorld\"\n",
    "result = all(char.isalpha() for char in text)\n",
    "print(result)  # Output: True"
   ]
  },
  {
   "cell_type": "code",
   "execution_count": 5,
   "metadata": {
    "execution": {
     "iopub.execute_input": "2024-05-03T17:11:31.992962Z",
     "iopub.status.busy": "2024-05-03T17:11:31.992183Z",
     "iopub.status.idle": "2024-05-03T17:11:31.997730Z",
     "shell.execute_reply": "2024-05-03T17:11:31.996653Z",
     "shell.execute_reply.started": "2024-05-03T17:11:31.992923Z"
    },
    "trusted": true
   },
   "outputs": [],
   "source": [
    "#Using all() with an empty iterable,0 ,1,0.0 etc\n",
    "#Write your code here"
   ]
  },
  {
   "cell_type": "code",
   "execution_count": 6,
   "metadata": {
    "_kg_hide-input": true,
    "execution": {
     "iopub.execute_input": "2024-05-03T17:11:33.107297Z",
     "iopub.status.busy": "2024-05-03T17:11:33.106840Z",
     "iopub.status.idle": "2024-05-03T17:11:33.113226Z",
     "shell.execute_reply": "2024-05-03T17:11:33.112135Z",
     "shell.execute_reply.started": "2024-05-03T17:11:33.107258Z"
    },
    "trusted": true
   },
   "outputs": [
    {
     "name": "stdout",
     "output_type": "stream",
     "text": [
      "True\n"
     ]
    }
   ],
   "source": [
    "empty_list = []\n",
    "result = all(empty_list)\n",
    "print(result)  # Output: True"
   ]
  },
  {
   "cell_type": "markdown",
   "metadata": {},
   "source": [
    "### **any(iterable)**\n",
    "\n",
    "Return True if any element of the iterable is true. If the iterable is empty, return False"
   ]
  },
  {
   "cell_type": "code",
   "execution_count": 7,
   "metadata": {
    "execution": {
     "iopub.execute_input": "2024-05-03T17:11:50.437797Z",
     "iopub.status.busy": "2024-05-03T17:11:50.436552Z",
     "iopub.status.idle": "2024-05-03T17:11:50.443327Z",
     "shell.execute_reply": "2024-05-03T17:11:50.442229Z",
     "shell.execute_reply.started": "2024-05-03T17:11:50.437752Z"
    },
    "trusted": true
   },
   "outputs": [
    {
     "name": "stdout",
     "output_type": "stream",
     "text": [
      "True\n"
     ]
    }
   ],
   "source": [
    "#Checking if any element in a list is True\n",
    "\n",
    "lst = [False, False, True, False]\n",
    "result = any(lst)\n",
    "print(result)  # Output: True"
   ]
  },
  {
   "cell_type": "code",
   "execution_count": 8,
   "metadata": {
    "execution": {
     "iopub.execute_input": "2024-05-03T17:11:51.431770Z",
     "iopub.status.busy": "2024-05-03T17:11:51.431290Z",
     "iopub.status.idle": "2024-05-03T17:11:51.438686Z",
     "shell.execute_reply": "2024-05-03T17:11:51.437356Z",
     "shell.execute_reply.started": "2024-05-03T17:11:51.431737Z"
    },
    "trusted": true
   },
   "outputs": [
    {
     "name": "stdout",
     "output_type": "stream",
     "text": [
      "True\n"
     ]
    }
   ],
   "source": [
    "#Checking if any character in a string is uppercase\n",
    "\n",
    "text = \"Hello World\"\n",
    "result = any(char.isupper() for char in text)\n",
    "print(result)  # Output: True"
   ]
  },
  {
   "cell_type": "code",
   "execution_count": null,
   "metadata": {},
   "outputs": [],
   "source": [
    "#Using any() with an empty iterable\n",
    "#Write your code here"
   ]
  },
  {
   "cell_type": "code",
   "execution_count": 9,
   "metadata": {
    "_kg_hide-input": true,
    "execution": {
     "iopub.execute_input": "2024-05-03T17:11:56.646445Z",
     "iopub.status.busy": "2024-05-03T17:11:56.645583Z",
     "iopub.status.idle": "2024-05-03T17:11:56.651225Z",
     "shell.execute_reply": "2024-05-03T17:11:56.650027Z",
     "shell.execute_reply.started": "2024-05-03T17:11:56.646406Z"
    },
    "trusted": true
   },
   "outputs": [
    {
     "name": "stdout",
     "output_type": "stream",
     "text": [
      "False\n"
     ]
    }
   ],
   "source": [
    "empty_list = []\n",
    "result = any(empty_list)\n",
    "print(result)  # Output: False"
   ]
  },
  {
   "cell_type": "markdown",
   "metadata": {},
   "source": [
    "### **ascii()**\n",
    "\n",
    "Converts various types of objects into their ASCII representation. It's particularly useful when dealing with non-ASCII characters that need to be represented in a string."
   ]
  },
  {
   "cell_type": "code",
   "execution_count": 10,
   "metadata": {
    "execution": {
     "iopub.execute_input": "2024-05-03T17:12:02.536199Z",
     "iopub.status.busy": "2024-05-03T17:12:02.535719Z",
     "iopub.status.idle": "2024-05-03T17:12:02.541988Z",
     "shell.execute_reply": "2024-05-03T17:12:02.540653Z",
     "shell.execute_reply.started": "2024-05-03T17:12:02.536165Z"
    },
    "trusted": true
   },
   "outputs": [
    {
     "name": "stdout",
     "output_type": "stream",
     "text": [
      "'h\\xe9ll\\xf8'\n"
     ]
    }
   ],
   "source": [
    "#Using ascii() with a string containing non-ASCII characters\n",
    "\n",
    "text = \"héllø\"\n",
    "print(ascii(text))  # Output: 'h\\xe9ll\\xf8'"
   ]
  },
  {
   "cell_type": "code",
   "execution_count": 11,
   "metadata": {
    "execution": {
     "iopub.execute_input": "2024-05-03T17:12:06.897614Z",
     "iopub.status.busy": "2024-05-03T17:12:06.897173Z",
     "iopub.status.idle": "2024-05-03T17:12:06.904407Z",
     "shell.execute_reply": "2024-05-03T17:12:06.903123Z",
     "shell.execute_reply.started": "2024-05-03T17:12:06.897585Z"
    },
    "trusted": true
   },
   "outputs": [
    {
     "name": "stdout",
     "output_type": "stream",
     "text": [
      "['hello', 123, True, '\\u4f60\\u597d']\n"
     ]
    }
   ],
   "source": [
    "#Using ascii() with a list containing mixed data types\n",
    "\n",
    "mixed_list = ['hello', 123, True, '你好']\n",
    "print(ascii(mixed_list))  # Output: ['hello', 123, True, '\\u4f60\\u597d']"
   ]
  },
  {
   "cell_type": "code",
   "execution_count": 12,
   "metadata": {
    "execution": {
     "iopub.execute_input": "2024-05-03T17:12:07.926119Z",
     "iopub.status.busy": "2024-05-03T17:12:07.925681Z",
     "iopub.status.idle": "2024-05-03T17:12:07.930636Z",
     "shell.execute_reply": "2024-05-03T17:12:07.929508Z",
     "shell.execute_reply.started": "2024-05-03T17:12:07.926088Z"
    },
    "trusted": true
   },
   "outputs": [],
   "source": [
    "#Using ascii() with special characters\n",
    "#Write your code here"
   ]
  },
  {
   "cell_type": "code",
   "execution_count": 21,
   "metadata": {
    "_kg_hide-input": true
   },
   "outputs": [
    {
     "name": "stdout",
     "output_type": "stream",
     "text": [
      "'!\"#$%&\\'()*+,-./:;<=>?@[\\\\]^_`{|}~'\n"
     ]
    }
   ],
   "source": [
    "special_chars = '!\"#$%&\\'()*+,-./:;<=>?@[\\\\]^_`{|}~'\n",
    "print(ascii(special_chars))  # Output: '!\"#$%&\\'()*+,-./:;<=>?@[\\\\]^_`{|}~'"
   ]
  },
  {
   "cell_type": "markdown",
   "metadata": {},
   "source": [
    "### **bin(x)**\n",
    "\n",
    "Convert a number to a binary string prefixed with “0b”. The result is a valid Python expression."
   ]
  },
  {
   "cell_type": "code",
   "execution_count": 22,
   "metadata": {
    "trusted": true
   },
   "outputs": [
    {
     "name": "stdout",
     "output_type": "stream",
     "text": [
      "0b101111\n"
     ]
    }
   ],
   "source": [
    "#Converting a hexadecimal number to binary\n",
    "hex_num = 0x2F\n",
    "binary_hex = bin(hex_num)\n",
    "print(binary_hex)  # Output: '0b101111'"
   ]
  },
  {
   "cell_type": "code",
   "execution_count": 13,
   "metadata": {
    "execution": {
     "iopub.execute_input": "2024-05-03T17:12:19.398209Z",
     "iopub.status.busy": "2024-05-03T17:12:19.397743Z",
     "iopub.status.idle": "2024-05-03T17:12:19.403998Z",
     "shell.execute_reply": "2024-05-03T17:12:19.402945Z",
     "shell.execute_reply.started": "2024-05-03T17:12:19.398172Z"
    },
    "trusted": true
   },
   "outputs": [
    {
     "name": "stdout",
     "output_type": "stream",
     "text": [
      "-0b101\n"
     ]
    }
   ],
   "source": [
    "#Using bin() with a negative integer\n",
    "negative_num = -5\n",
    "binary_negative = bin(negative_num)\n",
    "print(binary_negative)  # Output: '-0b101'"
   ]
  },
  {
   "cell_type": "code",
   "execution_count": 24,
   "metadata": {},
   "outputs": [],
   "source": [
    "#Use bin() to convert Octal number to binary\n",
    "#Write your code here\n"
   ]
  },
  {
   "cell_type": "code",
   "execution_count": 32,
   "metadata": {
    "_kg_hide-input": true
   },
   "outputs": [
    {
     "name": "stdout",
     "output_type": "stream",
     "text": [
      "0b11110\n"
     ]
    }
   ],
   "source": [
    "# Step 1: Convert octal string to decimal\n",
    "octal_num = '36'\n",
    "decimal_num = int(octal_num, 8)\n",
    "\n",
    "# Step 2: Convert decimal to binary\n",
    "binary_num = bin(decimal_num)\n",
    "print(binary_num)"
   ]
  },
  {
   "cell_type": "markdown",
   "metadata": {},
   "source": [
    "### **bool(x)**"
   ]
  },
  {
   "cell_type": "code",
   "execution_count": 33,
   "metadata": {},
   "outputs": [
    {
     "name": "stdout",
     "output_type": "stream",
     "text": [
      "False\n",
      "\n",
      "True\n"
     ]
    }
   ],
   "source": [
    "#Converting numbers into boolean \n",
    "num1 = 0\n",
    "num2 = 10\n",
    "bool_num1 = bool(num1)\n",
    "bool_num2 = bool(num2)\n",
    "print(bool_num1)  # Output: False\n",
    "print(bool_num2)  # Output: True\n"
   ]
  },
  {
   "cell_type": "code",
   "execution_count": 34,
   "metadata": {},
   "outputs": [
    {
     "name": "stdout",
     "output_type": "stream",
     "text": [
      "False\n"
     ]
    }
   ],
   "source": [
    "#Using bool() with None\n",
    "print(bool(None))   # Output: False"
   ]
  },
  {
   "cell_type": "code",
   "execution_count": null,
   "metadata": {},
   "outputs": [],
   "source": [
    "#Find boolean value for empty string\n",
    "#Write your code here"
   ]
  },
  {
   "cell_type": "code",
   "execution_count": 14,
   "metadata": {
    "_kg_hide-input": true,
    "execution": {
     "iopub.execute_input": "2024-05-03T17:18:07.144398Z",
     "iopub.status.busy": "2024-05-03T17:18:07.143787Z",
     "iopub.status.idle": "2024-05-03T17:18:07.153344Z",
     "shell.execute_reply": "2024-05-03T17:18:07.151894Z",
     "shell.execute_reply.started": "2024-05-03T17:18:07.144362Z"
    },
    "trusted": true
   },
   "outputs": [
    {
     "data": {
      "text/plain": [
       "False"
      ]
     },
     "execution_count": 3,
     "metadata": {},
     "output_type": "execute_result"
    }
   ],
   "source": [
    "bool(\"\")"
   ]
  },
  {
   "cell_type": "markdown",
   "metadata": {},
   "source": [
    "### **breakpoint(*****args,** ****kws)**\n",
    "\n",
    "This function drops you into the debugger at the call site. Specifically, it calls sys.breakpointhook(), passing args and kws straight through. By default, sys.breakpointhook() calls pdb.set_trace() expecting no arguments.<br>\n",
    "By default, the behavior of breakpoint() can be changed with the PYTHONBREAKPOINT environment variable.<br>\n"
   ]
  },
  {
   "cell_type": "markdown",
   "metadata": {},
   "source": [
    "### **class bytearray(source=b'') <br> class bytearray(source, encoding) <br> class bytearray(source, encoding, errors)**\n",
    "\n",
    "Return a new array of bytes. The bytearray class is a mutable sequence of integers in the range 0 <= x < 256.\n",
    "The optional source parameter can be used to initialize the array in a few different ways:\n",
    "\n",
    "* If it is a string, you must also give the encoding (and optionally, errors) parameters; bytearray() then converts the string to bytes using str.encode().\n",
    "\n",
    "* If it is an integer, the array will have that size and will be initialized with null bytes.\n",
    "\n",
    "* If it is an object conforming to the buffer interface, a read-only buffer of the object will be used to initialize the bytes array.\n",
    "\n",
    "* If it is an iterable, it must be an iterable of integers in the range 0 <= x < 256, which are used as the initial contents of the array."
   ]
  },
  {
   "cell_type": "code",
   "execution_count": 15,
   "metadata": {
    "execution": {
     "iopub.execute_input": "2024-05-03T17:18:12.810431Z",
     "iopub.status.busy": "2024-05-03T17:18:12.809655Z",
     "iopub.status.idle": "2024-05-03T17:18:12.816209Z",
     "shell.execute_reply": "2024-05-03T17:18:12.815125Z",
     "shell.execute_reply.started": "2024-05-03T17:18:12.810392Z"
    },
    "trusted": true
   },
   "outputs": [
    {
     "name": "stdout",
     "output_type": "stream",
     "text": [
      "bytearray(b'')\n"
     ]
    }
   ],
   "source": [
    "#Creating an empty byte array\n",
    "empty_bytearray = bytearray()\n",
    "print(empty_bytearray)  # Output: bytearray(b'')"
   ]
  },
  {
   "cell_type": "code",
   "execution_count": 16,
   "metadata": {
    "execution": {
     "iopub.execute_input": "2024-05-03T17:18:16.376916Z",
     "iopub.status.busy": "2024-05-03T17:18:16.376072Z",
     "iopub.status.idle": "2024-05-03T17:18:16.382499Z",
     "shell.execute_reply": "2024-05-03T17:18:16.381282Z",
     "shell.execute_reply.started": "2024-05-03T17:18:16.376874Z"
    },
    "trusted": true
   },
   "outputs": [
    {
     "name": "stdout",
     "output_type": "stream",
     "text": [
      "bytearray(b'ABCDE')\n"
     ]
    }
   ],
   "source": [
    "#Creating a byte array from a list of integers\n",
    "int_list = [65, 66, 67, 68, 69]  # ASCII values for A, B, C, D, E\n",
    "int_bytearray = bytearray(int_list)\n",
    "print(int_bytearray)  # Output: bytearray(b'ABCDE')"
   ]
  },
  {
   "cell_type": "code",
   "execution_count": 17,
   "metadata": {
    "execution": {
     "iopub.execute_input": "2024-05-03T17:18:17.054502Z",
     "iopub.status.busy": "2024-05-03T17:18:17.053321Z",
     "iopub.status.idle": "2024-05-03T17:18:17.060264Z",
     "shell.execute_reply": "2024-05-03T17:18:17.059110Z",
     "shell.execute_reply.started": "2024-05-03T17:18:17.054455Z"
    },
    "trusted": true
   },
   "outputs": [
    {
     "name": "stdout",
     "output_type": "stream",
     "text": [
      "bytearray(b'hello')\n"
     ]
    }
   ],
   "source": [
    "#Creating a byte array from a string\n",
    "str_bytearray = bytearray(\"hello\", \"utf-8\")\n",
    "print(str_bytearray)  # Output: bytearray(b'hello')"
   ]
  },
  {
   "cell_type": "code",
   "execution_count": 39,
   "metadata": {},
   "outputs": [],
   "source": [
    "#Create a byte array from a range of integers\n",
    "#Write your code here"
   ]
  },
  {
   "cell_type": "code",
   "execution_count": 40,
   "metadata": {
    "_kg_hide-input": true
   },
   "outputs": [
    {
     "name": "stdout",
     "output_type": "stream",
     "text": [
      "bytearray(b'\\x00\\x01\\x02\\x03\\x04')\n"
     ]
    }
   ],
   "source": [
    "range_bytearray = bytearray(range(5))\n",
    "print(range_bytearray)  # Output: bytearray(b'\\x00\\x01\\x02\\x03\\x04')"
   ]
  },
  {
   "cell_type": "markdown",
   "metadata": {},
   "source": [
    "### **class bytes(source=b'') <br>class bytes(source, encoding) <br>class bytes(source, encoding, errors)**\n",
    "\n",
    "Return a new “bytes” object which is an immutable sequence of integers in the range 0 <= x < 256. bytes is an immutable version of bytearray – it has the same non-mutating methods and the same indexing and slicing behavior."
   ]
  },
  {
   "cell_type": "code",
   "execution_count": 41,
   "metadata": {},
   "outputs": [
    {
     "name": "stdout",
     "output_type": "stream",
     "text": [
      "b'ABCDE'\n"
     ]
    }
   ],
   "source": [
    "#Creating a bytes object from a list of integers\n",
    "int_list = [65, 66, 67, 68, 69]  # ASCII values for A, B, C, D, E\n",
    "int_bytes = bytes(int_list)\n",
    "print(int_bytes)  # Output: b'ABCDE'"
   ]
  },
  {
   "cell_type": "code",
   "execution_count": 45,
   "metadata": {},
   "outputs": [
    {
     "name": "stdout",
     "output_type": "stream",
     "text": [
      "b'abcde'\n",
      "\n",
      "b'abcde'\n"
     ]
    }
   ],
   "source": [
    "#Creating a bytes object from another bytes object\n",
    "original_bytes = bytes(b'abcde')\n",
    "print(original_bytes)\n",
    "copied_bytes = bytes(original_bytes)\n",
    "print(copied_bytes)  # Output: b'abcde'"
   ]
  },
  {
   "cell_type": "code",
   "execution_count": null,
   "metadata": {},
   "outputs": [],
   "source": [
    "#Creating a bytes object from a string\n",
    "#Write your code here"
   ]
  },
  {
   "cell_type": "code",
   "execution_count": 46,
   "metadata": {
    "_kg_hide-input": true
   },
   "outputs": [
    {
     "name": "stdout",
     "output_type": "stream",
     "text": [
      "b'hello'\n"
     ]
    }
   ],
   "source": [
    "str_bytes = bytes(\"hello\", \"utf-8\")\n",
    "print(str_bytes)  # Output: b'hello'"
   ]
  },
  {
   "cell_type": "markdown",
   "metadata": {},
   "source": [
    "### **callable(object)**\n",
    "\n",
    "Return True if the object argument appears callable, False if not. If this returns True, it is still possible that a call fails, but if it is False, calling object will never succeed."
   ]
  },
  {
   "cell_type": "code",
   "execution_count": 50,
   "metadata": {},
   "outputs": [
    {
     "name": "stdout",
     "output_type": "stream",
     "text": [
      "True\n"
     ]
    }
   ],
   "source": [
    "#Checking if a class is callable (due to its __call__ method)\n",
    "class MyClass:\n",
    "    def __call__(self):\n",
    "        print(\"Instance of MyClass is callable\")\n",
    "\n",
    "obj = MyClass()\n",
    "\n",
    "print(callable(obj))  # Output: True"
   ]
  },
  {
   "cell_type": "code",
   "execution_count": 51,
   "metadata": {},
   "outputs": [
    {
     "name": "stdout",
     "output_type": "stream",
     "text": [
      "True\n"
     ]
    }
   ],
   "source": [
    "#Checking if a function is callable\n",
    "def my_function():\n",
    "    print(\"Hello, World!\")\n",
    "\n",
    "print(callable(my_function))  # Output: True"
   ]
  },
  {
   "cell_type": "code",
   "execution_count": 54,
   "metadata": {},
   "outputs": [],
   "source": [
    "#Checking if an instance is callable (when it doesn't have a __call__ method)\n",
    "#Write your code here\n"
   ]
  },
  {
   "cell_type": "markdown",
   "metadata": {},
   "source": [
    "### **chr(i)**\n",
    "\n",
    "Return the string representing a character whose Unicode code point is the integer i. For example, chr(97) returns the string 'a', while chr(8364) returns the string '€'. This is the inverse of ord().<br>\n",
    "The valid range for the argument is from 0 through 1,114,111 (0x10FFFF in base 16). ValueError will be raised if i is outside that range."
   ]
  },
  {
   "cell_type": "code",
   "execution_count": 55,
   "metadata": {},
   "outputs": [
    {
     "name": "stdout",
     "output_type": "stream",
     "text": [
      "A\n",
      "\n",
      "a\n",
      "\n",
      "€\n"
     ]
    }
   ],
   "source": [
    "#Converting a Unicode code point to a character\n",
    "print(chr(65))   # Output: 'A'\n",
    "print(chr(97))   # Output: 'a'\n",
    "print(chr(8364)) # Output: '€'"
   ]
  },
  {
   "cell_type": "code",
   "execution_count": 56,
   "metadata": {},
   "outputs": [
    {
     "name": "stdout",
     "output_type": "stream",
     "text": [
      "A\n",
      "\n",
      "α\n"
     ]
    }
   ],
   "source": [
    "#Using chr() with hexadecimal Unicode code point\n",
    "print(chr(0x41))   # Output: 'A'\n",
    "print(chr(0x3B1))  # Output: 'α'"
   ]
  },
  {
   "cell_type": "code",
   "execution_count": 57,
   "metadata": {
    "trusted": true
   },
   "outputs": [
    {
     "ename": "ValueError",
     "evalue": "chr() arg not in range(0x110000)",
     "output_type": "error",
     "traceback": [
      "\u001b[1;31m---------------------------------------------------------------------------\u001b[0m",
      "\u001b[1;31mValueError\u001b[0m                                Traceback (most recent call last)",
      "Cell \u001b[1;32mIn[57], line 2\u001b[0m\n\u001b[0;32m      1\u001b[0m \u001b[38;5;66;03m#Using chr() with negative Unicode code point\u001b[39;00m\n\u001b[1;32m----> 2\u001b[0m \u001b[38;5;28mprint\u001b[39m(\u001b[38;5;28;43mchr\u001b[39;49m\u001b[43m(\u001b[49m\u001b[38;5;241;43m-\u001b[39;49m\u001b[38;5;241;43m65\u001b[39;49m\u001b[43m)\u001b[49m)   \u001b[38;5;66;03m# Output: ValueError: chr() arg not in range(0x110000)\u001b[39;00m\n",
      "\u001b[1;31mValueError\u001b[0m: chr() arg not in range(0x110000)"
     ]
    }
   ],
   "source": [
    "#Using chr() with negative Unicode code point\n",
    "print(chr(-65))   # Output: ValueError: chr() arg not in range(0x110000)"
   ]
  },
  {
   "cell_type": "markdown",
   "metadata": {},
   "source": [
    "### **@classmethod**\n",
    "\n",
    "Transform a method into a class method.<br>\n",
    "A class method receives the class as an implicit first argument, just like an instance method receives the instance.\n",
    "\n",
    "> class C:<br>\n",
    "   >> @classmethod<br>\n",
    "    def f(cls, arg1, arg2): ...<br>\n",
    "    \n",
    "A class method can be called either on the class (such as C.f()) or on an instance (such as C().f()). The instance is ignored except for its class. If a class method is called for a derived class, the derived class object is passed as the implied first argument."
   ]
  },
  {
   "cell_type": "code",
   "execution_count": 18,
   "metadata": {
    "execution": {
     "iopub.execute_input": "2024-05-03T17:23:00.622872Z",
     "iopub.status.busy": "2024-05-03T17:23:00.622398Z",
     "iopub.status.idle": "2024-05-03T17:23:00.629709Z",
     "shell.execute_reply": "2024-05-03T17:23:00.628512Z",
     "shell.execute_reply.started": "2024-05-03T17:23:00.622840Z"
    },
    "trusted": true
   },
   "outputs": [
    {
     "name": "stdout",
     "output_type": "stream",
     "text": [
      "10\n"
     ]
    }
   ],
   "source": [
    "#Using @classmethod to create a factory method\n",
    "\n",
    "class MyClass:\n",
    "    def __init__(self, value):\n",
    "        self.value = value\n",
    "\n",
    "    @classmethod\n",
    "    def create(cls, value):\n",
    "        return cls(value)\n",
    "\n",
    "obj = MyClass.create(10)\n",
    "print(obj.value)  # Output: 10\n"
   ]
  },
  {
   "cell_type": "code",
   "execution_count": 19,
   "metadata": {
    "execution": {
     "iopub.execute_input": "2024-05-03T17:23:04.232438Z",
     "iopub.status.busy": "2024-05-03T17:23:04.231972Z",
     "iopub.status.idle": "2024-05-03T17:23:04.239829Z",
     "shell.execute_reply": "2024-05-03T17:23:04.238428Z",
     "shell.execute_reply.started": "2024-05-03T17:23:04.232402Z"
    },
    "trusted": true
   },
   "outputs": [
    {
     "name": "stdout",
     "output_type": "stream",
     "text": [
      "42\n"
     ]
    }
   ],
   "source": [
    "#Using @classmethod to access class attributes\n",
    "\n",
    "class MyClass:\n",
    "    class_attr = 42\n",
    "\n",
    "    def __init__(self, value):\n",
    "        self.value = value\n",
    "\n",
    "    @classmethod\n",
    "    def get_class_attr(cls):\n",
    "        return cls.class_attr\n",
    "\n",
    "print(MyClass.get_class_attr())  # Output: 42"
   ]
  },
  {
   "cell_type": "code",
   "execution_count": 65,
   "metadata": {},
   "outputs": [
    {
     "name": "stdout",
     "output_type": "stream",
     "text": [
      "2\n"
     ]
    }
   ],
   "source": [
    "#Using @classmethod to modify class-level data\n",
    "\n",
    "class MyClass:\n",
    "    count = 0\n",
    "\n",
    "    def __init__(self):\n",
    "        MyClass.count += 1\n",
    "\n",
    "    @classmethod\n",
    "    def get_count(cls):\n",
    "        return cls.count\n",
    "\n",
    "obj1 = MyClass()\n",
    "obj2 = MyClass()\n",
    "print(MyClass.get_count())  # Output: 2"
   ]
  },
  {
   "cell_type": "code",
   "execution_count": null,
   "metadata": {},
   "outputs": [],
   "source": [
    "#Provide alternative constructors using classmethod\n",
    "#write your code here"
   ]
  },
  {
   "cell_type": "code",
   "execution_count": 66,
   "metadata": {
    "_kg_hide-input": true
   },
   "outputs": [
    {
     "name": "stdout",
     "output_type": "stream",
     "text": [
      "25 12 2023\n"
     ]
    }
   ],
   "source": [
    "class Date:\n",
    "    def __init__(self, day, month, year):\n",
    "        self.day = day\n",
    "        self.month = month\n",
    "        self.year = year\n",
    "\n",
    "    @classmethod\n",
    "    def from_string(cls, date_str):\n",
    "        day, month, year = map(int, date_str.split('-'))\n",
    "        return cls(day, month, year)\n",
    "\n",
    "date = Date.from_string('25-12-2023')\n",
    "print(date.day, date.month, date.year)  # Output: 25 12 2023"
   ]
  },
  {
   "cell_type": "markdown",
   "metadata": {},
   "source": [
    "### **compile()**\n",
    "\n",
    "> compile(source, filename, mode, flags=0, dont_inherit=False, optimize=-1)\n",
    "\n",
    "The above mentioned synatx for using compile() method <br>\n",
    "* **source**: The source code to be compiled. This can be a string containing Python code, a code object, or an AST object.\n",
    "* **filename**: The name of the file from which the code was read. If the code is not read from a file, you can use any string.\n",
    "* **mode**: Specifies the mode in which the source is to be compiled. It can be one of the following:<br>\n",
    "    'exec': Specifies that the source is a block of statements to be executed (like a module or script).<br>\n",
    "    'eval': Specifies that the source is a single expression to be evaluated.<br>\n",
    "    'single': Specifies that the source is a single interactive statement (usually for use with the exec() function in the REPL).<br>\n",
    "* **flags**: Optional. Additional flags controlling compilation. Defaults to 0.\n",
    "* **dont_inherit**: Optional. If True, the flags and future statements in effect in the code block are not inherited by the compiled code object. Defaults to False.\n",
    "* **optimize**: Optional. Optimization level of the compiler. Defaults to -1.\n",
    "\n",
    "This function raises **SyntaxError** if the compiled source is invalid, and **ValueError** if the source contains null bytes."
   ]
  },
  {
   "cell_type": "code",
   "execution_count": 67,
   "metadata": {},
   "outputs": [
    {
     "name": "stdout",
     "output_type": "stream",
     "text": [
      "Hello, world!\n"
     ]
    }
   ],
   "source": [
    "#Compiling and executing a simple Python statement\n",
    "code = \"print('Hello, world!')\"\n",
    "compiled_code = compile(code, '<string>', 'exec')\n",
    "exec(compiled_code)"
   ]
  },
  {
   "cell_type": "code",
   "execution_count": 68,
   "metadata": {
    "trusted": true
   },
   "outputs": [
    {
     "name": "stdout",
     "output_type": "stream",
     "text": [
      "SyntaxError: '(' was never closed (<string>, line 1)\n"
     ]
    }
   ],
   "source": [
    "#Compiling syntax error code\n",
    "source_code = \"print('Hello, world!'\"  # Syntax error: Missing closing parenthesis\n",
    "try:\n",
    "    compiled_code = compile(source_code, '<string>', 'exec')\n",
    "except SyntaxError as e:\n",
    "    print(\"SyntaxError:\", e)  #output:SyntaxError: '(' was never closed (<string>, line 1)"
   ]
  },
  {
   "cell_type": "code",
   "execution_count": 69,
   "metadata": {
    "trusted": true
   },
   "outputs": [
    {
     "name": "stdout",
     "output_type": "stream",
     "text": [
      "ValueError: compile() mode must be 'exec', 'eval' or 'single'\n"
     ]
    }
   ],
   "source": [
    "#If mode is invalid , value error will be output\n",
    "try:\n",
    "    compiled_code = compile(\"print('Hello, world!')\", '<string>', 'invalid_mode')\n",
    "except ValueError as e:\n",
    "    print(\"ValueError:\", e)"
   ]
  },
  {
   "cell_type": "markdown",
   "metadata": {},
   "source": [
    "### **class complex(real=0, imag=0) <br> class complex(string)**\n",
    "\n",
    "Return a complex number with the value real + imag1j or convert a string or number to a complex number. If the first parameter is a string, it will be interpreted as a complex number and the function must be called without a second parameter. The second parameter can never be a string.<br>\n"
   ]
  },
  {
   "cell_type": "code",
   "execution_count": 70,
   "metadata": {},
   "outputs": [
    {
     "name": "stdout",
     "output_type": "stream",
     "text": [
      "(3+4j)\n"
     ]
    }
   ],
   "source": [
    "#Creating a complex number from real and imaginary parts\n",
    "z = complex(3, 4)\n",
    "print(z)  # Output: (3+4j)\n"
   ]
  },
  {
   "cell_type": "code",
   "execution_count": 73,
   "metadata": {},
   "outputs": [
    {
     "name": "stdout",
     "output_type": "stream",
     "text": [
      "(6-3j)\n"
     ]
    }
   ],
   "source": [
    "#Creating a complex number from a single string with whitespace\n",
    "z = complex('6-3j')\n",
    "print(z) # Output: (6-3j)"
   ]
  },
  {
   "cell_type": "code",
   "execution_count": null,
   "metadata": {},
   "outputs": [],
   "source": [
    "#Create a complex number from a string with only the real part:\n",
    "#Write your code here"
   ]
  },
  {
   "cell_type": "code",
   "execution_count": 74,
   "metadata": {
    "_kg_hide-input": true
   },
   "outputs": [
    {
     "name": "stdout",
     "output_type": "stream",
     "text": [
      "(7+0j)\n"
     ]
    }
   ],
   "source": [
    "z = complex('7')\n",
    "print(z)  # Output: (7+0j)"
   ]
  },
  {
   "cell_type": "markdown",
   "metadata": {},
   "source": [
    "### **dict() \n",
    "\n",
    "The syntax for dict() \n",
    "\n",
    "> dict(**kwarg) <br> dict(mapping, **kwarg) <br> dict(iterable, **kwarg)\n",
    "\n",
    "Create a new dictionary. The dict object is the dictionary class."
   ]
  },
  {
   "cell_type": "code",
   "execution_count": 75,
   "metadata": {},
   "outputs": [
    {
     "name": "stdout",
     "output_type": "stream",
     "text": [
      "{'a': 1, 'b': 2, 'c': 3}\n"
     ]
    }
   ],
   "source": [
    "#Creating a dictionary from key-value pairs\n",
    "\n",
    "key_value_pairs = [('a', 1), ('b', 2), ('c', 3)]\n",
    "new_dict = dict(key_value_pairs)\n",
    "print(new_dict)  # Output: {'a': 1, 'b': 2, 'c': 3}\n"
   ]
  },
  {
   "cell_type": "code",
   "execution_count": 20,
   "metadata": {
    "execution": {
     "iopub.execute_input": "2024-05-03T17:23:27.170362Z",
     "iopub.status.busy": "2024-05-03T17:23:27.169326Z",
     "iopub.status.idle": "2024-05-03T17:23:27.176092Z",
     "shell.execute_reply": "2024-05-03T17:23:27.174979Z",
     "shell.execute_reply.started": "2024-05-03T17:23:27.170317Z"
    },
    "trusted": true
   },
   "outputs": [
    {
     "name": "stdout",
     "output_type": "stream",
     "text": [
      "{'a': 1, 'b': 2, 'c': 3}\n"
     ]
    }
   ],
   "source": [
    "#Creating a dictionary from keyword arguments\n",
    "new_dict = dict(a=1, b=2, c=3)\n",
    "print(new_dict)  # Output: {'a': 1, 'b': 2, 'c': 3}"
   ]
  },
  {
   "cell_type": "code",
   "execution_count": 21,
   "metadata": {
    "execution": {
     "iopub.execute_input": "2024-05-03T17:23:28.508828Z",
     "iopub.status.busy": "2024-05-03T17:23:28.508401Z",
     "iopub.status.idle": "2024-05-03T17:23:28.513427Z",
     "shell.execute_reply": "2024-05-03T17:23:28.512288Z",
     "shell.execute_reply.started": "2024-05-03T17:23:28.508798Z"
    },
    "trusted": true
   },
   "outputs": [],
   "source": [
    "#Create a dictionary by comprehense two arrays\n",
    "#Write your code here\n"
   ]
  },
  {
   "cell_type": "code",
   "execution_count": 79,
   "metadata": {
    "_kg_hide-input": true
   },
   "outputs": [
    {
     "name": "stdout",
     "output_type": "stream",
     "text": [
      "{'a': 1, 'b': 2, 'c': 3}\n"
     ]
    }
   ],
   "source": [
    "keys = ['a', 'b', 'c']\n",
    "values = [1, 2, 3]\n",
    "new_dict = dict(zip(keys, values))\n",
    "print(new_dict)  # Output: {'a': 1, 'b': 2, 'c': 3}"
   ]
  },
  {
   "cell_type": "markdown",
   "metadata": {},
   "source": [
    "### **dir()**\n",
    "\n",
    "Without arguments, return the list of names in the current local scope. With an argument, attempt to return a list of valid attributes for that object.\n",
    "\n",
    "The default dir() mechanism behaves differently with different types of objects, as it attempts to produce the most relevant, rather than complete, information:\n",
    "\n",
    "* If the object is a module object, the list contains the names of the module’s attributes.\n",
    "\n",
    "* If the object is a type or class object, the list contains the names of its attributes, and recursively of the attributes of its bases.\n",
    "\n",
    "* Otherwise, the list contains the object’s attributes’ names, the names of its class’s attributes, and recursively of the attributes of its class’s base classes"
   ]
  },
  {
   "cell_type": "code",
   "execution_count": 80,
   "metadata": {
    "execution": {
     "iopub.execute_input": "2024-05-02T14:56:02.427607Z",
     "iopub.status.busy": "2024-05-02T14:56:02.427084Z",
     "iopub.status.idle": "2024-05-02T14:56:02.474800Z",
     "shell.execute_reply": "2024-05-02T14:56:02.472690Z",
     "shell.execute_reply.started": "2024-05-02T14:56:02.427568Z"
    },
    "trusted": true
   },
   "outputs": [
    {
     "name": "stdout",
     "output_type": "stream",
     "text": [
      "['__doc__', '__loader__', '__name__', '__package__', '__spec__', 'acos', 'acosh', 'asin', 'asinh', 'atan', 'atan2', 'atanh', 'cbrt', 'ceil', 'comb', 'copysign', 'cos', 'cosh', 'degrees', 'dist', 'e', 'erf', 'erfc', 'exp', 'exp2', 'expm1', 'fabs', 'factorial', 'floor', 'fmod', 'frexp', 'fsum', 'gamma', 'gcd', 'hypot', 'inf', 'isclose', 'isfinite', 'isinf', 'isnan', 'isqrt', 'lcm', 'ldexp', 'lgamma', 'log', 'log10', 'log1p', 'log2', 'modf', 'nan', 'nextafter', 'perm', 'pi', 'pow', 'prod', 'radians', 'remainder', 'sin', 'sinh', 'sqrt', 'sumprod', 'tan', 'tanh', 'tau', 'trunc', 'ulp']\n"
     ]
    }
   ],
   "source": [
    "#Listing the attributes of a module\n",
    "import math\n",
    "print(dir(math))"
   ]
  },
  {
   "cell_type": "code",
   "execution_count": 81,
   "metadata": {
    "execution": {
     "iopub.execute_input": "2024-05-02T14:56:47.285782Z",
     "iopub.status.busy": "2024-05-02T14:56:47.285364Z",
     "iopub.status.idle": "2024-05-02T14:56:47.293275Z",
     "shell.execute_reply": "2024-05-02T14:56:47.291865Z",
     "shell.execute_reply.started": "2024-05-02T14:56:47.285753Z"
    },
    "trusted": true
   },
   "outputs": [
    {
     "name": "stdout",
     "output_type": "stream",
     "text": [
      "['__class__', '__delattr__', '__dict__', '__dir__', '__doc__', '__eq__', '__format__', '__ge__', '__getattribute__', '__getstate__', '__gt__', '__hash__', '__init__', '__init_subclass__', '__le__', '__lt__', '__module__', '__ne__', '__new__', '__reduce__', '__reduce_ex__', '__repr__', '__setattr__', '__sizeof__', '__str__', '__subclasshook__', '__weakref__', 'my_method', 'x', 'y']\n"
     ]
    }
   ],
   "source": [
    "#Listing the attributes of a custom object:\n",
    "class MyClass:\n",
    "    def __init__(self):\n",
    "        self.x = 5\n",
    "        self.y = 10\n",
    "    \n",
    "    def my_method(self):\n",
    "        pass\n",
    "\n",
    "obj = MyClass()\n",
    "print(dir(obj))"
   ]
  },
  {
   "cell_type": "code",
   "execution_count": 82,
   "metadata": {
    "execution": {
     "iopub.execute_input": "2024-05-02T14:57:26.387805Z",
     "iopub.status.busy": "2024-05-02T14:57:26.387264Z",
     "iopub.status.idle": "2024-05-02T14:57:26.393778Z",
     "shell.execute_reply": "2024-05-02T14:57:26.392772Z",
     "shell.execute_reply.started": "2024-05-02T14:57:26.387771Z"
    },
    "trusted": true
   },
   "outputs": [
    {
     "name": "stdout",
     "output_type": "stream",
     "text": [
      "['Date', 'In', 'MyClass', 'Out', '_', '_35', '_77', '__', '___', '__builtin__', '__builtins__', '__doc__', '__loader__', '__name__', '__package__', '__spec__', '__vsc_ipynb_file__', '_dh', '_i', '_i1', '_i10', '_i11', '_i12', '_i13', '_i14', '_i15', '_i16', '_i17', '_i18', '_i19', '_i2', '_i20', '_i21', '_i22', '_i23', '_i24', '_i25', '_i26', '_i27', '_i28', '_i29', '_i3', '_i30', '_i31', '_i32', '_i33', '_i34', '_i35', '_i36', '_i37', '_i38', '_i39', '_i4', '_i40', '_i41', '_i42', '_i43', '_i44', '_i45', '_i46', '_i47', '_i48', '_i49', '_i5', '_i50', '_i51', '_i52', '_i53', '_i54', '_i55', '_i56', '_i57', '_i58', '_i59', '_i6', '_i60', '_i61', '_i62', '_i63', '_i64', '_i65', '_i66', '_i67', '_i68', '_i69', '_i7', '_i70', '_i71', '_i72', '_i73', '_i74', '_i75', '_i76', '_i77', '_i78', '_i79', '_i8', '_i80', '_i81', '_i82', '_i9', '_ih', '_ii', '_iii', '_oh', 'absolute_complex_num', 'absolute_num', 'asyncio', 'binary_hex', 'binary_negative', 'binary_num', 'bool_num1', 'bool_num2', 'code', 'compiled_code', 'complex_num', 'copied_bytes', 'date', 'decimal_num', 'empty_bytearray', 'empty_list', 'exit', 'get_ipython', 'hex_num', 'int_bytearray', 'int_bytes', 'int_list', 'iterate_items', 'key_value_pairs', 'keys', 'lst', 'math', 'mixed_list', 'my_function', 'negative_num', 'new_dict', 'num', 'num1', 'num2', 'obj', 'obj1', 'obj2', 'octal_num', 'open', 'original_bytes', 'quit', 'range_bytearray', 'result', 'source_code', 'special_chars', 'str_bytearray', 'str_bytes', 'text', 'values', 'x', 'y', 'z']\n"
     ]
    }
   ],
   "source": [
    "#Listing the names in the current local scope:\n",
    "x = 5\n",
    "y = 10\n",
    "print(dir())"
   ]
  },
  {
   "cell_type": "markdown",
   "metadata": {},
   "source": [
    "### **enumerate(iterable, start=0)**\n",
    "\n",
    "Return an enumerate object. iterable must be a sequence, an iterator, or some other object which supports iteration. The __next__() method of the iterator returned by enumerate() returns a tuple containing a count (from start which defaults to 0) and the values obtained from iterating over iterable."
   ]
  },
  {
   "cell_type": "code",
   "execution_count": 85,
   "metadata": {
    "execution": {
     "iopub.execute_input": "2024-05-02T15:03:06.808926Z",
     "iopub.status.busy": "2024-05-02T15:03:06.808409Z",
     "iopub.status.idle": "2024-05-02T15:03:06.817469Z",
     "shell.execute_reply": "2024-05-02T15:03:06.815481Z",
     "shell.execute_reply.started": "2024-05-02T15:03:06.808869Z"
    },
    "trusted": true
   },
   "outputs": [
    {
     "name": "stdout",
     "output_type": "stream",
     "text": [
      "[(0, 'Spring'), (1, 'Summer'), (2, 'Fall'), (3, 'Winter')]\n",
      "\n",
      "[(1, 'Spring'), (2, 'Summer'), (3, 'Fall'), (4, 'Winter')]\n"
     ]
    }
   ],
   "source": [
    "seasons = ['Spring', 'Summer', 'Fall', 'Winter']\n",
    "print(list(enumerate(seasons)))\n",
    "\n",
    "print(list(enumerate(seasons, start=1)))"
   ]
  },
  {
   "cell_type": "code",
   "execution_count": 86,
   "metadata": {},
   "outputs": [
    {
     "name": "stdout",
     "output_type": "stream",
     "text": [
      "{0: 'apple', 1: 'banana', 2: 'cherry'}\n"
     ]
    }
   ],
   "source": [
    "#Creating a dictionary from an enumerated list\n",
    "my_list = ['apple', 'banana', 'cherry']\n",
    "indexed_dict = {index: value for index, value in enumerate(my_list)}\n",
    "print(indexed_dict)"
   ]
  },
  {
   "cell_type": "code",
   "execution_count": null,
   "metadata": {},
   "outputs": [],
   "source": [
    "#Use enumerate and print the index & character from a string\n",
    "#Write your code here"
   ]
  },
  {
   "cell_type": "code",
   "execution_count": 87,
   "metadata": {
    "_kg_hide-input": true
   },
   "outputs": [
    {
     "name": "stdout",
     "output_type": "stream",
     "text": [
      "0 P\n",
      "\n",
      "1 y\n",
      "\n",
      "2 t\n",
      "\n",
      "3 h\n",
      "\n",
      "4 o\n",
      "\n",
      "5 n\n"
     ]
    }
   ],
   "source": [
    "my_string = \"Python\"\n",
    "for index, char in enumerate(my_string):\n",
    "    print(index, char)"
   ]
  },
  {
   "cell_type": "markdown",
   "metadata": {},
   "source": [
    "### **eval()**\n",
    "\n",
    "> eval(expression, globals=None, locals=None)\n",
    "\n",
    "The arguments are a string and optional globals and locals. If provided, globals must be a dictionary. If provided, locals can be any mapping object.<br>\n",
    "eval() evaluates a Python expression using global and local namespaces. If globals() lacks __builtins__, it adds it. You can control available built-ins by modifying __builtins__. If locals() is absent, it defaults to globals(). If both are omitted, it uses the calling environment. It lacks access to enclosing non-local scopes."
   ]
  },
  {
   "cell_type": "code",
   "execution_count": 88,
   "metadata": {},
   "outputs": [
    {
     "name": "stdout",
     "output_type": "stream",
     "text": [
      "19\n"
     ]
    }
   ],
   "source": [
    "#Evaluating a string as a Python expression\n",
    "expression = \"(5 * 2) + (3 ** 2)\"\n",
    "result = eval(expression)\n",
    "print(result)  # Output: 19"
   ]
  },
  {
   "cell_type": "code",
   "execution_count": 89,
   "metadata": {},
   "outputs": [
    {
     "name": "stdout",
     "output_type": "stream",
     "text": [
      "[0, 1, 4, 9, 16]\n"
     ]
    }
   ],
   "source": [
    "#Evaluating a list comprehension\n",
    "list_expr = '[x ** 2 for x in range(5)]'\n",
    "result = eval(list_expr)\n",
    "print(result)  # Output: [0, 1, 4, 9, 16]"
   ]
  },
  {
   "cell_type": "markdown",
   "metadata": {},
   "source": [
    "### **exec()**\n",
    "\n",
    "> **exec(object, globals=None, locals=None, /, *, closure=None)**\n",
    "\n",
    "The function supports dynamic execution of Python code. object must be either a string or a code object. If it is a string, the string is parsed as a suite of Python statements which is then executed (unless a syntax error occurs).  If it is a code object, it is simply executed. In all cases, the code that’s executed is expected to be valid as file input.<br>\n",
    "The return value is None.\n",
    "If globals and locals are given, they are used for the global and local variables, respectively. If provided, locals can be any mapping object. Remember that at the module level, globals and locals are the same dictionary. If exec gets two separate objects as globals and locals, the code will be executed as if it were embedded in a class definition.\n",
    "The closure argument specifies a closure–a tuple of cellvars. It’s only valid when the object is a code object containing free variables. The length of the tuple must exactly match the number of free variables referenced by the code object."
   ]
  },
  {
   "cell_type": "code",
   "execution_count": 90,
   "metadata": {
    "_kg_hide-input": false,
    "execution": {
     "iopub.execute_input": "2024-05-02T16:11:48.147299Z",
     "iopub.status.busy": "2024-05-02T16:11:48.146383Z",
     "iopub.status.idle": "2024-05-02T16:11:48.179775Z",
     "shell.execute_reply": "2024-05-02T16:11:48.178546Z",
     "shell.execute_reply.started": "2024-05-02T16:11:48.147256Z"
    },
    "trusted": true
   },
   "outputs": [
    {
     "name": "stdout",
     "output_type": "stream",
     "text": [
      "None\n",
      "\n",
      "15\n"
     ]
    }
   ],
   "source": [
    "#Using exec() with local and global scopes\n",
    "global_vars = {}\n",
    "local_vars = {'x': 5, 'y': 10}\n",
    "print(exec('result = x + y', global_vars, local_vars)) #Output : None\n",
    "print(local_vars['result'])  # Output: 15"
   ]
  },
  {
   "cell_type": "code",
   "execution_count": 91,
   "metadata": {
    "execution": {
     "iopub.execute_input": "2024-05-02T16:12:17.410324Z",
     "iopub.status.busy": "2024-05-02T16:12:17.409144Z",
     "iopub.status.idle": "2024-05-02T16:12:17.416699Z",
     "shell.execute_reply": "2024-05-02T16:12:17.415554Z",
     "shell.execute_reply.started": "2024-05-02T16:12:17.410273Z"
    },
    "trusted": true
   },
   "outputs": [
    {
     "name": "stdout",
     "output_type": "stream",
     "text": [
      "Hello, Swecha\n"
     ]
    }
   ],
   "source": [
    "#Creating a function dynamically using exec()\n",
    "func_code = \"\"\"\n",
    "def greet(name):\n",
    "    print(\"Hello,\", name)\n",
    "\"\"\"\n",
    "exec(func_code)\n",
    "greet(\"Swecha\")  # Output: Hello, Swecha\n"
   ]
  },
  {
   "cell_type": "markdown",
   "metadata": {},
   "source": [
    "### **filter()**\n",
    "\n",
    "Construct an iterator from those elements of iterable for which function is true. iterable may be either a sequence, a container which supports iteration, or an iterator. If function is None, the identity function is assumed, that is, all elements of iterable that are false are removed.\n",
    "\n",
    "**Note that filter(function, iterable) is equivalent to the generator expression (item for item in iterable if function(item)) if function is not None and (item for item in iterable if item) if function is None.**\n",
    "\n"
   ]
  },
  {
   "cell_type": "code",
   "execution_count": 92,
   "metadata": {},
   "outputs": [
    {
     "name": "stdout",
     "output_type": "stream",
     "text": [
      "['hello', 'world']\n"
     ]
    }
   ],
   "source": [
    "#Removing empty strings from a list\n",
    "strings = ['', 'hello', '', 'world', '', '']\n",
    "non_empty_strings = list(filter(lambda x: x != '', strings))\n",
    "print(non_empty_strings)  # Output: ['hello', 'world']"
   ]
  },
  {
   "cell_type": "code",
   "execution_count": 22,
   "metadata": {
    "execution": {
     "iopub.execute_input": "2024-05-03T17:24:22.903278Z",
     "iopub.status.busy": "2024-05-03T17:24:22.902154Z",
     "iopub.status.idle": "2024-05-03T17:24:22.909382Z",
     "shell.execute_reply": "2024-05-03T17:24:22.908272Z",
     "shell.execute_reply.started": "2024-05-03T17:24:22.903233Z"
    },
    "trusted": true
   },
   "outputs": [
    {
     "name": "stdout",
     "output_type": "stream",
     "text": [
      "['apple', 'banana', 'orange', 'grape']\n"
     ]
    }
   ],
   "source": [
    "#Filtering strings longer than 3 characters from a list\n",
    "words = ['apple', 'banana', 'pear', 'orange', 'grape']\n",
    "long_words = list(filter(lambda x: len(x) > 4, words))\n",
    "print(long_words)  # Output: ['apple', 'banana', 'orange', 'grape']"
   ]
  },
  {
   "cell_type": "code",
   "execution_count": null,
   "metadata": {},
   "outputs": [],
   "source": [
    "#Create an array with some None values and filter the values except None by using filter()\n",
    "#Write your code here"
   ]
  },
  {
   "cell_type": "code",
   "execution_count": 23,
   "metadata": {
    "_kg_hide-input": true,
    "execution": {
     "iopub.execute_input": "2024-05-03T17:24:46.724660Z",
     "iopub.status.busy": "2024-05-03T17:24:46.724225Z",
     "iopub.status.idle": "2024-05-03T17:24:46.731081Z",
     "shell.execute_reply": "2024-05-03T17:24:46.729873Z",
     "shell.execute_reply.started": "2024-05-03T17:24:46.724625Z"
    },
    "trusted": true
   },
   "outputs": [
    {
     "name": "stdout",
     "output_type": "stream",
     "text": [
      "[1, 3, 5]\n"
     ]
    }
   ],
   "source": [
    "values = [1, None, 3, None, 5, None]\n",
    "non_none_values = list(filter(lambda x: x is not None, values))\n",
    "print(non_none_values)  # Output: [1, 3, 5]"
   ]
  },
  {
   "cell_type": "markdown",
   "metadata": {},
   "source": [
    "### **float(x=0.0)**\n",
    "\n",
    "Return a floating point number constructed from a number or string x.\n",
    "If the argument is a string, it should contain a decimal number, optionally preceded by a sign, and optionally embedded in whitespace. The optional sign may be '+' or '-'; a '+' sign has no effect on the value produced. The argument may also be a string representing a NaN (not-a-number), or positive or negative infinity. \n",
    "\n",
    "sign        ::=  \"+\" | \"-\"\n",
    "infinity    ::=  \"Infinity\" | \"inf\"\n",
    "nan         ::=  \"nan\"\n",
    "digit       ::=  <a Unicode decimal digit, i.e. characters in Unicode general category Nd>\n",
    "digitpart   ::=  digit ([\"_\"] digit)*\n",
    "number      ::=  [digitpart] \".\" digitpart | digitpart [\".\"]\n",
    "exponent    ::=  (\"e\" | \"E\") [\"+\" | \"-\"] digitpart\n",
    "floatnumber ::=  number [exponent]\n",
    "floatvalue  ::=  [sign] (floatnumber | infinity | nan)"
   ]
  },
  {
   "cell_type": "code",
   "execution_count": 98,
   "metadata": {
    "execution": {
     "iopub.execute_input": "2024-05-03T04:53:41.476637Z",
     "iopub.status.busy": "2024-05-03T04:53:41.476213Z",
     "iopub.status.idle": "2024-05-03T04:53:41.484188Z",
     "shell.execute_reply": "2024-05-03T04:53:41.482828Z",
     "shell.execute_reply.started": "2024-05-03T04:53:41.476603Z"
    },
    "trusted": true
   },
   "outputs": [
    {
     "name": "stdout",
     "output_type": "stream",
     "text": [
      "1.23\n",
      "\n",
      "-12345.0\n",
      "\n",
      "0.001\n",
      "\n",
      "1000000.0\n",
      "\n",
      "-inf\n"
     ]
    }
   ],
   "source": [
    "print(float('+1.23'))\n",
    "print(float('   -12345\\n'))\n",
    "print(float('1e-003'))\n",
    "print(float('+1E6'))\n",
    "print(float('-Infinity'))"
   ]
  },
  {
   "cell_type": "markdown",
   "metadata": {},
   "source": [
    "### **format(value, format_spec='')**\n",
    "\n",
    "Convert a value to a “formatted” representation, as controlled by format_spec. The interpretation of format_spec will depend on the type of the value argument.\n",
    "The default format_spec is an empty string which usually gives the same effect as calling str(value).\n"
   ]
  },
  {
   "cell_type": "code",
   "execution_count": 99,
   "metadata": {},
   "outputs": [
    {
     "name": "stdout",
     "output_type": "stream",
     "text": [
      "My name is Alice and I am 30 years old.\n"
     ]
    }
   ],
   "source": [
    "#Basic string formatting:\n",
    "name = \"Alice\"\n",
    "age = 30\n",
    "formatted_string = \"My name is {} and I am {} years old.\".format(name, age)\n",
    "print(formatted_string)"
   ]
  },
  {
   "cell_type": "code",
   "execution_count": 100,
   "metadata": {},
   "outputs": [
    {
     "name": "stdout",
     "output_type": "stream",
     "text": [
      "My name is Bob and I am 25 years old. I live in New York.\n"
     ]
    }
   ],
   "source": [
    "#Positional and keyword arguments:\n",
    "formatted_string = \"My name is {0} and I am {1} years old. I live in {city}.\".format(\"Bob\", 25, city=\"New York\")\n",
    "print(formatted_string)"
   ]
  },
  {
   "cell_type": "code",
   "execution_count": 108,
   "metadata": {},
   "outputs": [
    {
     "name": "stdout",
     "output_type": "stream",
     "text": [
      "Point coordinates: (5, 10)\n"
     ]
    }
   ],
   "source": [
    "#Using format specifiers with dictionary:\n",
    "point = {'x': 5, 'y': 10}\n",
    "formatted_point = \"Point coordinates: ({x}, {y})\".format(**point)\n",
    "print(formatted_point)"
   ]
  },
  {
   "cell_type": "markdown",
   "metadata": {},
   "source": [
    "### **globals()**\n",
    "\n",
    "Return the dictionary implementing the current module namespace. For code within functions, this is set when the function is defined and remains the same regardless of where the function is called."
   ]
  },
  {
   "cell_type": "code",
   "execution_count": 109,
   "metadata": {
    "trusted": true
   },
   "outputs": [
    {
     "name": "stdout",
     "output_type": "stream",
     "text": [
      "30\n"
     ]
    }
   ],
   "source": [
    "#Modifying global variables using globals()\n",
    "x = 10\n",
    "globals()['x'] = 30\n",
    "print(x)  # Output: 30"
   ]
  },
  {
   "cell_type": "code",
   "execution_count": 110,
   "metadata": {},
   "outputs": [
    {
     "name": "stdout",
     "output_type": "stream",
     "text": [
      "__main__\n"
     ]
    }
   ],
   "source": [
    "#Getting the name of the current module:\n",
    "print(globals()['__name__'])  # Output: '__main__'"
   ]
  },
  {
   "cell_type": "markdown",
   "metadata": {},
   "source": [
    "### **hash()**\n",
    "\n",
    "Return the hash value of the object (if it has one). Hash values are integers. They are used to quickly compare dictionary keys during a dictionary lookup. Numeric values that compare equal have the same hash value (even if they are of different types, as is the case for 1 and 1.0)."
   ]
  },
  {
   "cell_type": "code",
   "execution_count": 24,
   "metadata": {
    "execution": {
     "iopub.execute_input": "2024-05-03T17:27:54.522317Z",
     "iopub.status.busy": "2024-05-03T17:27:54.521415Z",
     "iopub.status.idle": "2024-05-03T17:27:54.528220Z",
     "shell.execute_reply": "2024-05-03T17:27:54.526973Z",
     "shell.execute_reply.started": "2024-05-03T17:27:54.522280Z"
    },
    "trusted": true
   },
   "outputs": [
    {
     "name": "stdout",
     "output_type": "stream",
     "text": [
      "-6904396569152277657\n",
      "-2799944483530921424\n"
     ]
    }
   ],
   "source": [
    "#Hashing strings\n",
    "print(hash(\"hello\"))  \n",
    "print(hash(\"world\"))  "
   ]
  },
  {
   "cell_type": "code",
   "execution_count": 25,
   "metadata": {
    "execution": {
     "iopub.execute_input": "2024-05-03T17:27:57.368471Z",
     "iopub.status.busy": "2024-05-03T17:27:57.368021Z",
     "iopub.status.idle": "2024-05-03T17:27:57.375217Z",
     "shell.execute_reply": "2024-05-03T17:27:57.373756Z",
     "shell.execute_reply.started": "2024-05-03T17:27:57.368442Z"
    },
    "trusted": true
   },
   "outputs": [
    {
     "name": "stdout",
     "output_type": "stream",
     "text": [
      "529344067295497451\n",
      "-9109555205270683819\n"
     ]
    }
   ],
   "source": [
    "#Hashing tuples\n",
    "print(hash((1, 2, 3)))    \n",
    "print(hash(('a', 'b', 'c')))  "
   ]
  },
  {
   "cell_type": "markdown",
   "metadata": {},
   "source": [
    "### **help() <br> help(request)**\n",
    "\n",
    "Invoke the built-in help system. (This function is intended for interactive use.) If no argument is given, the interactive help system starts on the interpreter console. If the argument is a string, then the string is looked up as the name of a module, function, class, method, keyword, or documentation topic, and a help page is printed on the console. If the argument is any other kind of object, a help page on the object is generated."
   ]
  },
  {
   "cell_type": "code",
   "execution_count": 26,
   "metadata": {
    "execution": {
     "iopub.execute_input": "2024-05-03T17:28:01.278511Z",
     "iopub.status.busy": "2024-05-03T17:28:01.277735Z",
     "iopub.status.idle": "2024-05-03T17:28:01.284817Z",
     "shell.execute_reply": "2024-05-03T17:28:01.283354Z",
     "shell.execute_reply.started": "2024-05-03T17:28:01.278473Z"
    },
    "trusted": true
   },
   "outputs": [
    {
     "name": "stdout",
     "output_type": "stream",
     "text": [
      "Help on built-in function print in module builtins:\n",
      "\n",
      "print(...)\n",
      "    print(value, ..., sep=' ', end='\\n', file=sys.stdout, flush=False)\n",
      "    \n",
      "    Prints the values to a stream, or to sys.stdout by default.\n",
      "    Optional keyword arguments:\n",
      "    file:  a file-like object (stream); defaults to the current sys.stdout.\n",
      "    sep:   string inserted between values, default a space.\n",
      "    end:   string appended after the last value, default a newline.\n",
      "    flush: whether to forcibly flush the stream.\n",
      "\n"
     ]
    }
   ],
   "source": [
    "#Getting help for built-in functions:\n",
    "help(print)"
   ]
  },
  {
   "cell_type": "code",
   "execution_count": 27,
   "metadata": {
    "execution": {
     "iopub.execute_input": "2024-05-03T17:28:02.151170Z",
     "iopub.status.busy": "2024-05-03T17:28:02.150691Z",
     "iopub.status.idle": "2024-05-03T17:28:02.157335Z",
     "shell.execute_reply": "2024-05-03T17:28:02.156202Z",
     "shell.execute_reply.started": "2024-05-03T17:28:02.151133Z"
    },
    "trusted": true
   },
   "outputs": [
    {
     "name": "stdout",
     "output_type": "stream",
     "text": [
      "Help on built-in function sqrt in module math:\n",
      "\n",
      "sqrt(x, /)\n",
      "    Return the square root of x.\n",
      "\n"
     ]
    }
   ],
   "source": [
    "#Getting help for specific functions or classes:\n",
    "import math\n",
    "help(math.sqrt)"
   ]
  },
  {
   "cell_type": "markdown",
   "metadata": {},
   "source": [
    "## **id()**\n",
    "\n",
    "Return the “identity” of an object. This is an integer which is guaranteed to be unique and constant for this object during its lifetime. Two objects with non-overlapping lifetimes may have the same id() value."
   ]
  },
  {
   "cell_type": "code",
   "execution_count": 28,
   "metadata": {
    "execution": {
     "iopub.execute_input": "2024-05-03T17:28:04.139197Z",
     "iopub.status.busy": "2024-05-03T17:28:04.138161Z",
     "iopub.status.idle": "2024-05-03T17:28:04.144966Z",
     "shell.execute_reply": "2024-05-03T17:28:04.143737Z",
     "shell.execute_reply.started": "2024-05-03T17:28:04.139152Z"
    },
    "trusted": true
   },
   "outputs": [
    {
     "name": "stdout",
     "output_type": "stream",
     "text": [
      "135949956938480\n"
     ]
    }
   ],
   "source": [
    "#Getting the id of a string object\n",
    "s = \"Hello, world!\"\n",
    "print(id(s))"
   ]
  },
  {
   "cell_type": "code",
   "execution_count": 29,
   "metadata": {
    "execution": {
     "iopub.execute_input": "2024-05-03T17:28:04.842828Z",
     "iopub.status.busy": "2024-05-03T17:28:04.842008Z",
     "iopub.status.idle": "2024-05-03T17:28:04.848504Z",
     "shell.execute_reply": "2024-05-03T17:28:04.847270Z",
     "shell.execute_reply.started": "2024-05-03T17:28:04.842781Z"
    },
    "trusted": true
   },
   "outputs": [
    {
     "name": "stdout",
     "output_type": "stream",
     "text": [
      "135949959818944\n"
     ]
    }
   ],
   "source": [
    "#Getting the id of a list object\n",
    "my_list = [1, 2, 3]\n",
    "print(id(my_list))"
   ]
  },
  {
   "cell_type": "code",
   "execution_count": 30,
   "metadata": {
    "execution": {
     "iopub.execute_input": "2024-05-03T17:28:05.518621Z",
     "iopub.status.busy": "2024-05-03T17:28:05.517718Z",
     "iopub.status.idle": "2024-05-03T17:28:05.524255Z",
     "shell.execute_reply": "2024-05-03T17:28:05.523081Z",
     "shell.execute_reply.started": "2024-05-03T17:28:05.518579Z"
    },
    "trusted": true
   },
   "outputs": [
    {
     "name": "stdout",
     "output_type": "stream",
     "text": [
      "False\n"
     ]
    }
   ],
   "source": [
    "#Comparing the ids of two different objects:\n",
    "x = [1, 2, 3]\n",
    "y = [1, 2, 3]\n",
    "print(id(x) == id(y))"
   ]
  },
  {
   "cell_type": "code",
   "execution_count": 31,
   "metadata": {
    "execution": {
     "iopub.execute_input": "2024-05-03T17:28:06.524540Z",
     "iopub.status.busy": "2024-05-03T17:28:06.523630Z",
     "iopub.status.idle": "2024-05-03T17:28:06.528741Z",
     "shell.execute_reply": "2024-05-03T17:28:06.527608Z",
     "shell.execute_reply.started": "2024-05-03T17:28:06.524493Z"
    },
    "trusted": true
   },
   "outputs": [],
   "source": [
    "#Get ID for a user defined function:\n",
    "#Write your code here"
   ]
  },
  {
   "cell_type": "code",
   "execution_count": 32,
   "metadata": {
    "_kg_hide-input": true,
    "execution": {
     "iopub.execute_input": "2024-05-03T17:28:07.095436Z",
     "iopub.status.busy": "2024-05-03T17:28:07.095005Z",
     "iopub.status.idle": "2024-05-03T17:28:07.101116Z",
     "shell.execute_reply": "2024-05-03T17:28:07.099987Z",
     "shell.execute_reply.started": "2024-05-03T17:28:07.095405Z"
    },
    "trusted": true
   },
   "outputs": [
    {
     "name": "stdout",
     "output_type": "stream",
     "text": [
      "135949955124384\n"
     ]
    }
   ],
   "source": [
    "def my_function():\n",
    "    pass\n",
    "print(id(my_function))"
   ]
  },
  {
   "cell_type": "markdown",
   "metadata": {},
   "source": [
    "### **input()**\n",
    "\n",
    "If the prompt argument is present, it is written to standard output without a trailing newline. The function then reads a line from input, converts it to a string (stripping a trailing newline), and returns that. "
   ]
  },
  {
   "cell_type": "code",
   "execution_count": 33,
   "metadata": {
    "execution": {
     "iopub.execute_input": "2024-05-03T17:28:13.273818Z",
     "iopub.status.busy": "2024-05-03T17:28:13.273371Z",
     "iopub.status.idle": "2024-05-03T17:28:18.030235Z",
     "shell.execute_reply": "2024-05-03T17:28:18.029000Z",
     "shell.execute_reply.started": "2024-05-03T17:28:13.273782Z"
    },
    "trusted": true
   },
   "outputs": [
    {
     "name": "stdout",
     "output_type": "stream",
     "text": [
      "Enter your name:  Arjun\n"
     ]
    },
    {
     "name": "stdout",
     "output_type": "stream",
     "text": [
      "Hello, Arjun!\n"
     ]
    }
   ],
   "source": [
    "#Reading a string input from the user:\n",
    "name = input(\"Enter your name: \")\n",
    "print(\"Hello, \" + name + \"!\")"
   ]
  },
  {
   "cell_type": "code",
   "execution_count": 123,
   "metadata": {},
   "outputs": [
    {
     "name": "stdout",
     "output_type": "stream",
     "text": [
      "You are 30 years old.\n"
     ]
    }
   ],
   "source": [
    "#Reading an integer input from the user (requires conversion):\n",
    "age = int(input(\"Enter your age: \"))\n",
    "print(\"You are \" + str(age) + \" years old.\")"
   ]
  },
  {
   "cell_type": "markdown",
   "metadata": {},
   "source": [
    "### **int()**\n",
    "\n",
    "Return an integer object constructed from a number or string x, or return 0 if no arguments are given. If x defines __int__(), int(x) returns x.__int__(). If x defines __index__(), it returns x.__index__(). If x defines __trunc__(), it returns x.__trunc__(). For floating point numbers, this truncates towards zero."
   ]
  },
  {
   "cell_type": "code",
   "execution_count": 124,
   "metadata": {},
   "outputs": [
    {
     "name": "stdout",
     "output_type": "stream",
     "text": [
      "3\n"
     ]
    }
   ],
   "source": [
    "#Converting a floating-point number to an integer (truncates the decimal part):\n",
    "float_number = 3.14\n",
    "int_number = int(float_number)\n",
    "print(int_number)"
   ]
  },
  {
   "cell_type": "code",
   "execution_count": 125,
   "metadata": {},
   "outputs": [
    {
     "name": "stdout",
     "output_type": "stream",
     "text": [
      "10\n"
     ]
    }
   ],
   "source": [
    "#Converting a binary string to an integer:\n",
    "binary_str = \"1010\"\n",
    "binary_int = int(binary_str, 2)\n",
    "print(binary_int)"
   ]
  },
  {
   "cell_type": "code",
   "execution_count": 126,
   "metadata": {},
   "outputs": [],
   "source": [
    "#Convert hexadecimal number string to an integer\n",
    "#Write your code here"
   ]
  },
  {
   "cell_type": "code",
   "execution_count": 129,
   "metadata": {
    "_kg_hide-input": true
   },
   "outputs": [
    {
     "name": "stdout",
     "output_type": "stream",
     "text": [
      "26\n"
     ]
    }
   ],
   "source": [
    "hexadecimal_str = \"1A\"\n",
    "hexadecimal_int = int(hexadecimal_str, 16)\n",
    "print(hexadecimal_int)"
   ]
  },
  {
   "cell_type": "markdown",
   "metadata": {},
   "source": [
    "### **len()**\n",
    "\n",
    "Return the length (the number of items) of an object. The argument may be a sequence (such as a string, bytes, tuple, list, or range) or a collection (such as a dictionary, set, or frozen set)."
   ]
  },
  {
   "cell_type": "code",
   "execution_count": 130,
   "metadata": {},
   "outputs": [
    {
     "name": "stdout",
     "output_type": "stream",
     "text": [
      "13\n"
     ]
    }
   ],
   "source": [
    "#Finding the length of a string\n",
    "string = \"Hello, world!\"\n",
    "length = len(string)\n",
    "print(length)  # Output: 13"
   ]
  },
  {
   "cell_type": "code",
   "execution_count": 131,
   "metadata": {},
   "outputs": [
    {
     "name": "stdout",
     "output_type": "stream",
     "text": [
      "5\n"
     ]
    }
   ],
   "source": [
    "#Finding the length of a list:\n",
    "my_list = [1, 2, 3, 4, 5]\n",
    "length = len(my_list)\n",
    "print(length)  # Output: 5"
   ]
  },
  {
   "cell_type": "code",
   "execution_count": 132,
   "metadata": {},
   "outputs": [
    {
     "name": "stdout",
     "output_type": "stream",
     "text": [
      "3\n"
     ]
    }
   ],
   "source": [
    "#Finding the length of a dictionary (returns the number of key-value pairs):\n",
    "my_dict = {'a': 1, 'b': 2, 'c': 3}\n",
    "length = len(my_dict)\n",
    "print(length)  # Output: 3"
   ]
  },
  {
   "cell_type": "code",
   "execution_count": 133,
   "metadata": {},
   "outputs": [],
   "source": [
    "#Find the length of set\n",
    "#Write your code here"
   ]
  },
  {
   "cell_type": "code",
   "execution_count": 135,
   "metadata": {
    "_kg_hide-input": true
   },
   "outputs": [
    {
     "name": "stdout",
     "output_type": "stream",
     "text": [
      "5\n"
     ]
    }
   ],
   "source": [
    "my_set = {1, 2, 3, 4, 5}\n",
    "length = len(my_set)\n",
    "print(length)  # Output: 5"
   ]
  },
  {
   "cell_type": "markdown",
   "metadata": {},
   "source": [
    "### **map(function, iterable)**\n",
    "\n",
    "Return an iterator that applies function to every item of iterable, yielding the results. If additional iterables arguments are passed, function must take that many arguments and is applied to the items from all iterables in parallel. With multiple iterables, the iterator stops when the shortest iterable is exhausted."
   ]
  },
  {
   "cell_type": "code",
   "execution_count": 136,
   "metadata": {},
   "outputs": [
    {
     "name": "stdout",
     "output_type": "stream",
     "text": [
      "[1, 4, 9, 16, 25]\n"
     ]
    }
   ],
   "source": [
    "#Applying a function to each element of a list\n",
    "\n",
    "def square(x):\n",
    "    return x ** 2\n",
    "\n",
    "numbers = [1, 2, 3, 4, 5]\n",
    "squared_numbers = map(square, numbers)\n",
    "print(list(squared_numbers))  # Output: [1, 4, 9, 16, 25]"
   ]
  },
  {
   "cell_type": "code",
   "execution_count": 137,
   "metadata": {},
   "outputs": [
    {
     "name": "stdout",
     "output_type": "stream",
     "text": [
      "['H', 'E', 'L', 'L', 'O']\n"
     ]
    }
   ],
   "source": [
    "#Applying a function to each character of a string:\n",
    "\n",
    "string = \"hello\"\n",
    "uppercase_string = map(str.upper, string)\n",
    "print(list(uppercase_string))  # Output: ['H', 'E', 'L', 'L', 'O']"
   ]
  },
  {
   "cell_type": "code",
   "execution_count": 138,
   "metadata": {},
   "outputs": [],
   "source": [
    "#Apply a function to each element in range by using map()\n",
    "#Write your code here"
   ]
  },
  {
   "cell_type": "code",
   "execution_count": 139,
   "metadata": {
    "_kg_hide-input": true
   },
   "outputs": [
    {
     "name": "stdout",
     "output_type": "stream",
     "text": [
      "[0, 2, 4, 6, 8]\n"
     ]
    }
   ],
   "source": [
    "result = map(lambda x: x * 2, range(5))\n",
    "print(list(result))  # Output: [0, 2, 4, 6, 8]"
   ]
  },
  {
   "cell_type": "markdown",
   "metadata": {},
   "source": [
    "### **max()**\n",
    "\n",
    "Return the largest item in an iterable or the largest of two or more arguments.\n",
    "If one positional argument is provided, it should be an iterable. The largest item in the iterable is returned. If two or more positional arguments are provided, the largest of the positional arguments is returned."
   ]
  },
  {
   "cell_type": "code",
   "execution_count": 140,
   "metadata": {},
   "outputs": [
    {
     "name": "stdout",
     "output_type": "stream",
     "text": [
      "9\n"
     ]
    }
   ],
   "source": [
    "#Finding the maximum value using multiple arguments\n",
    "max_value = max(3, 1, 4, 1, 5, 9, 2, 6)\n",
    "print(max_value)  # Output: 9"
   ]
  },
  {
   "cell_type": "code",
   "execution_count": 142,
   "metadata": {},
   "outputs": [
    {
     "name": "stdout",
     "output_type": "stream",
     "text": [
      "w\n"
     ]
    }
   ],
   "source": [
    "#Finding the maximum value in a string:(based on ascii/unicode value)\n",
    "string = \"Hello, world!\"\n",
    "max_char = max(string)\n",
    "print(max_char)  # Output: 'w'"
   ]
  },
  {
   "cell_type": "code",
   "execution_count": 143,
   "metadata": {},
   "outputs": [],
   "source": [
    "#Find the maximum value in a list of numbers\n",
    "#Write your code here"
   ]
  },
  {
   "cell_type": "code",
   "execution_count": 146,
   "metadata": {
    "_kg_hide-input": true
   },
   "outputs": [
    {
     "name": "stdout",
     "output_type": "stream",
     "text": [
      "9\n"
     ]
    }
   ],
   "source": [
    "numbers = [3, 1, 4, 1, 5, 9, 2, 6]\n",
    "max_value = max(numbers)\n",
    "print(max_value)  # Output: 9"
   ]
  },
  {
   "cell_type": "markdown",
   "metadata": {},
   "source": [
    "### **min()**\n",
    "\n",
    "Return the smallest item in an iterable or the smallest of two or more arguments.\n",
    "\n",
    "If one positional argument is provided, it should be an iterable. The smallest item in the iterable is returned. If two or more positional arguments are provided, the smallest of the positional arguments is returned."
   ]
  },
  {
   "cell_type": "code",
   "execution_count": 147,
   "metadata": {},
   "outputs": [
    {
     "name": "stdout",
     "output_type": "stream",
     "text": [
      "date\n"
     ]
    }
   ],
   "source": [
    "#Finding the minimum value using a custom key function:\n",
    "words = [\"apple\", \"banana\", \"cherry\", \"date\"]\n",
    "shortest_word = min(words, key=len)\n",
    "print(shortest_word)  # Output: 'date'"
   ]
  },
  {
   "cell_type": "code",
   "execution_count": 34,
   "metadata": {
    "execution": {
     "iopub.execute_input": "2024-05-03T17:28:48.857173Z",
     "iopub.status.busy": "2024-05-03T17:28:48.856758Z",
     "iopub.status.idle": "2024-05-03T17:28:48.863495Z",
     "shell.execute_reply": "2024-05-03T17:28:48.861923Z",
     "shell.execute_reply.started": "2024-05-03T17:28:48.857141Z"
    },
    "trusted": true
   },
   "outputs": [
    {
     "name": "stdout",
     "output_type": "stream",
     "text": [
      " \n"
     ]
    }
   ],
   "source": [
    "#Finding the minimum value in a string:\n",
    "string = \"Hello, world!\"\n",
    "min_char = min(string)\n",
    "print(min_char)  # Output: ' '\n"
   ]
  },
  {
   "cell_type": "code",
   "execution_count": 152,
   "metadata": {},
   "outputs": [],
   "source": [
    "#Find the minimum value using multiple arguments:\n",
    "#Write your code here"
   ]
  },
  {
   "cell_type": "code",
   "execution_count": 153,
   "metadata": {
    "_kg_hide-input": true
   },
   "outputs": [
    {
     "name": "stdout",
     "output_type": "stream",
     "text": [
      "1\n"
     ]
    }
   ],
   "source": [
    "min_value = min(3, 1, 4, 1, 5, 9, 2, 6)\n",
    "print(min_value)  # Output: 1"
   ]
  },
  {
   "cell_type": "markdown",
   "metadata": {},
   "source": [
    "### **object**\n",
    "Return a new featureless object. object is a base for all classes. It has methods that are common to all instances of Python classes. This function does not accept any arguments."
   ]
  },
  {
   "cell_type": "markdown",
   "metadata": {},
   "source": [
    "### **open()**\n",
    "\n",
    "Open file and return a corresponding file object. If the file cannot be opened, an OSError is raised.\n",
    "\n",
    "> **open(file, mode='r', buffering=-1, encoding=None, errors=None, newline=None, closefd=True, opener=None)**\n",
    "\n",
    "* **file**: This is the name of the file or the path to the file you want to open.\n",
    "* **mode**: This is an optional parameter that specifies the mode in which the file is opened. The default mode is 'r' (read-only).<br>\n",
    "    **'r'**: Read mode. Opens the file for reading only. The file pointer is placed at the beginning of the file.<br>\n",
    "    **'w'**: Write mode. Opens the file for writing only. Overwrites the file if the file exists. If the file does not exist, creates a new file for writing.<br>\n",
    "    **'a'**: Append mode. Opens the file for writing only. The file pointer is at the end of the file if the file exists. If the file does not exist, creates a new file for writing.<br>\n",
    "    **'b'**: Binary mode. Opens the file in binary mode. This is used for non-text files, such as images or executable files.<br>\n",
    "* **buffering**: This is an optional parameter that specifies the buffering policy. The default value of -1 means the system default buffering is used.\n",
    "* **encoding**: This is an optional parameter that specifies the encoding of the file contents. If not specified, the default encoding is used.\n",
    "* **errors**: This is an optional parameter that specifies how encoding and decoding errors are handled.\n",
    "newline: This is an optional parameter that specifies how universal newlines mode works (available in text mode only).\n",
    "* **closefd**: This is an optional parameter that specifies whether to close the underlying file descriptor when the file object is closed.\n",
    "* **opener**: This is an optional parameter that specifies a custom opener."
   ]
  },
  {
   "cell_type": "code",
   "execution_count": 156,
   "metadata": {},
   "outputs": [
    {
     "name": "stdout",
     "output_type": "stream",
     "text": [
      "54\n"
     ]
    }
   ],
   "source": [
    "#creating and writing to a file\n",
    "with open('example.txt', 'w') as file:\n",
    "    content = file.write(\"welcome to Swecha, The free software movement of India\")\n",
    "    print(content)\n",
    "    file.close()"
   ]
  },
  {
   "cell_type": "code",
   "execution_count": 157,
   "metadata": {},
   "outputs": [
    {
     "name": "stdout",
     "output_type": "stream",
     "text": [
      "welcome to Swecha, The free software movement of India\n"
     ]
    }
   ],
   "source": [
    "#Reading from a file\n",
    "with open('example.txt', 'r') as file:\n",
    "    content = file.read()\n",
    "    print(content)\n",
    "    file.close()"
   ]
  },
  {
   "cell_type": "code",
   "execution_count": 159,
   "metadata": {},
   "outputs": [],
   "source": [
    "#Appending to a file\n",
    "with open('example.txt', 'a') as file:\n",
    "    file.write('\\nThis is a new line.')\n",
    "    file.close()"
   ]
  },
  {
   "cell_type": "code",
   "execution_count": 162,
   "metadata": {},
   "outputs": [
    {
     "name": "stdout",
     "output_type": "stream",
     "text": [
      "b'welcome to Swecha, The free software movement of India\\r\\nThis is a new line.\\r\\nThis is a new line.'\n"
     ]
    }
   ],
   "source": [
    "#Reading a binary file\n",
    "with open('example.txt', 'rb') as file:\n",
    "    data = file.read()\n",
    "    print(data)\n",
    "    file.close()\n",
    "    # Process binary data"
   ]
  },
  {
   "cell_type": "markdown",
   "metadata": {},
   "source": [
    "### **print()**\n",
    "\n",
    "Print objects to the text stream file, separated by sep and followed by end. sep, end, file, and flush, if present, must be given as keyword arguments.<br>\n",
    "Output buffering is usually determined by file. However, if flush is true, the stream is forcibly flushed."
   ]
  },
  {
   "cell_type": "code",
   "execution_count": 163,
   "metadata": {},
   "outputs": [
    {
     "name": "stdout",
     "output_type": "stream",
     "text": [
      "Swecha\n"
     ]
    }
   ],
   "source": [
    "print(\"Swecha\")"
   ]
  },
  {
   "cell_type": "code",
   "execution_count": 169,
   "metadata": {},
   "outputs": [
    {
     "name": "stdout",
     "output_type": "stream",
     "text": [
      "welcome to Swecha summer internship!\n"
     ]
    }
   ],
   "source": [
    "print(\"welcome\",\"to\",\"Swecha\",\"summer\",\"internship!\", sep=\" \", end=\"\\n\")"
   ]
  },
  {
   "cell_type": "markdown",
   "metadata": {},
   "source": [
    "### **property()**\n",
    "\n",
    "> **property(fget=None, fset=None, fdel=None, doc=None)**\n",
    "\n",
    "Return a property attribute.\n",
    "\n",
    "* fget is a function for getting an attribute value. \n",
    "* fset is a function for setting an attribute value. \n",
    "* fdel is a function for deleting an attribute value. \n",
    "* doc creates a docstring for the attribute."
   ]
  },
  {
   "cell_type": "code",
   "execution_count": 170,
   "metadata": {},
   "outputs": [
    {
     "name": "stdout",
     "output_type": "stream",
     "text": [
      "300\n"
     ]
    }
   ],
   "source": [
    "#Creates a read-only attribute age_in_months for a Person class. \n",
    "#It calculates the age in months from the private attribute age.\n",
    "\n",
    "class Person:\n",
    "    def __init__(self, name, age):\n",
    "        self.name = name\n",
    "        self.age = age\n",
    "\n",
    "    @property\n",
    "    def age_in_months(self):\n",
    "        return self.age * 12\n",
    "\n",
    "p1 = Person(\"John\", 25)\n",
    "print(p1.age_in_months)  # Output: 300\n"
   ]
  },
  {
   "cell_type": "code",
   "execution_count": 171,
   "metadata": {},
   "outputs": [
    {
     "name": "stdout",
     "output_type": "stream",
     "text": [
      "10\n"
     ]
    }
   ],
   "source": [
    "#creates a Circle class with a radius property. \n",
    "#It ensures the radius is always positive when setting the value.\n",
    "\n",
    "class Circle:\n",
    "    def __init__(self, radius):\n",
    "        self.radius = radius\n",
    "\n",
    "    @property\n",
    "    def radius(self):\n",
    "        return self._radius\n",
    "\n",
    "    @radius.setter\n",
    "    def radius(self, value):\n",
    "        if value <= 0:\n",
    "            raise ValueError(\"Radius cannot be negative\")\n",
    "        self._radius = value\n",
    "\n",
    "circle = Circle(5)\n",
    "circle.radius = 10\n",
    "print(circle.radius)  # Output: 10"
   ]
  },
  {
   "cell_type": "markdown",
   "metadata": {},
   "source": [
    "### **range()**\n",
    "\n",
    "> **range(stop) <br> range(start, stop, step=1)**\n",
    "\n",
    "range() is to create a sequence of numbers. By default, it starts at 0 and goes up to, but not including, the end value you provide."
   ]
  },
  {
   "cell_type": "code",
   "execution_count": 172,
   "metadata": {},
   "outputs": [
    {
     "name": "stdout",
     "output_type": "stream",
     "text": [
      "0\n",
      "\n",
      "1\n",
      "\n",
      "2\n",
      "\n",
      "3\n",
      "\n",
      "4\n"
     ]
    }
   ],
   "source": [
    "# Range from 0 to 4 (excluding 5)\n",
    "numbers = range(5)\n",
    "for num in numbers:\n",
    "  print(num)"
   ]
  },
  {
   "cell_type": "code",
   "execution_count": 173,
   "metadata": {},
   "outputs": [
    {
     "name": "stdout",
     "output_type": "stream",
     "text": [
      "1\n",
      "\n",
      "2\n",
      "\n",
      "3\n",
      "\n",
      "4\n",
      "\n",
      "5\n"
     ]
    }
   ],
   "source": [
    "# Range from 1 to 6 (excluding 6)\n",
    "numbers = range(1, 6)\n",
    "for num in numbers:\n",
    "  print(num)"
   ]
  },
  {
   "cell_type": "code",
   "execution_count": 175,
   "metadata": {},
   "outputs": [
    {
     "name": "stdout",
     "output_type": "stream",
     "text": [
      "2\n",
      "\n",
      "5\n",
      "\n",
      "8\n",
      "\n",
      "11\n",
      "\n",
      "14\n",
      "\n",
      "17\n"
     ]
    }
   ],
   "source": [
    "# Range from 2 to 20 with steps of 3\n",
    "numbers = range(2, 20, 3)\n",
    "for num in numbers:\n",
    "  print(num)"
   ]
  },
  {
   "cell_type": "markdown",
   "metadata": {},
   "source": [
    "### **round(number, ndigits=None)**\n",
    "\n",
    "Return number rounded to ndigits precision after the decimal point. If ndigits is omitted or is None, it returns the nearest integer to its input.\n",
    "For the built-in types supporting round(), values are rounded to the closest multiple of 10 to the power minus ndigits; if two multiples are equally close, rounding is done toward the even choice (so, for example, both round(0.5) and round(-0.5) are 0, and round(1.5) is 2). Any integer value is valid for ndigits (positive, zero, or negative). The return value is an integer if ndigits is omitted or None. Otherwise, the return value has the same type as number."
   ]
  },
  {
   "cell_type": "code",
   "execution_count": 35,
   "metadata": {
    "execution": {
     "iopub.execute_input": "2024-05-03T17:29:36.558551Z",
     "iopub.status.busy": "2024-05-03T17:29:36.558112Z",
     "iopub.status.idle": "2024-05-03T17:29:36.565679Z",
     "shell.execute_reply": "2024-05-03T17:29:36.564116Z",
     "shell.execute_reply.started": "2024-05-03T17:29:36.558512Z"
    },
    "trusted": true
   },
   "outputs": [
    {
     "name": "stdout",
     "output_type": "stream",
     "text": [
      "3\n",
      "3.14\n",
      "-2\n"
     ]
    }
   ],
   "source": [
    "print(round(3.14159)) # Output: 3\n",
    "print(round(3.14159, 2)) # Output: 3.14\n",
    "print(round(-2.5)) # Output: -2 (rounds towards zero)"
   ]
  },
  {
   "cell_type": "markdown",
   "metadata": {},
   "source": [
    "### **slice(stop)<br> slice(start, stop, step=None)**\n",
    "\n",
    "Return a slice object representing the set of indices specified by range(start, stop, step). The start and step arguments default to None.<br>\n",
    "Slice objects have read-only data attributes **start, stop, and step** which merely return the argument values (or their default). They have no other explicit functionality; however, they are used by NumPy and other third-party packages."
   ]
  },
  {
   "cell_type": "code",
   "execution_count": 178,
   "metadata": {},
   "outputs": [
    {
     "name": "stdout",
     "output_type": "stream",
     "text": [
      "[3, 4, 5]\n"
     ]
    }
   ],
   "source": [
    "#Extracting a portion of a list\n",
    "numbers = [1, 2, 3, 4, 5, 6, 7]\n",
    "sliced_list = numbers[2:5]\n",
    "print(sliced_list)  # Output: [3, 4, 5]"
   ]
  },
  {
   "cell_type": "code",
   "execution_count": 179,
   "metadata": {},
   "outputs": [
    {
     "name": "stdout",
     "output_type": "stream",
     "text": [
      "[4, 5, 6, 7]\n"
     ]
    }
   ],
   "source": [
    "#Extracting everything from a specific index to the end\n",
    "numbers = [1, 2, 3, 4, 5, 6, 7]\n",
    "sliced_list = numbers[3:]\n",
    "print(sliced_list)  # Output: [4, 5, 6, 7]"
   ]
  },
  {
   "cell_type": "code",
   "execution_count": 180,
   "metadata": {},
   "outputs": [
    {
     "name": "stdout",
     "output_type": "stream",
     "text": [
      "[1, 2, 3, 4]\n"
     ]
    }
   ],
   "source": [
    "#Extracting everything up to a specific index\n",
    "numbers = [1, 2, 3, 4, 5, 6, 7]\n",
    "sliced_list = numbers[:4]\n",
    "print(sliced_list)  # Output: [1, 2, 3, 4]"
   ]
  },
  {
   "cell_type": "code",
   "execution_count": 181,
   "metadata": {},
   "outputs": [
    {
     "name": "stdout",
     "output_type": "stream",
     "text": [
      "[5, 6, 7]\n"
     ]
    }
   ],
   "source": [
    "#Negative indexing\n",
    "numbers = [1, 2, 3, 4, 5, 6, 7]\n",
    "sliced_list = numbers[-3:]  # Get the last 3 elements\n",
    "print(sliced_list)  # Output: [5, 6, 7]"
   ]
  },
  {
   "cell_type": "code",
   "execution_count": 182,
   "metadata": {},
   "outputs": [
    {
     "name": "stdout",
     "output_type": "stream",
     "text": [
      "[7, 6, 5, 4, 3, 2, 1]\n"
     ]
    }
   ],
   "source": [
    "#Reversing a list\n",
    "numbers = [1, 2, 3, 4, 5, 6, 7]\n",
    "reversed_list = numbers[::-1]\n",
    "print(reversed_list)  # Output: [7, 6, 5, 4, 3, 2, 1]"
   ]
  },
  {
   "cell_type": "markdown",
   "metadata": {},
   "source": [
    "### **sorted()**\n",
    "\n",
    "> **sorted(iterable, /, *, key=None, reverse=False)**\n",
    "\n",
    "Return a new sorted list from the items in iterable.\n",
    "\n",
    "* key specifies a function of one argument that is used to extract a comparison key from each element in iterable (for example, key=str.lower). The default value is None (compare the elements directly).\n",
    "\n",
    "* reverse is a boolean value. If set to True, then the list elements are sorted as if each comparison were reversed."
   ]
  },
  {
   "cell_type": "code",
   "execution_count": 183,
   "metadata": {},
   "outputs": [
    {
     "name": "stdout",
     "output_type": "stream",
     "text": [
      "[1, 2, 3, 4, 5]\n"
     ]
    }
   ],
   "source": [
    "#Sorting a list of numbers (ascending order)\n",
    "numbers = [3, 1, 4, 5, 2]\n",
    "sorted_numbers = sorted(numbers)\n",
    "print(sorted_numbers)  # Output: [1, 2, 3, 4, 5]"
   ]
  },
  {
   "cell_type": "code",
   "execution_count": 184,
   "metadata": {},
   "outputs": [
    {
     "name": "stdout",
     "output_type": "stream",
     "text": [
      "['apple', 'banana', 'cherry']\n"
     ]
    }
   ],
   "source": [
    "#Sorting a list of strings (alphabetical order)\n",
    "words = [\"apple\", \"cherry\", \"banana\"]\n",
    "sorted_words = sorted(words)\n",
    "print(sorted_words)  # Output: ['apple', 'banana', 'cherry']"
   ]
  },
  {
   "cell_type": "code",
   "execution_count": 185,
   "metadata": {},
   "outputs": [
    {
     "name": "stdout",
     "output_type": "stream",
     "text": [
      "[5, 4, 3, 2, 1]\n"
     ]
    }
   ],
   "source": [
    "# Sorting in descending order (reverse=True)\n",
    "sorted_numbers_desc = sorted(numbers, reverse=True)\n",
    "print(sorted_numbers_desc)  # Output: [5, 4, 3, 2, 1]"
   ]
  },
  {
   "cell_type": "code",
   "execution_count": 188,
   "metadata": {},
   "outputs": [
    {
     "name": "stdout",
     "output_type": "stream",
     "text": [
      "[(1, 'a'), (2, 'b'), (3, 'c')]\n"
     ]
    }
   ],
   "source": [
    "#Sorting a list of tuples with a custom key (sorting by second element)\n",
    "def by_second(item):\n",
    "  return item[1]\n",
    "mixed_list=[(2, 'b'), (1, 'a'), (3, 'c')]\n",
    "sorted_by_second = sorted(mixed_list, key=by_second)\n",
    "print(sorted_by_second)  # Output: [(1, 'a'), (2, 'b'), (3, 'c')]"
   ]
  },
  {
   "cell_type": "markdown",
   "metadata": {},
   "source": [
    "### **sum()**\n",
    "\n",
    "Sums start and the items of an iterable from left to right and returns the total. The iterable’s items are normally numbers, and the start value is not allowed to be a string."
   ]
  },
  {
   "cell_type": "code",
   "execution_count": 189,
   "metadata": {},
   "outputs": [
    {
     "name": "stdout",
     "output_type": "stream",
     "text": [
      "15\n"
     ]
    }
   ],
   "source": [
    "#Finding the sum of a list of numbers\n",
    "numbers = [3, 1, 4, 5, 2]\n",
    "total_sum = sum(numbers)\n",
    "print(total_sum)  # Output: 15"
   ]
  },
  {
   "cell_type": "code",
   "execution_count": 190,
   "metadata": {},
   "outputs": [
    {
     "name": "stdout",
     "output_type": "stream",
     "text": [
      "25\n"
     ]
    }
   ],
   "source": [
    "#Finding the sum with a starting value:\n",
    "numbers = [3, 1, 4, 5, 2]\n",
    "sum_with_start = sum(numbers, start=10)\n",
    "print(sum_with_start)  # Output: 25 (10 + sum of numbers)"
   ]
  },
  {
   "cell_type": "code",
   "execution_count": 191,
   "metadata": {},
   "outputs": [
    {
     "name": "stdout",
     "output_type": "stream",
     "text": [
      "55\n"
     ]
    }
   ],
   "source": [
    "#Finding the sum of squares in a list:\n",
    "numbers = [3, 1, 4, 5, 2]\n",
    "squares_sum = sum(number * number for number in numbers)\n",
    "print(squares_sum)  # Output: 55 (3^2 + 1^2 + 4^2 + 5^2 + 2^2)"
   ]
  },
  {
   "cell_type": "markdown",
   "metadata": {},
   "source": [
    "### **type()**\n",
    "\n",
    "With one argument, return the type of an object. The return value is a type object and generally the same object as returned by object.__class__."
   ]
  },
  {
   "cell_type": "code",
   "execution_count": 192,
   "metadata": {},
   "outputs": [
    {
     "name": "stdout",
     "output_type": "stream",
     "text": [
      "<class 'int'>\n",
      "\n",
      "<class 'float'>\n",
      "\n",
      "<class 'str'>\n",
      "\n",
      "<class 'bool'>\n",
      "\n",
      "<class 'NoneType'>\n"
     ]
    }
   ],
   "source": [
    "#Checking the data type of a variable\n",
    "x = 3  # Integer\n",
    "print(type(x))  # Output: <class 'int'>\n",
    "\n",
    "y = 3.14  # Float\n",
    "print(type(y))  # Output: <class 'float'>\n",
    "\n",
    "z = \"Hello\"  # String\n",
    "print(type(z))  # Output: <class 'str'>\n",
    "\n",
    "a = True  # Boolean\n",
    "print(type(a))  # Output: <class 'bool'>\n",
    "\n",
    "b = None  # NoneType\n",
    "print(type(b))  # Output: <class 'NoneType'>\n"
   ]
  },
  {
   "cell_type": "code",
   "execution_count": 193,
   "metadata": {},
   "outputs": [
    {
     "name": "stdout",
     "output_type": "stream",
     "text": [
      "<class 'list'>\n",
      "\n",
      "<class 'tuple'>\n",
      "\n",
      "<class 'dict'>\n",
      "\n",
      "<class '__main__.MyClass'>\n"
     ]
    }
   ],
   "source": [
    "#Checking the type of user-defined data structures\n",
    "my_list = [1, 2, 3]\n",
    "print(type(my_list))  # Output: <class 'list'>\n",
    "\n",
    "my_tuple = (1, 2, 3)\n",
    "print(type(my_tuple))  # Output: <class 'tuple'>\n",
    "\n",
    "my_dict = {\"name\": \"Alice\", \"age\": 30}\n",
    "print(type(my_dict))  # Output: <class 'dict'>\n",
    "\n",
    "my_class = MyClass()  # Assuming you have a class named MyClass\n",
    "print(type(my_class))  # Output: <class '__main__.MyClass'>"
   ]
  },
  {
   "cell_type": "markdown",
   "metadata": {},
   "source": [
    "### **zip()**\n",
    "\n",
    "> **zip(*iterables, strict=False)**\n",
    "\n",
    "Iterate over several iterables in parallel, producing tuples with an item from each one."
   ]
  },
  {
   "cell_type": "code",
   "execution_count": 194,
   "metadata": {},
   "outputs": [
    {
     "name": "stdout",
     "output_type": "stream",
     "text": [
      "[('a', 1), ('b', 2), ('c', 3)]\n"
     ]
    }
   ],
   "source": [
    "#Combining two lists into pairs\n",
    "# Create lists\n",
    "letters = [\"a\", \"b\", \"c\"]\n",
    "numbers = [1, 2, 3]\n",
    "\n",
    "# Use zip to create tuples of corresponding elements\n",
    "zipped_data = zip(letters, numbers)\n",
    "\n",
    "# Print the zipped object (iterator) directly (it won't show the elements)\n",
    "# print(zipped_data)  # Output: <zip object at 0x000002A0C7F5B940>\n",
    "\n",
    "# Convert the zipped object to a list to see the elements\n",
    "list_of_tuples = list(zipped_data)\n",
    "print(list_of_tuples)  # Output: [('a', 1), ('b', 2), ('c', 3)]"
   ]
  },
  {
   "cell_type": "code",
   "execution_count": 195,
   "metadata": {
    "execution": {
     "iopub.execute_input": "2024-05-03T08:58:19.010771Z",
     "iopub.status.busy": "2024-05-03T08:58:19.010419Z",
     "iopub.status.idle": "2024-05-03T08:58:19.016640Z",
     "shell.execute_reply": "2024-05-03T08:58:19.015365Z",
     "shell.execute_reply.started": "2024-05-03T08:58:19.010746Z"
    },
    "trusted": true
   },
   "outputs": [
    {
     "name": "stdout",
     "output_type": "stream",
     "text": [
      "Letter: a, Number: 1\n",
      "\n",
      "Letter: b, Number: 2\n",
      "\n",
      "Letter: c, Number: 3\n"
     ]
    }
   ],
   "source": [
    "#Unpacking elements from zipped data\n",
    "letters = ('a','b','c')\n",
    "numbers = (1,2,3)\n",
    "# Unzip the elements into separate variables\n",
    "for letter, number in zip(letters, numbers):\n",
    "  print(f\"Letter: {letter}, Number: {number}\")\n",
    "\n",
    "# Output:\n",
    "# Letter: a, Number: 1\n",
    "# Letter: b, Number: 2\n",
    "# Letter: c, Number: 3"
   ]
  },
  {
   "cell_type": "code",
   "execution_count": 196,
   "metadata": {
    "execution": {
     "iopub.execute_input": "2024-05-03T08:59:55.107254Z",
     "iopub.status.busy": "2024-05-03T08:59:55.106825Z",
     "iopub.status.idle": "2024-05-03T08:59:55.113908Z",
     "shell.execute_reply": "2024-05-03T08:59:55.112703Z",
     "shell.execute_reply.started": "2024-05-03T08:59:55.107220Z"
    },
    "trusted": true
   },
   "outputs": [
    {
     "name": "stdout",
     "output_type": "stream",
     "text": [
      "[('a', 1), ('b', 2), ('c', 3)]\n"
     ]
    }
   ],
   "source": [
    "#Working with iterables of different lengths\n",
    "letters = [\"a\", \"b\", \"c\", \"d\"]\n",
    "numbers = [1, 2, 3]\n",
    "\n",
    "zipped_data = zip(letters, numbers)\n",
    "print(list(zipped_data))  # Output: [('a', 1), ('b', 2), ('c', 3)]\n",
    "\n",
    "#zip() stops iterating when the shortest iterable is exhausted"
   ]
  },
  {
   "cell_type": "code",
   "execution_count": null,
   "metadata": {},
   "outputs": [],
   "source": []
  }
 ],
 "metadata": {
  "kaggle": {
   "accelerator": "none",
   "dataSources": [],
   "dockerImageVersionId": 30698,
   "isGpuEnabled": false,
   "isInternetEnabled": true,
   "language": "python",
   "sourceType": "notebook"
  },
  "kernelspec": {
   "display_name": "venv (3.11.9)",
   "language": "python",
   "name": "python3"
  },
  "language_info": {
   "codemirror_mode": {
    "name": "ipython",
    "version": 3
   },
   "file_extension": ".py",
   "mimetype": "text/x-python",
   "name": "python",
   "nbconvert_exporter": "python",
   "pygments_lexer": "ipython3",
   "version": "3.11.9"
  }
 },
 "nbformat": 4,
 "nbformat_minor": 4
}
